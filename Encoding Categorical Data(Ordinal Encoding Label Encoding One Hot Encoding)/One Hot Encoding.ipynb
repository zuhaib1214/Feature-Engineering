{
 "cells": [
  {
   "cell_type": "code",
   "execution_count": 3,
   "id": "e0b40721",
   "metadata": {},
   "outputs": [],
   "source": [
    "import pandas as pd\n",
    "import numpy as np\n",
    "import seaborn as sns\n",
    "import matplotlib.pyplot as plt"
   ]
  },
  {
   "cell_type": "code",
   "execution_count": 4,
   "id": "346d54d8",
   "metadata": {},
   "outputs": [],
   "source": [
    "df=pd.read_csv('cars.csv')"
   ]
  },
  {
   "cell_type": "code",
   "execution_count": 5,
   "id": "18f940b3",
   "metadata": {},
   "outputs": [
    {
     "data": {
      "text/plain": "         brand  km_driven    fuel                 owner  selling_price\n2404      Tata      20000  Petrol           First Owner         390000\n6919    Maruti      65000  Petrol  Fourth & Above Owner          70000\n4352      Tata     225000  Diesel           Third Owner         150000\n7158   Hyundai      20000  Petrol           First Owner         655000\n1780   Hyundai      70000  Diesel          Second Owner         320000\n877   Mahindra     120000  Diesel          Second Owner         480000\n4311    Maruti      13000  Petrol           First Owner         310000\n5306   Renault      30000  Petrol           First Owner         900000\n4827    Maruti      69779  Petrol           First Owner         600000\n2689    Maruti      50000  Diesel           First Owner         490000",
      "text/html": "<div>\n<style scoped>\n    .dataframe tbody tr th:only-of-type {\n        vertical-align: middle;\n    }\n\n    .dataframe tbody tr th {\n        vertical-align: top;\n    }\n\n    .dataframe thead th {\n        text-align: right;\n    }\n</style>\n<table border=\"1\" class=\"dataframe\">\n  <thead>\n    <tr style=\"text-align: right;\">\n      <th></th>\n      <th>brand</th>\n      <th>km_driven</th>\n      <th>fuel</th>\n      <th>owner</th>\n      <th>selling_price</th>\n    </tr>\n  </thead>\n  <tbody>\n    <tr>\n      <th>2404</th>\n      <td>Tata</td>\n      <td>20000</td>\n      <td>Petrol</td>\n      <td>First Owner</td>\n      <td>390000</td>\n    </tr>\n    <tr>\n      <th>6919</th>\n      <td>Maruti</td>\n      <td>65000</td>\n      <td>Petrol</td>\n      <td>Fourth &amp; Above Owner</td>\n      <td>70000</td>\n    </tr>\n    <tr>\n      <th>4352</th>\n      <td>Tata</td>\n      <td>225000</td>\n      <td>Diesel</td>\n      <td>Third Owner</td>\n      <td>150000</td>\n    </tr>\n    <tr>\n      <th>7158</th>\n      <td>Hyundai</td>\n      <td>20000</td>\n      <td>Petrol</td>\n      <td>First Owner</td>\n      <td>655000</td>\n    </tr>\n    <tr>\n      <th>1780</th>\n      <td>Hyundai</td>\n      <td>70000</td>\n      <td>Diesel</td>\n      <td>Second Owner</td>\n      <td>320000</td>\n    </tr>\n    <tr>\n      <th>877</th>\n      <td>Mahindra</td>\n      <td>120000</td>\n      <td>Diesel</td>\n      <td>Second Owner</td>\n      <td>480000</td>\n    </tr>\n    <tr>\n      <th>4311</th>\n      <td>Maruti</td>\n      <td>13000</td>\n      <td>Petrol</td>\n      <td>First Owner</td>\n      <td>310000</td>\n    </tr>\n    <tr>\n      <th>5306</th>\n      <td>Renault</td>\n      <td>30000</td>\n      <td>Petrol</td>\n      <td>First Owner</td>\n      <td>900000</td>\n    </tr>\n    <tr>\n      <th>4827</th>\n      <td>Maruti</td>\n      <td>69779</td>\n      <td>Petrol</td>\n      <td>First Owner</td>\n      <td>600000</td>\n    </tr>\n    <tr>\n      <th>2689</th>\n      <td>Maruti</td>\n      <td>50000</td>\n      <td>Diesel</td>\n      <td>First Owner</td>\n      <td>490000</td>\n    </tr>\n  </tbody>\n</table>\n</div>"
     },
     "execution_count": 5,
     "metadata": {},
     "output_type": "execute_result"
    }
   ],
   "source": [
    "df.sample(10)"
   ]
  },
  {
   "cell_type": "code",
   "execution_count": 6,
   "id": "9474281a",
   "metadata": {},
   "outputs": [
    {
     "data": {
      "text/plain": "Maruti           2448\nHyundai          1415\nMahindra          772\nTata              734\nToyota            488\nHonda             467\nFord              397\nChevrolet         230\nRenault           228\nVolkswagen        186\nBMW               120\nSkoda             105\nNissan             81\nJaguar             71\nVolvo              67\nDatsun             65\nMercedes-Benz      54\nFiat               47\nAudi               40\nLexus              34\nJeep               31\nMitsubishi         14\nForce               6\nLand                6\nIsuzu               5\nKia                 4\nAmbassador          4\nDaewoo              3\nMG                  3\nAshok               1\nOpel                1\nPeugeot             1\nName: brand, dtype: int64"
     },
     "execution_count": 6,
     "metadata": {},
     "output_type": "execute_result"
    }
   ],
   "source": [
    "df['brand'].value_counts()"
   ]
  },
  {
   "cell_type": "code",
   "execution_count": 7,
   "id": "cede4fa4",
   "metadata": {},
   "outputs": [
    {
     "data": {
      "text/plain": "32"
     },
     "execution_count": 7,
     "metadata": {},
     "output_type": "execute_result"
    }
   ],
   "source": [
    "df['brand'].nunique()"
   ]
  },
  {
   "cell_type": "code",
   "execution_count": 8,
   "id": "6785d847",
   "metadata": {},
   "outputs": [
    {
     "data": {
      "text/plain": "Diesel    4402\nPetrol    3631\nCNG         57\nLPG         38\nName: fuel, dtype: int64"
     },
     "execution_count": 8,
     "metadata": {},
     "output_type": "execute_result"
    }
   ],
   "source": [
    "df['fuel'].value_counts()"
   ]
  },
  {
   "cell_type": "code",
   "execution_count": 9,
   "id": "dae444a9",
   "metadata": {},
   "outputs": [
    {
     "data": {
      "text/plain": "4"
     },
     "execution_count": 9,
     "metadata": {},
     "output_type": "execute_result"
    }
   ],
   "source": [
    "df['fuel'].nunique()"
   ]
  },
  {
   "cell_type": "code",
   "execution_count": 10,
   "id": "097d0737",
   "metadata": {},
   "outputs": [
    {
     "data": {
      "text/plain": "First Owner             5289\nSecond Owner            2105\nThird Owner              555\nFourth & Above Owner     174\nTest Drive Car             5\nName: owner, dtype: int64"
     },
     "execution_count": 10,
     "metadata": {},
     "output_type": "execute_result"
    }
   ],
   "source": [
    "df['owner'].value_counts()"
   ]
  },
  {
   "cell_type": "code",
   "execution_count": 11,
   "id": "7b9c762a",
   "metadata": {},
   "outputs": [
    {
     "data": {
      "text/plain": "5"
     },
     "execution_count": 11,
     "metadata": {},
     "output_type": "execute_result"
    }
   ],
   "source": [
    "df['owner'].nunique()"
   ]
  },
  {
   "cell_type": "markdown",
   "id": "18f0e212",
   "metadata": {},
   "source": [
    "# One HOt encoding using Pandas"
   ]
  },
  {
   "cell_type": "code",
   "execution_count": 12,
   "id": "1b75dacd",
   "metadata": {},
   "outputs": [
    {
     "data": {
      "text/plain": "        brand  km_driven  selling_price  fuel_CNG  fuel_Diesel  fuel_LPG  \\\n0      Maruti     145500         450000         0            1         0   \n1       Skoda     120000         370000         0            1         0   \n2       Honda     140000         158000         0            0         0   \n3     Hyundai     127000         225000         0            1         0   \n4      Maruti     120000         130000         0            0         0   \n...       ...        ...            ...       ...          ...       ...   \n8123  Hyundai     110000         320000         0            0         0   \n8124  Hyundai     119000         135000         0            1         0   \n8125   Maruti     120000         382000         0            1         0   \n8126     Tata      25000         290000         0            1         0   \n8127     Tata      25000         290000         0            1         0   \n\n      fuel_Petrol  owner_First Owner  owner_Fourth & Above Owner  \\\n0               0                  1                           0   \n1               0                  0                           0   \n2               1                  0                           0   \n3               0                  1                           0   \n4               1                  1                           0   \n...           ...                ...                         ...   \n8123            1                  1                           0   \n8124            0                  0                           1   \n8125            0                  1                           0   \n8126            0                  1                           0   \n8127            0                  1                           0   \n\n      owner_Second Owner  owner_Test Drive Car  owner_Third Owner  \n0                      0                     0                  0  \n1                      1                     0                  0  \n2                      0                     0                  1  \n3                      0                     0                  0  \n4                      0                     0                  0  \n...                  ...                   ...                ...  \n8123                   0                     0                  0  \n8124                   0                     0                  0  \n8125                   0                     0                  0  \n8126                   0                     0                  0  \n8127                   0                     0                  0  \n\n[8128 rows x 12 columns]",
      "text/html": "<div>\n<style scoped>\n    .dataframe tbody tr th:only-of-type {\n        vertical-align: middle;\n    }\n\n    .dataframe tbody tr th {\n        vertical-align: top;\n    }\n\n    .dataframe thead th {\n        text-align: right;\n    }\n</style>\n<table border=\"1\" class=\"dataframe\">\n  <thead>\n    <tr style=\"text-align: right;\">\n      <th></th>\n      <th>brand</th>\n      <th>km_driven</th>\n      <th>selling_price</th>\n      <th>fuel_CNG</th>\n      <th>fuel_Diesel</th>\n      <th>fuel_LPG</th>\n      <th>fuel_Petrol</th>\n      <th>owner_First Owner</th>\n      <th>owner_Fourth &amp; Above Owner</th>\n      <th>owner_Second Owner</th>\n      <th>owner_Test Drive Car</th>\n      <th>owner_Third Owner</th>\n    </tr>\n  </thead>\n  <tbody>\n    <tr>\n      <th>0</th>\n      <td>Maruti</td>\n      <td>145500</td>\n      <td>450000</td>\n      <td>0</td>\n      <td>1</td>\n      <td>0</td>\n      <td>0</td>\n      <td>1</td>\n      <td>0</td>\n      <td>0</td>\n      <td>0</td>\n      <td>0</td>\n    </tr>\n    <tr>\n      <th>1</th>\n      <td>Skoda</td>\n      <td>120000</td>\n      <td>370000</td>\n      <td>0</td>\n      <td>1</td>\n      <td>0</td>\n      <td>0</td>\n      <td>0</td>\n      <td>0</td>\n      <td>1</td>\n      <td>0</td>\n      <td>0</td>\n    </tr>\n    <tr>\n      <th>2</th>\n      <td>Honda</td>\n      <td>140000</td>\n      <td>158000</td>\n      <td>0</td>\n      <td>0</td>\n      <td>0</td>\n      <td>1</td>\n      <td>0</td>\n      <td>0</td>\n      <td>0</td>\n      <td>0</td>\n      <td>1</td>\n    </tr>\n    <tr>\n      <th>3</th>\n      <td>Hyundai</td>\n      <td>127000</td>\n      <td>225000</td>\n      <td>0</td>\n      <td>1</td>\n      <td>0</td>\n      <td>0</td>\n      <td>1</td>\n      <td>0</td>\n      <td>0</td>\n      <td>0</td>\n      <td>0</td>\n    </tr>\n    <tr>\n      <th>4</th>\n      <td>Maruti</td>\n      <td>120000</td>\n      <td>130000</td>\n      <td>0</td>\n      <td>0</td>\n      <td>0</td>\n      <td>1</td>\n      <td>1</td>\n      <td>0</td>\n      <td>0</td>\n      <td>0</td>\n      <td>0</td>\n    </tr>\n    <tr>\n      <th>...</th>\n      <td>...</td>\n      <td>...</td>\n      <td>...</td>\n      <td>...</td>\n      <td>...</td>\n      <td>...</td>\n      <td>...</td>\n      <td>...</td>\n      <td>...</td>\n      <td>...</td>\n      <td>...</td>\n      <td>...</td>\n    </tr>\n    <tr>\n      <th>8123</th>\n      <td>Hyundai</td>\n      <td>110000</td>\n      <td>320000</td>\n      <td>0</td>\n      <td>0</td>\n      <td>0</td>\n      <td>1</td>\n      <td>1</td>\n      <td>0</td>\n      <td>0</td>\n      <td>0</td>\n      <td>0</td>\n    </tr>\n    <tr>\n      <th>8124</th>\n      <td>Hyundai</td>\n      <td>119000</td>\n      <td>135000</td>\n      <td>0</td>\n      <td>1</td>\n      <td>0</td>\n      <td>0</td>\n      <td>0</td>\n      <td>1</td>\n      <td>0</td>\n      <td>0</td>\n      <td>0</td>\n    </tr>\n    <tr>\n      <th>8125</th>\n      <td>Maruti</td>\n      <td>120000</td>\n      <td>382000</td>\n      <td>0</td>\n      <td>1</td>\n      <td>0</td>\n      <td>0</td>\n      <td>1</td>\n      <td>0</td>\n      <td>0</td>\n      <td>0</td>\n      <td>0</td>\n    </tr>\n    <tr>\n      <th>8126</th>\n      <td>Tata</td>\n      <td>25000</td>\n      <td>290000</td>\n      <td>0</td>\n      <td>1</td>\n      <td>0</td>\n      <td>0</td>\n      <td>1</td>\n      <td>0</td>\n      <td>0</td>\n      <td>0</td>\n      <td>0</td>\n    </tr>\n    <tr>\n      <th>8127</th>\n      <td>Tata</td>\n      <td>25000</td>\n      <td>290000</td>\n      <td>0</td>\n      <td>1</td>\n      <td>0</td>\n      <td>0</td>\n      <td>1</td>\n      <td>0</td>\n      <td>0</td>\n      <td>0</td>\n      <td>0</td>\n    </tr>\n  </tbody>\n</table>\n<p>8128 rows × 12 columns</p>\n</div>"
     },
     "execution_count": 12,
     "metadata": {},
     "output_type": "execute_result"
    }
   ],
   "source": [
    "pd.get_dummies(df,columns=['fuel','owner']) #multicolinearlity isn't removed\n"
   ]
  },
  {
   "cell_type": "code",
   "execution_count": 13,
   "id": "de91384e",
   "metadata": {},
   "outputs": [
    {
     "data": {
      "text/plain": "        brand  km_driven  selling_price  fuel_Diesel  fuel_LPG  fuel_Petrol  \\\n0      Maruti     145500         450000            1         0            0   \n1       Skoda     120000         370000            1         0            0   \n2       Honda     140000         158000            0         0            1   \n3     Hyundai     127000         225000            1         0            0   \n4      Maruti     120000         130000            0         0            1   \n...       ...        ...            ...          ...       ...          ...   \n8123  Hyundai     110000         320000            0         0            1   \n8124  Hyundai     119000         135000            1         0            0   \n8125   Maruti     120000         382000            1         0            0   \n8126     Tata      25000         290000            1         0            0   \n8127     Tata      25000         290000            1         0            0   \n\n      owner_Fourth & Above Owner  owner_Second Owner  owner_Test Drive Car  \\\n0                              0                   0                     0   \n1                              0                   1                     0   \n2                              0                   0                     0   \n3                              0                   0                     0   \n4                              0                   0                     0   \n...                          ...                 ...                   ...   \n8123                           0                   0                     0   \n8124                           1                   0                     0   \n8125                           0                   0                     0   \n8126                           0                   0                     0   \n8127                           0                   0                     0   \n\n      owner_Third Owner  \n0                     0  \n1                     0  \n2                     1  \n3                     0  \n4                     0  \n...                 ...  \n8123                  0  \n8124                  0  \n8125                  0  \n8126                  0  \n8127                  0  \n\n[8128 rows x 10 columns]",
      "text/html": "<div>\n<style scoped>\n    .dataframe tbody tr th:only-of-type {\n        vertical-align: middle;\n    }\n\n    .dataframe tbody tr th {\n        vertical-align: top;\n    }\n\n    .dataframe thead th {\n        text-align: right;\n    }\n</style>\n<table border=\"1\" class=\"dataframe\">\n  <thead>\n    <tr style=\"text-align: right;\">\n      <th></th>\n      <th>brand</th>\n      <th>km_driven</th>\n      <th>selling_price</th>\n      <th>fuel_Diesel</th>\n      <th>fuel_LPG</th>\n      <th>fuel_Petrol</th>\n      <th>owner_Fourth &amp; Above Owner</th>\n      <th>owner_Second Owner</th>\n      <th>owner_Test Drive Car</th>\n      <th>owner_Third Owner</th>\n    </tr>\n  </thead>\n  <tbody>\n    <tr>\n      <th>0</th>\n      <td>Maruti</td>\n      <td>145500</td>\n      <td>450000</td>\n      <td>1</td>\n      <td>0</td>\n      <td>0</td>\n      <td>0</td>\n      <td>0</td>\n      <td>0</td>\n      <td>0</td>\n    </tr>\n    <tr>\n      <th>1</th>\n      <td>Skoda</td>\n      <td>120000</td>\n      <td>370000</td>\n      <td>1</td>\n      <td>0</td>\n      <td>0</td>\n      <td>0</td>\n      <td>1</td>\n      <td>0</td>\n      <td>0</td>\n    </tr>\n    <tr>\n      <th>2</th>\n      <td>Honda</td>\n      <td>140000</td>\n      <td>158000</td>\n      <td>0</td>\n      <td>0</td>\n      <td>1</td>\n      <td>0</td>\n      <td>0</td>\n      <td>0</td>\n      <td>1</td>\n    </tr>\n    <tr>\n      <th>3</th>\n      <td>Hyundai</td>\n      <td>127000</td>\n      <td>225000</td>\n      <td>1</td>\n      <td>0</td>\n      <td>0</td>\n      <td>0</td>\n      <td>0</td>\n      <td>0</td>\n      <td>0</td>\n    </tr>\n    <tr>\n      <th>4</th>\n      <td>Maruti</td>\n      <td>120000</td>\n      <td>130000</td>\n      <td>0</td>\n      <td>0</td>\n      <td>1</td>\n      <td>0</td>\n      <td>0</td>\n      <td>0</td>\n      <td>0</td>\n    </tr>\n    <tr>\n      <th>...</th>\n      <td>...</td>\n      <td>...</td>\n      <td>...</td>\n      <td>...</td>\n      <td>...</td>\n      <td>...</td>\n      <td>...</td>\n      <td>...</td>\n      <td>...</td>\n      <td>...</td>\n    </tr>\n    <tr>\n      <th>8123</th>\n      <td>Hyundai</td>\n      <td>110000</td>\n      <td>320000</td>\n      <td>0</td>\n      <td>0</td>\n      <td>1</td>\n      <td>0</td>\n      <td>0</td>\n      <td>0</td>\n      <td>0</td>\n    </tr>\n    <tr>\n      <th>8124</th>\n      <td>Hyundai</td>\n      <td>119000</td>\n      <td>135000</td>\n      <td>1</td>\n      <td>0</td>\n      <td>0</td>\n      <td>1</td>\n      <td>0</td>\n      <td>0</td>\n      <td>0</td>\n    </tr>\n    <tr>\n      <th>8125</th>\n      <td>Maruti</td>\n      <td>120000</td>\n      <td>382000</td>\n      <td>1</td>\n      <td>0</td>\n      <td>0</td>\n      <td>0</td>\n      <td>0</td>\n      <td>0</td>\n      <td>0</td>\n    </tr>\n    <tr>\n      <th>8126</th>\n      <td>Tata</td>\n      <td>25000</td>\n      <td>290000</td>\n      <td>1</td>\n      <td>0</td>\n      <td>0</td>\n      <td>0</td>\n      <td>0</td>\n      <td>0</td>\n      <td>0</td>\n    </tr>\n    <tr>\n      <th>8127</th>\n      <td>Tata</td>\n      <td>25000</td>\n      <td>290000</td>\n      <td>1</td>\n      <td>0</td>\n      <td>0</td>\n      <td>0</td>\n      <td>0</td>\n      <td>0</td>\n      <td>0</td>\n    </tr>\n  </tbody>\n</table>\n<p>8128 rows × 10 columns</p>\n</div>"
     },
     "execution_count": 13,
     "metadata": {},
     "output_type": "execute_result"
    }
   ],
   "source": [
    "pd.get_dummies(df,columns=['fuel','owner'],drop_first=True)#multicolinearility removed"
   ]
  },
  {
   "cell_type": "markdown",
   "id": "7d15ccce",
   "metadata": {},
   "source": [
    "# One hot encoding with the help of sklearn"
   ]
  },
  {
   "cell_type": "code",
   "execution_count": 14,
   "id": "9ca0e701",
   "metadata": {},
   "outputs": [
    {
     "data": {
      "text/plain": "     brand  km_driven    fuel         owner  selling_price\n0   Maruti     145500  Diesel   First Owner         450000\n1    Skoda     120000  Diesel  Second Owner         370000\n2    Honda     140000  Petrol   Third Owner         158000\n3  Hyundai     127000  Diesel   First Owner         225000\n4   Maruti     120000  Petrol   First Owner         130000",
      "text/html": "<div>\n<style scoped>\n    .dataframe tbody tr th:only-of-type {\n        vertical-align: middle;\n    }\n\n    .dataframe tbody tr th {\n        vertical-align: top;\n    }\n\n    .dataframe thead th {\n        text-align: right;\n    }\n</style>\n<table border=\"1\" class=\"dataframe\">\n  <thead>\n    <tr style=\"text-align: right;\">\n      <th></th>\n      <th>brand</th>\n      <th>km_driven</th>\n      <th>fuel</th>\n      <th>owner</th>\n      <th>selling_price</th>\n    </tr>\n  </thead>\n  <tbody>\n    <tr>\n      <th>0</th>\n      <td>Maruti</td>\n      <td>145500</td>\n      <td>Diesel</td>\n      <td>First Owner</td>\n      <td>450000</td>\n    </tr>\n    <tr>\n      <th>1</th>\n      <td>Skoda</td>\n      <td>120000</td>\n      <td>Diesel</td>\n      <td>Second Owner</td>\n      <td>370000</td>\n    </tr>\n    <tr>\n      <th>2</th>\n      <td>Honda</td>\n      <td>140000</td>\n      <td>Petrol</td>\n      <td>Third Owner</td>\n      <td>158000</td>\n    </tr>\n    <tr>\n      <th>3</th>\n      <td>Hyundai</td>\n      <td>127000</td>\n      <td>Diesel</td>\n      <td>First Owner</td>\n      <td>225000</td>\n    </tr>\n    <tr>\n      <th>4</th>\n      <td>Maruti</td>\n      <td>120000</td>\n      <td>Petrol</td>\n      <td>First Owner</td>\n      <td>130000</td>\n    </tr>\n  </tbody>\n</table>\n</div>"
     },
     "execution_count": 14,
     "metadata": {},
     "output_type": "execute_result"
    }
   ],
   "source": [
    "df.head()"
   ]
  },
  {
   "cell_type": "code",
   "execution_count": 15,
   "id": "0cf845e0",
   "metadata": {},
   "outputs": [],
   "source": [
    "from sklearn.model_selection import train_test_split\n",
    "X_train,X_test,y_train,y_test=train_test_split(df.drop(['selling_price'],axis=1),df['selling_price'],test_size=0.2,random_state=0)"
   ]
  },
  {
   "cell_type": "code",
   "execution_count": 16,
   "id": "3ad8be01",
   "metadata": {},
   "outputs": [
    {
     "data": {
      "text/plain": "         brand  km_driven    fuel         owner\n3042   Hyundai      60000     LPG   First Owner\n1520      Tata     150000  Diesel   Third Owner\n2611   Hyundai     110000  Diesel  Second Owner\n3544  Mahindra      28000  Diesel  Second Owner\n4138    Maruti      15000  Petrol   First Owner",
      "text/html": "<div>\n<style scoped>\n    .dataframe tbody tr th:only-of-type {\n        vertical-align: middle;\n    }\n\n    .dataframe tbody tr th {\n        vertical-align: top;\n    }\n\n    .dataframe thead th {\n        text-align: right;\n    }\n</style>\n<table border=\"1\" class=\"dataframe\">\n  <thead>\n    <tr style=\"text-align: right;\">\n      <th></th>\n      <th>brand</th>\n      <th>km_driven</th>\n      <th>fuel</th>\n      <th>owner</th>\n    </tr>\n  </thead>\n  <tbody>\n    <tr>\n      <th>3042</th>\n      <td>Hyundai</td>\n      <td>60000</td>\n      <td>LPG</td>\n      <td>First Owner</td>\n    </tr>\n    <tr>\n      <th>1520</th>\n      <td>Tata</td>\n      <td>150000</td>\n      <td>Diesel</td>\n      <td>Third Owner</td>\n    </tr>\n    <tr>\n      <th>2611</th>\n      <td>Hyundai</td>\n      <td>110000</td>\n      <td>Diesel</td>\n      <td>Second Owner</td>\n    </tr>\n    <tr>\n      <th>3544</th>\n      <td>Mahindra</td>\n      <td>28000</td>\n      <td>Diesel</td>\n      <td>Second Owner</td>\n    </tr>\n    <tr>\n      <th>4138</th>\n      <td>Maruti</td>\n      <td>15000</td>\n      <td>Petrol</td>\n      <td>First Owner</td>\n    </tr>\n  </tbody>\n</table>\n</div>"
     },
     "execution_count": 16,
     "metadata": {},
     "output_type": "execute_result"
    }
   ],
   "source": [
    "X_train.head()"
   ]
  },
  {
   "cell_type": "code",
   "execution_count": 20,
   "id": "21672b80",
   "metadata": {},
   "outputs": [
    {
     "name": "stderr",
     "output_type": "stream",
     "text": [
      "C:\\Users\\zuhai\\anaconda3\\lib\\site-packages\\sklearn\\base.py:493: FutureWarning: The feature names should match those that were passed during fit. Starting version 1.2, an error will be raised.\n",
      "Feature names unseen at fit time:\n",
      "- brand\n",
      "- km_driven\n",
      "- owner\n",
      "Feature names must be in the same order as they were in fit.\n",
      "\n",
      "  warnings.warn(message, FutureWarning)\n"
     ]
    },
    {
     "ename": "ValueError",
     "evalue": "X has 4 features, but OneHotEncoder is expecting 1 features as input.",
     "output_type": "error",
     "traceback": [
      "\u001B[1;31m---------------------------------------------------------------------------\u001B[0m",
      "\u001B[1;31mValueError\u001B[0m                                Traceback (most recent call last)",
      "Input \u001B[1;32mIn [20]\u001B[0m, in \u001B[0;36m<cell line: 4>\u001B[1;34m()\u001B[0m\n\u001B[0;32m      2\u001B[0m ohe\u001B[38;5;241m=\u001B[39mOneHotEncoder(drop\u001B[38;5;241m=\u001B[39m\u001B[38;5;124m'\u001B[39m\u001B[38;5;124mfirst\u001B[39m\u001B[38;5;124m'\u001B[39m,sparse\u001B[38;5;241m=\u001B[39m\u001B[38;5;28;01mFalse\u001B[39;00m,dtype\u001B[38;5;241m=\u001B[39mnp\u001B[38;5;241m.\u001B[39mint32)\n\u001B[0;32m      3\u001B[0m X_train_new\u001B[38;5;241m=\u001B[39mohe\u001B[38;5;241m.\u001B[39mfit_transform(X_train[[\u001B[38;5;124m'\u001B[39m\u001B[38;5;124mfuel\u001B[39m\u001B[38;5;124m'\u001B[39m]])\n\u001B[1;32m----> 4\u001B[0m X_test_new\u001B[38;5;241m=\u001B[39m\u001B[43mohe\u001B[49m\u001B[38;5;241;43m.\u001B[39;49m\u001B[43mtransform\u001B[49m\u001B[43m(\u001B[49m\u001B[43mX_test\u001B[49m\u001B[43m)\u001B[49m\n",
      "File \u001B[1;32m~\\anaconda3\\lib\\site-packages\\sklearn\\preprocessing\\_encoders.py:509\u001B[0m, in \u001B[0;36mOneHotEncoder.transform\u001B[1;34m(self, X)\u001B[0m\n\u001B[0;32m    507\u001B[0m \u001B[38;5;66;03m# validation of X happens in _check_X called by _transform\u001B[39;00m\n\u001B[0;32m    508\u001B[0m warn_on_unknown \u001B[38;5;241m=\u001B[39m \u001B[38;5;28mself\u001B[39m\u001B[38;5;241m.\u001B[39mhandle_unknown \u001B[38;5;241m==\u001B[39m \u001B[38;5;124m\"\u001B[39m\u001B[38;5;124mignore\u001B[39m\u001B[38;5;124m\"\u001B[39m \u001B[38;5;129;01mand\u001B[39;00m \u001B[38;5;28mself\u001B[39m\u001B[38;5;241m.\u001B[39mdrop \u001B[38;5;129;01mis\u001B[39;00m \u001B[38;5;129;01mnot\u001B[39;00m \u001B[38;5;28;01mNone\u001B[39;00m\n\u001B[1;32m--> 509\u001B[0m X_int, X_mask \u001B[38;5;241m=\u001B[39m \u001B[38;5;28;43mself\u001B[39;49m\u001B[38;5;241;43m.\u001B[39;49m\u001B[43m_transform\u001B[49m\u001B[43m(\u001B[49m\n\u001B[0;32m    510\u001B[0m \u001B[43m    \u001B[49m\u001B[43mX\u001B[49m\u001B[43m,\u001B[49m\n\u001B[0;32m    511\u001B[0m \u001B[43m    \u001B[49m\u001B[43mhandle_unknown\u001B[49m\u001B[38;5;241;43m=\u001B[39;49m\u001B[38;5;28;43mself\u001B[39;49m\u001B[38;5;241;43m.\u001B[39;49m\u001B[43mhandle_unknown\u001B[49m\u001B[43m,\u001B[49m\n\u001B[0;32m    512\u001B[0m \u001B[43m    \u001B[49m\u001B[43mforce_all_finite\u001B[49m\u001B[38;5;241;43m=\u001B[39;49m\u001B[38;5;124;43m\"\u001B[39;49m\u001B[38;5;124;43mallow-nan\u001B[39;49m\u001B[38;5;124;43m\"\u001B[39;49m\u001B[43m,\u001B[49m\n\u001B[0;32m    513\u001B[0m \u001B[43m    \u001B[49m\u001B[43mwarn_on_unknown\u001B[49m\u001B[38;5;241;43m=\u001B[39;49m\u001B[43mwarn_on_unknown\u001B[49m\u001B[43m,\u001B[49m\n\u001B[0;32m    514\u001B[0m \u001B[43m\u001B[49m\u001B[43m)\u001B[49m\n\u001B[0;32m    516\u001B[0m n_samples, n_features \u001B[38;5;241m=\u001B[39m X_int\u001B[38;5;241m.\u001B[39mshape\n\u001B[0;32m    518\u001B[0m \u001B[38;5;28;01mif\u001B[39;00m \u001B[38;5;28mself\u001B[39m\u001B[38;5;241m.\u001B[39mdrop_idx_ \u001B[38;5;129;01mis\u001B[39;00m \u001B[38;5;129;01mnot\u001B[39;00m \u001B[38;5;28;01mNone\u001B[39;00m:\n",
      "File \u001B[1;32m~\\anaconda3\\lib\\site-packages\\sklearn\\preprocessing\\_encoders.py:123\u001B[0m, in \u001B[0;36m_BaseEncoder._transform\u001B[1;34m(self, X, handle_unknown, force_all_finite, warn_on_unknown)\u001B[0m\n\u001B[0;32m    119\u001B[0m \u001B[38;5;28;01mdef\u001B[39;00m \u001B[38;5;21m_transform\u001B[39m(\n\u001B[0;32m    120\u001B[0m     \u001B[38;5;28mself\u001B[39m, X, handle_unknown\u001B[38;5;241m=\u001B[39m\u001B[38;5;124m\"\u001B[39m\u001B[38;5;124merror\u001B[39m\u001B[38;5;124m\"\u001B[39m, force_all_finite\u001B[38;5;241m=\u001B[39m\u001B[38;5;28;01mTrue\u001B[39;00m, warn_on_unknown\u001B[38;5;241m=\u001B[39m\u001B[38;5;28;01mFalse\u001B[39;00m\n\u001B[0;32m    121\u001B[0m ):\n\u001B[0;32m    122\u001B[0m     \u001B[38;5;28mself\u001B[39m\u001B[38;5;241m.\u001B[39m_check_feature_names(X, reset\u001B[38;5;241m=\u001B[39m\u001B[38;5;28;01mFalse\u001B[39;00m)\n\u001B[1;32m--> 123\u001B[0m     \u001B[38;5;28;43mself\u001B[39;49m\u001B[38;5;241;43m.\u001B[39;49m\u001B[43m_check_n_features\u001B[49m\u001B[43m(\u001B[49m\u001B[43mX\u001B[49m\u001B[43m,\u001B[49m\u001B[43m \u001B[49m\u001B[43mreset\u001B[49m\u001B[38;5;241;43m=\u001B[39;49m\u001B[38;5;28;43;01mFalse\u001B[39;49;00m\u001B[43m)\u001B[49m\n\u001B[0;32m    124\u001B[0m     X_list, n_samples, n_features \u001B[38;5;241m=\u001B[39m \u001B[38;5;28mself\u001B[39m\u001B[38;5;241m.\u001B[39m_check_X(\n\u001B[0;32m    125\u001B[0m         X, force_all_finite\u001B[38;5;241m=\u001B[39mforce_all_finite\n\u001B[0;32m    126\u001B[0m     )\n\u001B[0;32m    128\u001B[0m     X_int \u001B[38;5;241m=\u001B[39m np\u001B[38;5;241m.\u001B[39mzeros((n_samples, n_features), dtype\u001B[38;5;241m=\u001B[39m\u001B[38;5;28mint\u001B[39m)\n",
      "File \u001B[1;32m~\\anaconda3\\lib\\site-packages\\sklearn\\base.py:400\u001B[0m, in \u001B[0;36mBaseEstimator._check_n_features\u001B[1;34m(self, X, reset)\u001B[0m\n\u001B[0;32m    397\u001B[0m     \u001B[38;5;28;01mreturn\u001B[39;00m\n\u001B[0;32m    399\u001B[0m \u001B[38;5;28;01mif\u001B[39;00m n_features \u001B[38;5;241m!=\u001B[39m \u001B[38;5;28mself\u001B[39m\u001B[38;5;241m.\u001B[39mn_features_in_:\n\u001B[1;32m--> 400\u001B[0m     \u001B[38;5;28;01mraise\u001B[39;00m \u001B[38;5;167;01mValueError\u001B[39;00m(\n\u001B[0;32m    401\u001B[0m         \u001B[38;5;124mf\u001B[39m\u001B[38;5;124m\"\u001B[39m\u001B[38;5;124mX has \u001B[39m\u001B[38;5;132;01m{\u001B[39;00mn_features\u001B[38;5;132;01m}\u001B[39;00m\u001B[38;5;124m features, but \u001B[39m\u001B[38;5;132;01m{\u001B[39;00m\u001B[38;5;28mself\u001B[39m\u001B[38;5;241m.\u001B[39m\u001B[38;5;18m__class__\u001B[39m\u001B[38;5;241m.\u001B[39m\u001B[38;5;18m__name__\u001B[39m\u001B[38;5;132;01m}\u001B[39;00m\u001B[38;5;124m \u001B[39m\u001B[38;5;124m\"\u001B[39m\n\u001B[0;32m    402\u001B[0m         \u001B[38;5;124mf\u001B[39m\u001B[38;5;124m\"\u001B[39m\u001B[38;5;124mis expecting \u001B[39m\u001B[38;5;132;01m{\u001B[39;00m\u001B[38;5;28mself\u001B[39m\u001B[38;5;241m.\u001B[39mn_features_in_\u001B[38;5;132;01m}\u001B[39;00m\u001B[38;5;124m features as input.\u001B[39m\u001B[38;5;124m\"\u001B[39m\n\u001B[0;32m    403\u001B[0m     )\n",
      "\u001B[1;31mValueError\u001B[0m: X has 4 features, but OneHotEncoder is expecting 1 features as input."
     ]
    }
   ],
   "source": [
    "from sklearn.preprocessing import OneHotEncoder\n",
    "ohe=OneHotEncoder(drop='first',sparse=False,dtype=np.int32)\n",
    "X_train_new=ohe.fit_transform(X_train[['fuel']])\n",
    "X_test_new=ohe.transform(X_test)\n"
   ]
  },
  {
   "cell_type": "code",
   "execution_count": null,
   "id": "14d399c6",
   "metadata": {},
   "outputs": [],
   "source": [
    "X_train_new"
   ]
  },
  {
   "cell_type": "code",
   "execution_count": null,
   "id": "3978681b",
   "metadata": {},
   "outputs": [],
   "source": [
    "X_train_new = pd.DataFrame(X_train_new).rename(columns={0:'fuel_Diesel',1:'fuel_LPG',\n",
    "                                                        2:'fuel_Petrol',\n",
    "                                                        3:'owner_Fourth & Above Owner',\n",
    "                                                       4:'owner_Second Owner',5:'owner_Test Drive Car',\n",
    "                                                       6:'owner_Third Owner'})\n",
    "X_test_new = pd.DataFrame(X_test_new).rename(columns={0:'fuel_Diesel',1:'fuel_LPG',\n",
    "                                                        2:'fuel_Petrol',\n",
    "                                                        3:'owner_Fourth & Above Owner',\n",
    "                                                       4:'owner_Second Owner',5:'owner_Test Drive Car',\n",
    "                                                       6:'owner_Third Owner'})"
   ]
  },
  {
   "cell_type": "code",
   "execution_count": null,
   "id": "fb7597a7",
   "metadata": {},
   "outputs": [],
   "source": [
    "X_train_new"
   ]
  },
  {
   "cell_type": "code",
   "execution_count": null,
   "id": "8178f868",
   "metadata": {},
   "outputs": [],
   "source": [
    "X_test_new"
   ]
  },
  {
   "cell_type": "code",
   "execution_count": null,
   "id": "c2eb5d88",
   "metadata": {},
   "outputs": [],
   "source": [
    "X_train_new=pd.DataFrame(np.hstack((X_train[['brand','km_driven']].values,X_train_new))).rename(columns={0:'brand',1:'km_driven',2:'fuel_Diesel',\n",
    "                                                                                                         3:'fuel_LPG',4:'fuel_Petrol',5:'owner_Fourth & Above Owner',\n",
    "                                                                                                         6:'owner_Second Owner',7:'owner_Test Drive Car',\n",
    "                                                                                                         8:'owner_Third Owner'})\n",
    "X_test_new=pd.DataFrame(np.hstack((X_test[['brand','km_driven']].values,X_test_new))).rename(columns={0:'brand',1:'km_driven',2:'fuel_Diesel',\n",
    "                                                                                                         3:'fuel_LPG',4:'fuel_Petrol',5:'owner_Fourth & Above Owner',\n",
    "                                                                                                         6:'owner_Second Owner',7:'owner_Test Drive Car',\n",
    "                                                                                                         8:'owner_Third Owner'})\n"
   ]
  },
  {
   "cell_type": "code",
   "execution_count": null,
   "id": "44709728",
   "metadata": {},
   "outputs": [],
   "source": [
    "X_train_new"
   ]
  },
  {
   "cell_type": "markdown",
   "id": "b8c98588",
   "metadata": {},
   "source": [
    "# One hot encoding of frequent variable 'brand'"
   ]
  },
  {
   "cell_type": "code",
   "execution_count": null,
   "id": "02489c95",
   "metadata": {},
   "outputs": [],
   "source": [
    "counts=df['brand'].value_counts()\n",
    "df['brand'].unique()\n",
    "threshold=100\n",
    "repl=counts[counts<=threshold].index\n",
    "new=pd.get_dummies(df['brand'].replace(repl,'uncommon'))"
   ]
  },
  {
   "cell_type": "markdown",
   "id": "f46380b5",
   "metadata": {},
   "source": [
    "# Creating a final dataset"
   ]
  },
  {
   "cell_type": "code",
   "execution_count": null,
   "id": "66a8764c",
   "metadata": {},
   "outputs": [],
   "source": [
    "result=pd.concat([X_train_new,new,df['selling_price']],axis=1)"
   ]
  },
  {
   "cell_type": "code",
   "execution_count": null,
   "id": "99b02b85",
   "metadata": {},
   "outputs": [],
   "source": [
    "result.head()"
   ]
  },
  {
   "cell_type": "code",
   "execution_count": null,
   "id": "bba0e63b",
   "metadata": {},
   "outputs": [],
   "source": [
    "result.drop(['brand'],axis=1,inplace=True)"
   ]
  },
  {
   "cell_type": "code",
   "execution_count": null,
   "id": "fa073ff9",
   "metadata": {},
   "outputs": [],
   "source": [
    "result.head()"
   ]
  },
  {
   "cell_type": "code",
   "execution_count": null,
   "id": "61e456fa",
   "metadata": {},
   "outputs": [],
   "source": [
    "X_train_final,X_test_final,y_train_final,y_test_final=train_test_split(result.drop(['selling_price'],axis=1),result['selling_price'],test_size=0.2,random_state=0)"
   ]
  },
  {
   "cell_type": "code",
   "execution_count": null,
   "id": "f6d19e15",
   "metadata": {},
   "outputs": [],
   "source": [
    "X_train_final.head()"
   ]
  },
  {
   "cell_type": "code",
   "execution_count": null,
   "id": "27d71f48",
   "metadata": {},
   "outputs": [],
   "source": [
    "X_test_final.head()"
   ]
  },
  {
   "cell_type": "code",
   "execution_count": null,
   "id": "a7f73b42",
   "metadata": {},
   "outputs": [],
   "source": [
    "y_test_final.head()"
   ]
  },
  {
   "cell_type": "code",
   "execution_count": null,
   "id": "f90c3f8c",
   "metadata": {},
   "outputs": [],
   "source": [
    "y_train_final.head()"
   ]
  },
  {
   "cell_type": "code",
   "execution_count": null,
   "id": "cd669362",
   "metadata": {},
   "outputs": [],
   "source": []
  }
 ],
 "metadata": {
  "kernelspec": {
   "display_name": "Python 3 (ipykernel)",
   "language": "python",
   "name": "python3"
  },
  "language_info": {
   "codemirror_mode": {
    "name": "ipython",
    "version": 3
   },
   "file_extension": ".py",
   "mimetype": "text/x-python",
   "name": "python",
   "nbconvert_exporter": "python",
   "pygments_lexer": "ipython3",
   "version": "3.10.4"
  }
 },
 "nbformat": 4,
 "nbformat_minor": 5
}
