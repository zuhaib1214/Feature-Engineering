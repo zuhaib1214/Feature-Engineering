{
 "cells": [
  {
   "cell_type": "code",
   "execution_count": 1,
   "id": "3bd76326",
   "metadata": {},
   "outputs": [
    {
     "name": "stderr",
     "output_type": "stream",
     "text": [
      "C:\\Users\\zuhai\\anaconda3\\envs\\AI\\lib\\site-packages\\scipy\\__init__.py:146: UserWarning: A NumPy version >=1.16.5 and <1.23.0 is required for this version of SciPy (detected version 1.23.5\n",
      "  warnings.warn(f\"A NumPy version >={np_minversion} and <{np_maxversion}\"\n"
     ]
    }
   ],
   "source": [
    "import pandas as pd\n",
    "import numpy as np\n",
    "import matplotlib.pyplot as plt\n",
    "from sklearn.model_selection import train_test_split\n",
    "from sklearn.compose import ColumnTransformer\n",
    "from sklearn.impute import SimpleImputer"
   ]
  },
  {
   "cell_type": "code",
   "execution_count": 2,
   "id": "b5783528",
   "metadata": {},
   "outputs": [
    {
     "data": {
      "text/html": [
       "<div>\n",
       "<style scoped>\n",
       "    .dataframe tbody tr th:only-of-type {\n",
       "        vertical-align: middle;\n",
       "    }\n",
       "\n",
       "    .dataframe tbody tr th {\n",
       "        vertical-align: top;\n",
       "    }\n",
       "\n",
       "    .dataframe thead th {\n",
       "        text-align: right;\n",
       "    }\n",
       "</style>\n",
       "<table border=\"1\" class=\"dataframe\">\n",
       "  <thead>\n",
       "    <tr style=\"text-align: right;\">\n",
       "      <th></th>\n",
       "      <th>Age</th>\n",
       "      <th>Fare</th>\n",
       "      <th>Family</th>\n",
       "      <th>Survived</th>\n",
       "    </tr>\n",
       "  </thead>\n",
       "  <tbody>\n",
       "    <tr>\n",
       "      <th>0</th>\n",
       "      <td>22.0</td>\n",
       "      <td>7.2500</td>\n",
       "      <td>1</td>\n",
       "      <td>0</td>\n",
       "    </tr>\n",
       "    <tr>\n",
       "      <th>1</th>\n",
       "      <td>38.0</td>\n",
       "      <td>71.2833</td>\n",
       "      <td>1</td>\n",
       "      <td>1</td>\n",
       "    </tr>\n",
       "    <tr>\n",
       "      <th>2</th>\n",
       "      <td>26.0</td>\n",
       "      <td>7.9250</td>\n",
       "      <td>0</td>\n",
       "      <td>1</td>\n",
       "    </tr>\n",
       "    <tr>\n",
       "      <th>3</th>\n",
       "      <td>35.0</td>\n",
       "      <td>53.1000</td>\n",
       "      <td>1</td>\n",
       "      <td>1</td>\n",
       "    </tr>\n",
       "    <tr>\n",
       "      <th>4</th>\n",
       "      <td>35.0</td>\n",
       "      <td>8.0500</td>\n",
       "      <td>0</td>\n",
       "      <td>0</td>\n",
       "    </tr>\n",
       "    <tr>\n",
       "      <th>5</th>\n",
       "      <td>NaN</td>\n",
       "      <td>8.4583</td>\n",
       "      <td>0</td>\n",
       "      <td>0</td>\n",
       "    </tr>\n",
       "    <tr>\n",
       "      <th>6</th>\n",
       "      <td>54.0</td>\n",
       "      <td>51.8625</td>\n",
       "      <td>0</td>\n",
       "      <td>0</td>\n",
       "    </tr>\n",
       "    <tr>\n",
       "      <th>7</th>\n",
       "      <td>2.0</td>\n",
       "      <td>21.0750</td>\n",
       "      <td>4</td>\n",
       "      <td>0</td>\n",
       "    </tr>\n",
       "    <tr>\n",
       "      <th>8</th>\n",
       "      <td>27.0</td>\n",
       "      <td>11.1333</td>\n",
       "      <td>2</td>\n",
       "      <td>1</td>\n",
       "    </tr>\n",
       "    <tr>\n",
       "      <th>9</th>\n",
       "      <td>14.0</td>\n",
       "      <td>30.0708</td>\n",
       "      <td>1</td>\n",
       "      <td>1</td>\n",
       "    </tr>\n",
       "  </tbody>\n",
       "</table>\n",
       "</div>"
      ],
      "text/plain": [
       "    Age     Fare  Family  Survived\n",
       "0  22.0   7.2500       1         0\n",
       "1  38.0  71.2833       1         1\n",
       "2  26.0   7.9250       0         1\n",
       "3  35.0  53.1000       1         1\n",
       "4  35.0   8.0500       0         0\n",
       "5   NaN   8.4583       0         0\n",
       "6  54.0  51.8625       0         0\n",
       "7   2.0  21.0750       4         0\n",
       "8  27.0  11.1333       2         1\n",
       "9  14.0  30.0708       1         1"
      ]
     },
     "execution_count": 2,
     "metadata": {},
     "output_type": "execute_result"
    }
   ],
   "source": [
    "df=pd.read_csv('titanic_toy.csv')\n",
    "df.head(10)"
   ]
  },
  {
   "cell_type": "code",
   "execution_count": 3,
   "id": "ccb5e1e4",
   "metadata": {},
   "outputs": [
    {
     "data": {
      "text/plain": [
       "Age         177\n",
       "Fare         45\n",
       "Family        0\n",
       "Survived      0\n",
       "dtype: int64"
      ]
     },
     "execution_count": 3,
     "metadata": {},
     "output_type": "execute_result"
    }
   ],
   "source": [
    "df.isnull().sum()"
   ]
  },
  {
   "cell_type": "code",
   "execution_count": 4,
   "id": "e09ca654",
   "metadata": {},
   "outputs": [
    {
     "name": "stdout",
     "output_type": "stream",
     "text": [
      "<class 'pandas.core.frame.DataFrame'>\n",
      "RangeIndex: 891 entries, 0 to 890\n",
      "Data columns (total 4 columns):\n",
      " #   Column    Non-Null Count  Dtype  \n",
      "---  ------    --------------  -----  \n",
      " 0   Age       714 non-null    float64\n",
      " 1   Fare      846 non-null    float64\n",
      " 2   Family    891 non-null    int64  \n",
      " 3   Survived  891 non-null    int64  \n",
      "dtypes: float64(2), int64(2)\n",
      "memory usage: 28.0 KB\n"
     ]
    }
   ],
   "source": [
    "df.info()"
   ]
  },
  {
   "cell_type": "markdown",
   "id": "8ba1736a",
   "metadata": {},
   "source": [
    "# Applying train test slip"
   ]
  },
  {
   "cell_type": "code",
   "execution_count": 5,
   "id": "ac11d7a2",
   "metadata": {},
   "outputs": [],
   "source": [
    "X=df.drop(columns=['Survived'])\n",
    "y=df['Survived']"
   ]
  },
  {
   "cell_type": "code",
   "execution_count": 6,
   "id": "e56b1464",
   "metadata": {},
   "outputs": [],
   "source": [
    "X_train,X_test,y_train,y_test=train_test_split(X,y,test_size=0.2,random_state=2)"
   ]
  },
  {
   "cell_type": "code",
   "execution_count": 7,
   "id": "99d74aa0",
   "metadata": {},
   "outputs": [
    {
     "data": {
      "text/plain": [
       "Age       148\n",
       "Fare       36\n",
       "Family      0\n",
       "dtype: int64"
      ]
     },
     "execution_count": 7,
     "metadata": {},
     "output_type": "execute_result"
    }
   ],
   "source": [
    "X_train.isnull().sum()"
   ]
  },
  {
   "cell_type": "code",
   "execution_count": 8,
   "id": "630bf260",
   "metadata": {},
   "outputs": [
    {
     "data": {
      "text/plain": [
       "Age       20.786517\n",
       "Fare       5.056180\n",
       "Family     0.000000\n",
       "dtype: float64"
      ]
     },
     "execution_count": 8,
     "metadata": {},
     "output_type": "execute_result"
    }
   ],
   "source": [
    "(X_train.isnull().mean())*100"
   ]
  },
  {
   "cell_type": "code",
   "execution_count": 9,
   "id": "c5030390",
   "metadata": {},
   "outputs": [
    {
     "data": {
      "text/plain": [
       "((712, 3), (179, 3))"
      ]
     },
     "execution_count": 9,
     "metadata": {},
     "output_type": "execute_result"
    }
   ],
   "source": [
    "X_train.shape, X_test.shape\n"
   ]
  },
  {
   "cell_type": "markdown",
   "id": "dc069e83",
   "metadata": {},
   "source": [
    "# Applying mean/median imputation by pandas"
   ]
  },
  {
   "cell_type": "code",
   "execution_count": 10,
   "id": "95678cf6",
   "metadata": {},
   "outputs": [],
   "source": [
    "#for X_train\n",
    "mean_age=X_train['Age'].mean()\n",
    "median_age=X_train['Age'].median()\n",
    "\n",
    "mean_fare=X_train['Fare'].mean()\n",
    "median_fare=X_train['Fare'].median()\n",
    "#for X_test\n",
    "mean_age=X_test['Age'].mean()\n",
    "median_age=X_test['Age'].median()\n",
    "\n",
    "mean_fare=X_test['Fare'].mean()\n",
    "median_fare=X_test['Fare'].median()\n"
   ]
  },
  {
   "cell_type": "code",
   "execution_count": 11,
   "id": "149b7d02",
   "metadata": {},
   "outputs": [],
   "source": [
    "#for X_train\n",
    "X_train['median_age']=X_train['Age'].fillna(median_age)\n",
    "X_train['mean_age']=X_train['Age'].fillna(mean_age)\n",
    "\n",
    "X_train['median_fare']=X_train['Fare'].fillna(median_fare)\n",
    "X_train['mean_fare']=X_train['Fare'].fillna(mean_age)\n",
    "#for X_test\n",
    "X_test['median_age']=X_test['Age'].fillna(median_age)\n",
    "X_test['mean_age']=X_test['Age'].fillna(mean_age)\n",
    "\n",
    "X_test['median_fare']=X_test['Fare'].fillna(median_fare)\n",
    "X_test['mean_fare']=X_test['Fare'].fillna(mean_age)"
   ]
  },
  {
   "cell_type": "code",
   "execution_count": 12,
   "id": "bb253752",
   "metadata": {},
   "outputs": [
    {
     "data": {
      "text/html": [
       "<div>\n",
       "<style scoped>\n",
       "    .dataframe tbody tr th:only-of-type {\n",
       "        vertical-align: middle;\n",
       "    }\n",
       "\n",
       "    .dataframe tbody tr th {\n",
       "        vertical-align: top;\n",
       "    }\n",
       "\n",
       "    .dataframe thead th {\n",
       "        text-align: right;\n",
       "    }\n",
       "</style>\n",
       "<table border=\"1\" class=\"dataframe\">\n",
       "  <thead>\n",
       "    <tr style=\"text-align: right;\">\n",
       "      <th></th>\n",
       "      <th>Age</th>\n",
       "      <th>Fare</th>\n",
       "      <th>Family</th>\n",
       "      <th>median_age</th>\n",
       "      <th>mean_age</th>\n",
       "      <th>median_fare</th>\n",
       "      <th>mean_fare</th>\n",
       "    </tr>\n",
       "  </thead>\n",
       "  <tbody>\n",
       "    <tr>\n",
       "      <th>30</th>\n",
       "      <td>40.0</td>\n",
       "      <td>27.7208</td>\n",
       "      <td>0</td>\n",
       "      <td>40.0</td>\n",
       "      <td>40.0000</td>\n",
       "      <td>27.7208</td>\n",
       "      <td>27.7208</td>\n",
       "    </tr>\n",
       "    <tr>\n",
       "      <th>10</th>\n",
       "      <td>4.0</td>\n",
       "      <td>16.7000</td>\n",
       "      <td>2</td>\n",
       "      <td>4.0</td>\n",
       "      <td>4.0000</td>\n",
       "      <td>16.7000</td>\n",
       "      <td>16.7000</td>\n",
       "    </tr>\n",
       "    <tr>\n",
       "      <th>873</th>\n",
       "      <td>47.0</td>\n",
       "      <td>9.0000</td>\n",
       "      <td>0</td>\n",
       "      <td>47.0</td>\n",
       "      <td>47.0000</td>\n",
       "      <td>9.0000</td>\n",
       "      <td>9.0000</td>\n",
       "    </tr>\n",
       "    <tr>\n",
       "      <th>182</th>\n",
       "      <td>9.0</td>\n",
       "      <td>31.3875</td>\n",
       "      <td>6</td>\n",
       "      <td>9.0</td>\n",
       "      <td>9.0000</td>\n",
       "      <td>31.3875</td>\n",
       "      <td>31.3875</td>\n",
       "    </tr>\n",
       "    <tr>\n",
       "      <th>876</th>\n",
       "      <td>20.0</td>\n",
       "      <td>9.8458</td>\n",
       "      <td>0</td>\n",
       "      <td>20.0</td>\n",
       "      <td>20.0000</td>\n",
       "      <td>9.8458</td>\n",
       "      <td>9.8458</td>\n",
       "    </tr>\n",
       "    <tr>\n",
       "      <th>213</th>\n",
       "      <td>30.0</td>\n",
       "      <td>13.0000</td>\n",
       "      <td>0</td>\n",
       "      <td>30.0</td>\n",
       "      <td>30.0000</td>\n",
       "      <td>13.0000</td>\n",
       "      <td>13.0000</td>\n",
       "    </tr>\n",
       "    <tr>\n",
       "      <th>157</th>\n",
       "      <td>30.0</td>\n",
       "      <td>8.0500</td>\n",
       "      <td>0</td>\n",
       "      <td>30.0</td>\n",
       "      <td>30.0000</td>\n",
       "      <td>8.0500</td>\n",
       "      <td>8.0500</td>\n",
       "    </tr>\n",
       "    <tr>\n",
       "      <th>780</th>\n",
       "      <td>13.0</td>\n",
       "      <td>7.2292</td>\n",
       "      <td>0</td>\n",
       "      <td>13.0</td>\n",
       "      <td>13.0000</td>\n",
       "      <td>7.2292</td>\n",
       "      <td>7.2292</td>\n",
       "    </tr>\n",
       "    <tr>\n",
       "      <th>572</th>\n",
       "      <td>36.0</td>\n",
       "      <td>26.3875</td>\n",
       "      <td>0</td>\n",
       "      <td>36.0</td>\n",
       "      <td>36.0000</td>\n",
       "      <td>26.3875</td>\n",
       "      <td>26.3875</td>\n",
       "    </tr>\n",
       "    <tr>\n",
       "      <th>77</th>\n",
       "      <td>NaN</td>\n",
       "      <td>8.0500</td>\n",
       "      <td>0</td>\n",
       "      <td>28.0</td>\n",
       "      <td>29.3728</td>\n",
       "      <td>8.0500</td>\n",
       "      <td>8.0500</td>\n",
       "    </tr>\n",
       "  </tbody>\n",
       "</table>\n",
       "</div>"
      ],
      "text/plain": [
       "      Age     Fare  Family  median_age  mean_age  median_fare  mean_fare\n",
       "30   40.0  27.7208       0        40.0   40.0000      27.7208    27.7208\n",
       "10    4.0  16.7000       2         4.0    4.0000      16.7000    16.7000\n",
       "873  47.0   9.0000       0        47.0   47.0000       9.0000     9.0000\n",
       "182   9.0  31.3875       6         9.0    9.0000      31.3875    31.3875\n",
       "876  20.0   9.8458       0        20.0   20.0000       9.8458     9.8458\n",
       "213  30.0  13.0000       0        30.0   30.0000      13.0000    13.0000\n",
       "157  30.0   8.0500       0        30.0   30.0000       8.0500     8.0500\n",
       "780  13.0   7.2292       0        13.0   13.0000       7.2292     7.2292\n",
       "572  36.0  26.3875       0        36.0   36.0000      26.3875    26.3875\n",
       "77    NaN   8.0500       0        28.0   29.3728       8.0500     8.0500"
      ]
     },
     "execution_count": 12,
     "metadata": {},
     "output_type": "execute_result"
    }
   ],
   "source": [
    "X_train.head(10)"
   ]
  },
  {
   "cell_type": "code",
   "execution_count": 13,
   "id": "d71c3312",
   "metadata": {},
   "outputs": [
    {
     "data": {
      "text/html": [
       "<div>\n",
       "<style scoped>\n",
       "    .dataframe tbody tr th:only-of-type {\n",
       "        vertical-align: middle;\n",
       "    }\n",
       "\n",
       "    .dataframe tbody tr th {\n",
       "        vertical-align: top;\n",
       "    }\n",
       "\n",
       "    .dataframe thead th {\n",
       "        text-align: right;\n",
       "    }\n",
       "</style>\n",
       "<table border=\"1\" class=\"dataframe\">\n",
       "  <thead>\n",
       "    <tr style=\"text-align: right;\">\n",
       "      <th></th>\n",
       "      <th>Age</th>\n",
       "      <th>Fare</th>\n",
       "      <th>Family</th>\n",
       "      <th>median_age</th>\n",
       "      <th>mean_age</th>\n",
       "      <th>median_fare</th>\n",
       "      <th>mean_fare</th>\n",
       "    </tr>\n",
       "  </thead>\n",
       "  <tbody>\n",
       "    <tr>\n",
       "      <th>707</th>\n",
       "      <td>42.0</td>\n",
       "      <td>26.2875</td>\n",
       "      <td>0</td>\n",
       "      <td>42.0</td>\n",
       "      <td>42.0</td>\n",
       "      <td>26.2875</td>\n",
       "      <td>26.2875</td>\n",
       "    </tr>\n",
       "    <tr>\n",
       "      <th>37</th>\n",
       "      <td>21.0</td>\n",
       "      <td>8.0500</td>\n",
       "      <td>0</td>\n",
       "      <td>21.0</td>\n",
       "      <td>21.0</td>\n",
       "      <td>8.0500</td>\n",
       "      <td>8.0500</td>\n",
       "    </tr>\n",
       "    <tr>\n",
       "      <th>615</th>\n",
       "      <td>24.0</td>\n",
       "      <td>65.0000</td>\n",
       "      <td>3</td>\n",
       "      <td>24.0</td>\n",
       "      <td>24.0</td>\n",
       "      <td>65.0000</td>\n",
       "      <td>65.0000</td>\n",
       "    </tr>\n",
       "    <tr>\n",
       "      <th>169</th>\n",
       "      <td>28.0</td>\n",
       "      <td>56.4958</td>\n",
       "      <td>0</td>\n",
       "      <td>28.0</td>\n",
       "      <td>28.0</td>\n",
       "      <td>56.4958</td>\n",
       "      <td>56.4958</td>\n",
       "    </tr>\n",
       "    <tr>\n",
       "      <th>68</th>\n",
       "      <td>17.0</td>\n",
       "      <td>7.9250</td>\n",
       "      <td>6</td>\n",
       "      <td>17.0</td>\n",
       "      <td>17.0</td>\n",
       "      <td>7.9250</td>\n",
       "      <td>7.9250</td>\n",
       "    </tr>\n",
       "    <tr>\n",
       "      <th>606</th>\n",
       "      <td>30.0</td>\n",
       "      <td>7.8958</td>\n",
       "      <td>0</td>\n",
       "      <td>30.0</td>\n",
       "      <td>30.0</td>\n",
       "      <td>7.8958</td>\n",
       "      <td>7.8958</td>\n",
       "    </tr>\n",
       "    <tr>\n",
       "      <th>630</th>\n",
       "      <td>80.0</td>\n",
       "      <td>30.0000</td>\n",
       "      <td>0</td>\n",
       "      <td>80.0</td>\n",
       "      <td>80.0</td>\n",
       "      <td>30.0000</td>\n",
       "      <td>30.0000</td>\n",
       "    </tr>\n",
       "    <tr>\n",
       "      <th>785</th>\n",
       "      <td>25.0</td>\n",
       "      <td>7.2500</td>\n",
       "      <td>0</td>\n",
       "      <td>25.0</td>\n",
       "      <td>25.0</td>\n",
       "      <td>7.2500</td>\n",
       "      <td>7.2500</td>\n",
       "    </tr>\n",
       "    <tr>\n",
       "      <th>660</th>\n",
       "      <td>50.0</td>\n",
       "      <td>133.6500</td>\n",
       "      <td>2</td>\n",
       "      <td>50.0</td>\n",
       "      <td>50.0</td>\n",
       "      <td>133.6500</td>\n",
       "      <td>133.6500</td>\n",
       "    </tr>\n",
       "    <tr>\n",
       "      <th>728</th>\n",
       "      <td>25.0</td>\n",
       "      <td>26.0000</td>\n",
       "      <td>1</td>\n",
       "      <td>25.0</td>\n",
       "      <td>25.0</td>\n",
       "      <td>26.0000</td>\n",
       "      <td>26.0000</td>\n",
       "    </tr>\n",
       "  </tbody>\n",
       "</table>\n",
       "</div>"
      ],
      "text/plain": [
       "      Age      Fare  Family  median_age  mean_age  median_fare  mean_fare\n",
       "707  42.0   26.2875       0        42.0      42.0      26.2875    26.2875\n",
       "37   21.0    8.0500       0        21.0      21.0       8.0500     8.0500\n",
       "615  24.0   65.0000       3        24.0      24.0      65.0000    65.0000\n",
       "169  28.0   56.4958       0        28.0      28.0      56.4958    56.4958\n",
       "68   17.0    7.9250       6        17.0      17.0       7.9250     7.9250\n",
       "606  30.0    7.8958       0        30.0      30.0       7.8958     7.8958\n",
       "630  80.0   30.0000       0        80.0      80.0      30.0000    30.0000\n",
       "785  25.0    7.2500       0        25.0      25.0       7.2500     7.2500\n",
       "660  50.0  133.6500       2        50.0      50.0     133.6500   133.6500\n",
       "728  25.0   26.0000       1        25.0      25.0      26.0000    26.0000"
      ]
     },
     "execution_count": 13,
     "metadata": {},
     "output_type": "execute_result"
    }
   ],
   "source": [
    "X_test.head(10)"
   ]
  },
  {
   "cell_type": "markdown",
   "id": "25f483dc",
   "metadata": {},
   "source": [
    "# Checking variance, covariance, corelation and by graphical implementation checking for outlier and spread of data"
   ]
  },
  {
   "cell_type": "code",
   "execution_count": 14,
   "id": "90184865",
   "metadata": {},
   "outputs": [
    {
     "name": "stdout",
     "output_type": "stream",
     "text": [
      "X_train : \n",
      "Original Age Variance :  204.3495133904614\n",
      "Mean Age Variance :  161.84076365047017\n",
      "Median Age Variance :  162.33852985330878\n",
      "Original Fare Variance :  2448.197913706318\n",
      "Mean Fare Variance :  2324.7446703050946\n",
      "Median Fare Variance :  2341.0882322100842\n",
      "X_test : \n",
      "Original Age Variance :  237.50093573154342\n",
      "Mean Age Variance :  198.80696305617965\n",
      "Median Age Variance :  199.06425771138032\n",
      "Original Fare Variance :  2872.7824991474345\n",
      "Mean Fare Variance :  2727.6465311807033\n",
      "Median Fare Variance :  2741.4698976996656\n"
     ]
    }
   ],
   "source": [
    "# checking variance for X_train\n",
    "print('X_train : ')\n",
    "print('Original Age Variance : ',X_train['Age'].var())\n",
    "print('Mean Age Variance : ',X_train['mean_age'].var())\n",
    "print('Median Age Variance : ',X_train['median_age'].var())\n",
    "\n",
    "print('Original Fare Variance : ',X_train['Fare'].var())\n",
    "print('Mean Fare Variance : ',X_train['mean_fare'].var())\n",
    "print('Median Fare Variance : ',X_train['median_fare'].var())\n",
    "# checking variance for X_test\n",
    "print('X_test : ')\n",
    "print('Original Age Variance : ',X_test['Age'].var())\n",
    "print('Mean Age Variance : ',X_test['mean_age'].var())\n",
    "print('Median Age Variance : ',X_test['median_age'].var())\n",
    "\n",
    "print('Original Fare Variance : ',X_test['Fare'].var())\n",
    "print('Mean Fare Variance : ',X_test['mean_fare'].var())\n",
    "print('Median Fare Variance : ',X_test['median_fare'].var())\n"
   ]
  },
  {
   "cell_type": "code",
   "execution_count": 15,
   "id": "ac8e69a5",
   "metadata": {},
   "outputs": [
    {
     "data": {
      "text/plain": [
       "<AxesSubplot: ylabel='Density'>"
      ]
     },
     "execution_count": 15,
     "metadata": {},
     "output_type": "execute_result"
    },
    {
     "data": {
      "image/png": "[encoded data removed]",
      "text/plain": [
       "<Figure size 640x480 with 1 Axes>"
      ]
     },
     "metadata": {},
     "output_type": "display_data"
    }
   ],
   "source": [
    "fig=plt.figure()\n",
    "ax=fig.add_subplot(111)\n",
    "# original distribution of age\n",
    "X_train['Age'].plot(kind='kde',ax=ax)\n",
    "\n",
    "#distribution of mean_age\n",
    "X_train['median_age'].plot(kind='kde',ax=ax,color='red')\n",
    "\n",
    "#distribution of median_age\n",
    "X_train['median_age'].plot(kind='kde',ax=ax,color='green')\n",
    "\n"
   ]
  },
  {
   "cell_type": "code",
   "execution_count": 16,
   "id": "71f5ce5e",
   "metadata": {},
   "outputs": [
    {
     "data": {
      "text/plain": [
       "<AxesSubplot: ylabel='Density'>"
      ]
     },
     "execution_count": 16,
     "metadata": {},
     "output_type": "execute_result"
    },
    {
     "data": {
      "image/png": "[encoded data removed]",
      "text/plain": [
       "<Figure size 640x480 with 1 Axes>"
      ]
     },
     "metadata": {},
     "output_type": "display_data"
    }
   ],
   "source": [
    "fig=plt.figure()\n",
    "ax=fig.add_subplot(111)\n",
    "# original distribution of fare\n",
    "X_train['Fare'].plot(kind='kde',ax=ax)\n",
    "\n",
    "#distribution of fare_age\n",
    "X_train['median_fare'].plot(kind='kde',ax=ax,color='red')\n",
    "\n",
    "#distribution of fare_age\n",
    "X_train['median_fare'].plot(kind='kde',ax=ax,color='green')\n",
    "\n"
   ]
  },
  {
   "cell_type": "code",
   "execution_count": 17,
   "id": "b6583771",
   "metadata": {},
   "outputs": [],
   "source": [
    "#checking for covariance"
   ]
  },
  {
   "cell_type": "code",
   "execution_count": 18,
   "id": "3f2a1ffd",
   "metadata": {},
   "outputs": [
    {
     "data": {
      "text/html": [
       "<div>\n",
       "<style scoped>\n",
       "    .dataframe tbody tr th:only-of-type {\n",
       "        vertical-align: middle;\n",
       "    }\n",
       "\n",
       "    .dataframe tbody tr th {\n",
       "        vertical-align: top;\n",
       "    }\n",
       "\n",
       "    .dataframe thead th {\n",
       "        text-align: right;\n",
       "    }\n",
       "</style>\n",
       "<table border=\"1\" class=\"dataframe\">\n",
       "  <thead>\n",
       "    <tr style=\"text-align: right;\">\n",
       "      <th></th>\n",
       "      <th>Age</th>\n",
       "      <th>Fare</th>\n",
       "      <th>Family</th>\n",
       "      <th>median_age</th>\n",
       "      <th>mean_age</th>\n",
       "      <th>median_fare</th>\n",
       "      <th>mean_fare</th>\n",
       "    </tr>\n",
       "  </thead>\n",
       "  <tbody>\n",
       "    <tr>\n",
       "      <th>Age</th>\n",
       "      <td>204.349513</td>\n",
       "      <td>70.719262</td>\n",
       "      <td>-6.498901</td>\n",
       "      <td>204.349513</td>\n",
       "      <td>204.349513</td>\n",
       "      <td>64.802911</td>\n",
       "      <td>66.342438</td>\n",
       "    </tr>\n",
       "    <tr>\n",
       "      <th>Fare</th>\n",
       "      <td>70.719262</td>\n",
       "      <td>2448.197914</td>\n",
       "      <td>17.258917</td>\n",
       "      <td>59.661820</td>\n",
       "      <td>56.542414</td>\n",
       "      <td>2448.197914</td>\n",
       "      <td>2448.197914</td>\n",
       "    </tr>\n",
       "    <tr>\n",
       "      <th>Family</th>\n",
       "      <td>-6.498901</td>\n",
       "      <td>17.258917</td>\n",
       "      <td>2.735252</td>\n",
       "      <td>-5.088278</td>\n",
       "      <td>-5.132730</td>\n",
       "      <td>16.479132</td>\n",
       "      <td>16.401354</td>\n",
       "    </tr>\n",
       "    <tr>\n",
       "      <th>median_age</th>\n",
       "      <td>204.349513</td>\n",
       "      <td>59.661820</td>\n",
       "      <td>-5.088278</td>\n",
       "      <td>162.338530</td>\n",
       "      <td>161.934274</td>\n",
       "      <td>55.096579</td>\n",
       "      <td>56.373299</td>\n",
       "    </tr>\n",
       "    <tr>\n",
       "      <th>mean_age</th>\n",
       "      <td>204.349513</td>\n",
       "      <td>56.542414</td>\n",
       "      <td>-5.132730</td>\n",
       "      <td>161.934274</td>\n",
       "      <td>161.840764</td>\n",
       "      <td>52.188730</td>\n",
       "      <td>53.421130</td>\n",
       "    </tr>\n",
       "    <tr>\n",
       "      <th>median_fare</th>\n",
       "      <td>64.802911</td>\n",
       "      <td>2448.197914</td>\n",
       "      <td>16.479132</td>\n",
       "      <td>55.096579</td>\n",
       "      <td>52.188730</td>\n",
       "      <td>2341.088232</td>\n",
       "      <td>2327.158866</td>\n",
       "    </tr>\n",
       "    <tr>\n",
       "      <th>mean_fare</th>\n",
       "      <td>66.342438</td>\n",
       "      <td>2448.197914</td>\n",
       "      <td>16.401354</td>\n",
       "      <td>56.373299</td>\n",
       "      <td>53.421130</td>\n",
       "      <td>2327.158866</td>\n",
       "      <td>2324.744670</td>\n",
       "    </tr>\n",
       "  </tbody>\n",
       "</table>\n",
       "</div>"
      ],
      "text/plain": [
       "                    Age         Fare     Family  median_age    mean_age  \\\n",
       "Age          204.349513    70.719262  -6.498901  204.349513  204.349513   \n",
       "Fare          70.719262  2448.197914  17.258917   59.661820   56.542414   \n",
       "Family        -6.498901    17.258917   2.735252   -5.088278   -5.132730   \n",
       "median_age   204.349513    59.661820  -5.088278  162.338530  161.934274   \n",
       "mean_age     204.349513    56.542414  -5.132730  161.934274  161.840764   \n",
       "median_fare   64.802911  2448.197914  16.479132   55.096579   52.188730   \n",
       "mean_fare     66.342438  2448.197914  16.401354   56.373299   53.421130   \n",
       "\n",
       "             median_fare    mean_fare  \n",
       "Age            64.802911    66.342438  \n",
       "Fare         2448.197914  2448.197914  \n",
       "Family         16.479132    16.401354  \n",
       "median_age     55.096579    56.373299  \n",
       "mean_age       52.188730    53.421130  \n",
       "median_fare  2341.088232  2327.158866  \n",
       "mean_fare    2327.158866  2324.744670  "
      ]
     },
     "execution_count": 18,
     "metadata": {},
     "output_type": "execute_result"
    }
   ],
   "source": [
    "X_train.cov()"
   ]
  },
  {
   "cell_type": "code",
   "execution_count": 19,
   "id": "4b9dcab7",
   "metadata": {},
   "outputs": [
    {
     "data": {
      "text/html": [
       "<div>\n",
       "<style scoped>\n",
       "    .dataframe tbody tr th:only-of-type {\n",
       "        vertical-align: middle;\n",
       "    }\n",
       "\n",
       "    .dataframe tbody tr th {\n",
       "        vertical-align: top;\n",
       "    }\n",
       "\n",
       "    .dataframe thead th {\n",
       "        text-align: right;\n",
       "    }\n",
       "</style>\n",
       "<table border=\"1\" class=\"dataframe\">\n",
       "  <thead>\n",
       "    <tr style=\"text-align: right;\">\n",
       "      <th></th>\n",
       "      <th>Age</th>\n",
       "      <th>Fare</th>\n",
       "      <th>Family</th>\n",
       "      <th>median_age</th>\n",
       "      <th>mean_age</th>\n",
       "      <th>median_fare</th>\n",
       "      <th>mean_fare</th>\n",
       "    </tr>\n",
       "  </thead>\n",
       "  <tbody>\n",
       "    <tr>\n",
       "      <th>Age</th>\n",
       "      <td>1.000000</td>\n",
       "      <td>0.092644</td>\n",
       "      <td>-0.299113</td>\n",
       "      <td>1.000000</td>\n",
       "      <td>1.000000</td>\n",
       "      <td>0.087261</td>\n",
       "      <td>0.089695</td>\n",
       "    </tr>\n",
       "    <tr>\n",
       "      <th>Fare</th>\n",
       "      <td>0.092644</td>\n",
       "      <td>1.000000</td>\n",
       "      <td>0.208268</td>\n",
       "      <td>0.094361</td>\n",
       "      <td>0.089552</td>\n",
       "      <td>1.000000</td>\n",
       "      <td>1.000000</td>\n",
       "    </tr>\n",
       "    <tr>\n",
       "      <th>Family</th>\n",
       "      <td>-0.299113</td>\n",
       "      <td>0.208268</td>\n",
       "      <td>1.000000</td>\n",
       "      <td>-0.241469</td>\n",
       "      <td>-0.243953</td>\n",
       "      <td>0.205933</td>\n",
       "      <td>0.205681</td>\n",
       "    </tr>\n",
       "    <tr>\n",
       "      <th>median_age</th>\n",
       "      <td>1.000000</td>\n",
       "      <td>0.094361</td>\n",
       "      <td>-0.241469</td>\n",
       "      <td>1.000000</td>\n",
       "      <td>0.999043</td>\n",
       "      <td>0.089373</td>\n",
       "      <td>0.091765</td>\n",
       "    </tr>\n",
       "    <tr>\n",
       "      <th>mean_age</th>\n",
       "      <td>1.000000</td>\n",
       "      <td>0.089552</td>\n",
       "      <td>-0.243953</td>\n",
       "      <td>0.999043</td>\n",
       "      <td>1.000000</td>\n",
       "      <td>0.084786</td>\n",
       "      <td>0.087093</td>\n",
       "    </tr>\n",
       "    <tr>\n",
       "      <th>median_fare</th>\n",
       "      <td>0.087261</td>\n",
       "      <td>1.000000</td>\n",
       "      <td>0.205933</td>\n",
       "      <td>0.089373</td>\n",
       "      <td>0.084786</td>\n",
       "      <td>1.000000</td>\n",
       "      <td>0.997538</td>\n",
       "    </tr>\n",
       "    <tr>\n",
       "      <th>mean_fare</th>\n",
       "      <td>0.089695</td>\n",
       "      <td>1.000000</td>\n",
       "      <td>0.205681</td>\n",
       "      <td>0.091765</td>\n",
       "      <td>0.087093</td>\n",
       "      <td>0.997538</td>\n",
       "      <td>1.000000</td>\n",
       "    </tr>\n",
       "  </tbody>\n",
       "</table>\n",
       "</div>"
      ],
      "text/plain": [
       "                  Age      Fare    Family  median_age  mean_age  median_fare  \\\n",
       "Age          1.000000  0.092644 -0.299113    1.000000  1.000000     0.087261   \n",
       "Fare         0.092644  1.000000  0.208268    0.094361  0.089552     1.000000   \n",
       "Family      -0.299113  0.208268  1.000000   -0.241469 -0.243953     0.205933   \n",
       "median_age   1.000000  0.094361 -0.241469    1.000000  0.999043     0.089373   \n",
       "mean_age     1.000000  0.089552 -0.243953    0.999043  1.000000     0.084786   \n",
       "median_fare  0.087261  1.000000  0.205933    0.089373  0.084786     1.000000   \n",
       "mean_fare    0.089695  1.000000  0.205681    0.091765  0.087093     0.997538   \n",
       "\n",
       "             mean_fare  \n",
       "Age           0.089695  \n",
       "Fare          1.000000  \n",
       "Family        0.205681  \n",
       "median_age    0.091765  \n",
       "mean_age      0.087093  \n",
       "median_fare   0.997538  \n",
       "mean_fare     1.000000  "
      ]
     },
     "execution_count": 19,
     "metadata": {},
     "output_type": "execute_result"
    }
   ],
   "source": [
    "#checking for correlation\n",
    "X_train.corr()"
   ]
  },
  {
   "cell_type": "code",
   "execution_count": 20,
   "id": "e74423f5",
   "metadata": {},
   "outputs": [
    {
     "data": {
      "text/plain": [
       "<AxesSubplot: >"
      ]
     },
     "execution_count": 20,
     "metadata": {},
     "output_type": "execute_result"
    },
    {
     "data": {
      "image/png": "[encoded data removed]",
      "text/plain": [
       "<Figure size 640x480 with 1 Axes>"
      ]
     },
     "metadata": {},
     "output_type": "display_data"
    }
   ],
   "source": [
    "#checking for outliers age\n",
    "X_train[['Age','mean_age','median_age']].boxplot()"
   ]
  },
  {
   "cell_type": "code",
   "execution_count": 21,
   "id": "12a8a512",
   "metadata": {},
   "outputs": [
    {
     "data": {
      "text/plain": [
       "<AxesSubplot: >"
      ]
     },
     "execution_count": 21,
     "metadata": {},
     "output_type": "execute_result"
    },
    {
     "data": {
      "image/png": "[encoded data removed]",
      "text/plain": [
       "<Figure size 640x480 with 1 Axes>"
      ]
     },
     "metadata": {},
     "output_type": "display_data"
    }
   ],
   "source": [
    "  "
   ]
  },
  {
   "cell_type": "markdown",
   "id": "6f1a0ba1",
   "metadata": {},
   "source": [
    "# By Sklearn"
   ]
  },
  {
   "cell_type": "markdown",
   "id": "495dbaf5",
   "metadata": {},
   "source": [
    "# Applying train test split"
   ]
  },
  {
   "cell_type": "code",
   "execution_count": 22,
   "id": "b40a5239",
   "metadata": {},
   "outputs": [],
   "source": [
    "X_train,X_test,y_train,y_test = train_test_split(X,y,test_size=0.2,random_state=2)"
   ]
  },
  {
   "cell_type": "code",
   "execution_count": 23,
   "id": "8d3a0b72",
   "metadata": {},
   "outputs": [],
   "source": [
    "imputer1 = SimpleImputer(strategy='median')\n",
    "imputer2 = SimpleImputer(strategy='mean')"
   ]
  },
  {
   "cell_type": "code",
   "execution_count": 24,
   "id": "415833bf",
   "metadata": {},
   "outputs": [],
   "source": [
    "trf = ColumnTransformer([\n",
    "    ('imputer1',imputer1,['Age']),\n",
    "    ('imputer2',imputer2,['Fare'])\n",
    "],remainder='passthrough')"
   ]
  },
  {
   "cell_type": "code",
   "execution_count": 26,
   "id": "007f5520",
   "metadata": {},
   "outputs": [
    {
     "data": {
      "text/plain": [
       "ColumnTransformer(remainder='passthrough',\n",
       "                  transformers=[('imputer1', SimpleImputer(strategy='median'),\n",
       "                                 ['Age']),\n",
       "                                ('imputer2', SimpleImputer(), ['Fare'])])"
      ]
     },
     "execution_count": 26,
     "metadata": {},
     "output_type": "execute_result"
    }
   ],
   "source": [
    "trf.fit(X_train)"
   ]
  },
  {
   "cell_type": "code",
   "execution_count": 27,
   "id": "1563c32b",
   "metadata": {},
   "outputs": [
    {
     "data": {
      "text/plain": [
       "array([28.75])"
      ]
     },
     "execution_count": 27,
     "metadata": {},
     "output_type": "execute_result"
    }
   ],
   "source": [
    "trf.named_transformers_['imputer1'].statistics_"
   ]
  },
  {
   "cell_type": "code",
   "execution_count": 28,
   "id": "941fdd5f",
   "metadata": {},
   "outputs": [
    {
     "data": {
      "text/plain": [
       "array([32.61759689])"
      ]
     },
     "execution_count": 28,
     "metadata": {},
     "output_type": "execute_result"
    }
   ],
   "source": [
    "trf.named_transformers_['imputer2'].statistics_"
   ]
  },
  {
   "cell_type": "code",
   "execution_count": 29,
   "id": "13563fae",
   "metadata": {},
   "outputs": [],
   "source": [
    "X_train = trf.transform(X_train)\n",
    "X_test = trf.transform(X_test)"
   ]
  },
  {
   "cell_type": "code",
   "execution_count": 30,
   "id": "661f17b1",
   "metadata": {},
   "outputs": [
    {
     "data": {
      "text/plain": [
       "array([[ 40.    ,  27.7208,   0.    ],\n",
       "       [  4.    ,  16.7   ,   2.    ],\n",
       "       [ 47.    ,   9.    ,   0.    ],\n",
       "       ...,\n",
       "       [ 71.    ,  49.5042,   0.    ],\n",
       "       [ 28.75  , 221.7792,   0.    ],\n",
       "       [ 28.75  ,  25.925 ,   0.    ]])"
      ]
     },
     "execution_count": 30,
     "metadata": {},
     "output_type": "execute_result"
    }
   ],
   "source": [
    "X_train"
   ]
  },
  {
   "cell_type": "code",
   "execution_count": 31,
   "id": "d98495a1",
   "metadata": {},
   "outputs": [
    {
     "data": {
      "text/plain": [
       "array([[ 42.        ,  26.2875    ,   0.        ],\n",
       "       [ 21.        ,   8.05      ,   0.        ],\n",
       "       [ 24.        ,  65.        ,   3.        ],\n",
       "       [ 28.        ,  56.4958    ,   0.        ],\n",
       "       [ 17.        ,   7.925     ,   6.        ],\n",
       "       [ 30.        ,   7.8958    ,   0.        ],\n",
       "       [ 80.        ,  30.        ,   0.        ],\n",
       "       [ 25.        ,   7.25      ,   0.        ],\n",
       "       [ 50.        , 133.65      ,   2.        ],\n",
       "       [ 25.        ,  26.        ,   1.        ],\n",
       "       [ 35.        ,  26.        ,   0.        ],\n",
       "       [ 35.        ,  90.        ,   1.        ],\n",
       "       [ 55.        ,  16.        ,   0.        ],\n",
       "       [ 28.75      ,  56.4958    ,   0.        ],\n",
       "       [ 28.75      ,  56.4958    ,   0.        ],\n",
       "       [ 19.        ,   7.8542    ,   1.        ],\n",
       "       [ 28.75      ,  15.2458    ,   2.        ],\n",
       "       [ 49.        ,   0.        ,   0.        ],\n",
       "       [ 18.        ,  32.61759689,   1.        ],\n",
       "       [ 65.        ,   7.75      ,   0.        ],\n",
       "       [ 18.        , 108.9       ,   1.        ],\n",
       "       [ 28.75      ,  22.3583    ,   2.        ],\n",
       "       [ 16.        ,  18.        ,   2.        ],\n",
       "       [ 21.        ,   9.825     ,   1.        ],\n",
       "       [ 19.        ,   6.75      ,   0.        ],\n",
       "       [  1.        ,  11.1333    ,   2.        ],\n",
       "       [ 50.        ,  10.5       ,   0.        ],\n",
       "       [ 37.        ,  53.1       ,   1.        ],\n",
       "       [ 28.        ,  32.61759689,   0.        ],\n",
       "       [ 54.        ,  14.        ,   0.        ],\n",
       "       [ 20.        ,   7.925     ,   0.        ],\n",
       "       [ 36.        ,   0.        ,   0.        ],\n",
       "       [  6.        ,  31.275     ,   6.        ],\n",
       "       [ 28.75      ,  50.        ,   0.        ],\n",
       "       [ 40.        ,  31.        ,   0.        ],\n",
       "       [ 26.        ,  16.1       ,   1.        ],\n",
       "       [ 30.        ,  32.61759689,   0.        ],\n",
       "       [  1.        ,  46.9       ,   7.        ],\n",
       "       [ 28.75      ,   7.8958    ,   0.        ],\n",
       "       [ 35.        ,  10.5       ,   0.        ],\n",
       "       [ 38.        ,   7.05      ,   0.        ],\n",
       "       [ 44.        ,  16.1       ,   1.        ],\n",
       "       [ 22.        ,   7.75      ,   0.        ],\n",
       "       [ 18.        ,   6.4958    ,   1.        ],\n",
       "       [ 21.        ,   8.4333    ,   0.        ],\n",
       "       [ 28.75      , 227.525     ,   0.        ],\n",
       "       [ 21.        ,  77.9583    ,   0.        ],\n",
       "       [ 28.75      ,   8.6625    ,   0.        ],\n",
       "       [ 22.        ,   7.225     ,   0.        ],\n",
       "       [ 27.        ,  10.5       ,   0.        ],\n",
       "       [ 28.75      ,   8.05      ,   0.        ],\n",
       "       [ 51.        ,  26.55      ,   0.        ],\n",
       "       [ 28.        ,  33.        ,   1.        ],\n",
       "       [ 47.        ,  38.5       ,   0.        ],\n",
       "       [ 32.        ,  10.5       ,   0.        ],\n",
       "       [ 48.        ,  52.        ,   1.        ],\n",
       "       [ 10.        ,  24.15      ,   2.        ],\n",
       "       [ 21.        ,   8.6625    ,   0.        ],\n",
       "       [ 51.        ,   7.0542    ,   0.        ],\n",
       "       [ 32.        ,   7.925     ,   0.        ],\n",
       "       [ 42.        ,  13.        ,   0.        ],\n",
       "       [  2.        ,  26.        ,   2.        ],\n",
       "       [ 35.        ,   8.05      ,   0.        ],\n",
       "       [ 28.75      ,   7.25      ,   0.        ],\n",
       "       [  2.        ,  10.4625    ,   1.        ],\n",
       "       [ 33.        ,   9.5       ,   0.        ],\n",
       "       [ 48.        ,  25.9292    ,   0.        ],\n",
       "       [ 55.        ,  30.5       ,   0.        ],\n",
       "       [  1.        ,  39.6875    ,   5.        ],\n",
       "       [ 17.        ,   7.0542    ,   1.        ],\n",
       "       [ 24.        ,  15.85      ,   1.        ],\n",
       "       [ 74.        ,   7.775     ,   0.        ],\n",
       "       [ 28.75      ,  24.15      ,   1.        ],\n",
       "       [ 28.        ,   7.7958    ,   0.        ],\n",
       "       [ 26.        ,   7.8542    ,   0.        ],\n",
       "       [  1.        ,  39.        ,   3.        ],\n",
       "       [ 18.        ,   8.05      ,   0.        ],\n",
       "       [  3.        ,  26.        ,   2.        ],\n",
       "       [ 48.        ,  39.6       ,   1.        ],\n",
       "       [ 32.        ,  56.4958    ,   0.        ],\n",
       "       [ 19.        ,  91.0792    ,   1.        ],\n",
       "       [ 28.75      ,  42.4       ,   0.        ],\n",
       "       [ 70.        ,  10.5       ,   0.        ],\n",
       "       [ 34.        ,  26.        ,   1.        ],\n",
       "       [ 39.        , 110.8833    ,   2.        ],\n",
       "       [ 17.        ,  10.5       ,   0.        ],\n",
       "       [ 38.        ,   8.6625    ,   0.        ],\n",
       "       [ 28.75      ,   7.8958    ,   0.        ],\n",
       "       [ 30.        ,  21.        ,   3.        ],\n",
       "       [ 28.        ,  13.        ,   0.        ],\n",
       "       [ 28.75      ,   7.725     ,   0.        ],\n",
       "       [ 19.        ,   8.1583    ,   0.        ],\n",
       "       [ 29.        ,   7.75      ,   0.        ],\n",
       "       [ 28.75      ,   7.8958    ,   0.        ],\n",
       "       [ 44.        ,   7.925     ,   0.        ],\n",
       "       [ 22.        ,  41.5792    ,   3.        ],\n",
       "       [ 21.        ,  34.375     ,   4.        ],\n",
       "       [ 41.        ,  19.5       ,   1.        ],\n",
       "       [ 28.75      ,   7.225     ,   0.        ],\n",
       "       [ 25.        ,  55.4417    ,   1.        ],\n",
       "       [  0.92      ,  32.61759689,   3.        ],\n",
       "       [ 44.        ,  26.        ,   1.        ],\n",
       "       [ 19.        ,  26.        ,   0.        ],\n",
       "       [ 30.        ,  56.9292    ,   0.        ],\n",
       "       [ 20.        ,   9.5       ,   0.        ],\n",
       "       [  5.        ,  12.475     ,   0.        ],\n",
       "       [  4.        ,  39.        ,   3.        ],\n",
       "       [ 28.75      ,  16.1       ,   1.        ],\n",
       "       [ 38.        ,   0.        ,   0.        ],\n",
       "       [ 28.        ,  22.525     ,   0.        ],\n",
       "       [ 28.75      ,  30.        ,   0.        ],\n",
       "       [ 29.        ,   7.775     ,   0.        ],\n",
       "       [ 49.        ,  89.1042    ,   1.        ],\n",
       "       [ 19.        ,  14.5       ,   0.        ],\n",
       "       [ 18.        , 262.375     ,   4.        ],\n",
       "       [ 31.        ,  26.25      ,   2.        ],\n",
       "       [ 27.        ,   7.7958    ,   0.        ],\n",
       "       [ 36.        ,  32.61759689,   3.        ],\n",
       "       [  8.        ,  36.75      ,   2.        ],\n",
       "       [  2.        ,  21.075     ,   4.        ],\n",
       "       [ 63.        ,  77.9583    ,   1.        ],\n",
       "       [ 31.        ,   7.75      ,   0.        ],\n",
       "       [ 28.75      ,   0.        ,   0.        ],\n",
       "       [ 25.        ,  13.        ,   0.        ],\n",
       "       [ 20.5       ,   7.25      ,   0.        ],\n",
       "       [ 28.75      ,   7.8958    ,   0.        ],\n",
       "       [ 64.        , 263.        ,   5.        ],\n",
       "       [ 19.        ,  26.        ,   1.        ],\n",
       "       [ 18.        ,   7.775     ,   0.        ],\n",
       "       [ 28.75      ,   0.        ,   0.        ],\n",
       "       [ 28.75      ,   7.8958    ,   0.        ],\n",
       "       [ 11.        ,  18.7875    ,   0.        ],\n",
       "       [ 15.        ,  14.4542    ,   1.        ],\n",
       "       [ 22.        ,  55.        ,   1.        ],\n",
       "       [ 50.        ,  13.        ,   0.        ],\n",
       "       [ 28.        ,  14.4       ,   2.        ],\n",
       "       [ 39.        ,  13.        ,   0.        ],\n",
       "       [ 28.75      ,   8.05      ,   0.        ],\n",
       "       [ 39.        ,  32.61759689,   0.        ],\n",
       "       [ 24.        ,  16.1       ,   1.        ],\n",
       "       [ 23.        ,  32.61759689,   0.        ],\n",
       "       [ 17.        ,  57.        ,   1.        ],\n",
       "       [ 44.        ,  26.        ,   1.        ],\n",
       "       [ 23.        ,  13.7917    ,   0.        ],\n",
       "       [ 28.75      ,  26.55      ,   0.        ],\n",
       "       [ 52.        ,  78.2667    ,   1.        ],\n",
       "       [ 24.5       ,   8.05      ,   0.        ],\n",
       "       [ 55.5       ,   8.05      ,   0.        ],\n",
       "       [ 18.        ,   7.7958    ,   0.        ],\n",
       "       [ 18.        ,  13.        ,   2.        ],\n",
       "       [ 45.        ,  83.475     ,   1.        ],\n",
       "       [ 31.        ,  18.        ,   1.        ],\n",
       "       [ 30.5       ,   8.05      ,   0.        ],\n",
       "       [ 42.        ,   8.4042    ,   1.        ],\n",
       "       [ 28.75      ,   7.75      ,   0.        ],\n",
       "       [ 36.        ,   7.4958    ,   0.        ],\n",
       "       [ 34.        ,  26.55      ,   0.        ],\n",
       "       [ 54.        ,  78.2667    ,   1.        ],\n",
       "       [ 15.        ,   8.0292    ,   0.        ],\n",
       "       [ 25.        ,   7.775     ,   1.        ],\n",
       "       [ 26.        ,  32.61759689,   0.        ],\n",
       "       [ 28.75      ,   8.1125    ,   0.        ],\n",
       "       [ 19.        ,   8.05      ,   0.        ],\n",
       "       [ 29.        ,   7.8958    ,   0.        ],\n",
       "       [ 19.        ,  30.        ,   0.        ],\n",
       "       [ 33.        ,  90.        ,   1.        ],\n",
       "       [ 36.        ,  24.15      ,   2.        ],\n",
       "       [ 28.75      ,   7.775     ,   0.        ],\n",
       "       [ 35.        , 512.3292    ,   0.        ],\n",
       "       [ 22.        ,   7.25      ,   0.        ],\n",
       "       [ 28.75      ,  16.1       ,   1.        ],\n",
       "       [ 18.        ,   7.4958    ,   0.        ],\n",
       "       [ 28.        ,  26.        ,   1.        ],\n",
       "       [ 22.        ,   7.25      ,   0.        ],\n",
       "       [ 24.        ,   8.05      ,   0.        ],\n",
       "       [ 22.        ,   9.        ,   0.        ],\n",
       "       [ 28.75      ,  69.55      ,  10.        ],\n",
       "       [ 26.        ,   7.8958    ,   0.        ],\n",
       "       [ 29.        ,  32.61759689,   2.        ]])"
      ]
     },
     "execution_count": 31,
     "metadata": {},
     "output_type": "execute_result"
    }
   ],
   "source": [
    "X_test"
   ]
  },
  {
   "cell_type": "code",
   "execution_count": null,
   "id": "42cec429",
   "metadata": {},
   "outputs": [],
   "source": []
  }
 ],
 "metadata": {
  "kernelspec": {
   "display_name": "Python 3 (ipykernel)",
   "language": "python",
   "name": "python3"
  },
  "language_info": {
   "codemirror_mode": {
    "name": "ipython",
    "version": 3
   },
   "file_extension": ".py",
   "mimetype": "text/x-python",
   "name": "python",
   "nbconvert_exporter": "python",
   "pygments_lexer": "ipython3",
   "version": "3.10.4"
  }
 },
 "nbformat": 4,
 "nbformat_minor": 5
}
