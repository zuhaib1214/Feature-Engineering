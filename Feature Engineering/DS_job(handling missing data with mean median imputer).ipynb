{
 "cells": [
  {
   "cell_type": "code",
   "execution_count": 1,
   "metadata": {
    "collapsed": true
   },
   "outputs": [],
   "source": [
    "import pandas as pd\n",
    "import numpy as np"
   ]
  },
  {
   "cell_type": "code",
   "execution_count": 2,
   "outputs": [
    {
     "data": {
      "text/plain": "       enrollee_id      city  city_development_index gender  \\\n0             8949  city_103                   0.920   Male   \n1            29725   city_40                   0.776   Male   \n2            11561   city_21                   0.624    NaN   \n3            33241  city_115                   0.789    NaN   \n4              666  city_162                   0.767   Male   \n...            ...       ...                     ...    ...   \n19153         7386  city_173                   0.878   Male   \n19154        31398  city_103                   0.920   Male   \n19155        24576  city_103                   0.920   Male   \n19156         5756   city_65                   0.802   Male   \n19157        23834   city_67                   0.855    NaN   \n\n           relevent_experience enrolled_university education_level  \\\n0      Has relevent experience       no_enrollment        Graduate   \n1       No relevent experience       no_enrollment        Graduate   \n2       No relevent experience    Full time course        Graduate   \n3       No relevent experience                 NaN        Graduate   \n4      Has relevent experience       no_enrollment         Masters   \n...                        ...                 ...             ...   \n19153   No relevent experience       no_enrollment        Graduate   \n19154  Has relevent experience       no_enrollment        Graduate   \n19155  Has relevent experience       no_enrollment        Graduate   \n19156  Has relevent experience       no_enrollment     High School   \n19157   No relevent experience       no_enrollment  Primary School   \n\n      major_discipline  experience company_size    company_type  \\\n0                 STEM        20.0          NaN             NaN   \n1                 STEM        15.0        50-99         Pvt Ltd   \n2                 STEM         5.0          NaN             NaN   \n3      Business Degree         0.0          NaN         Pvt Ltd   \n4                 STEM        20.0        50-99  Funded Startup   \n...                ...         ...          ...             ...   \n19153       Humanities        14.0          NaN             NaN   \n19154             STEM        14.0          NaN             NaN   \n19155             STEM        20.0        50-99         Pvt Ltd   \n19156              NaN         0.0      500-999         Pvt Ltd   \n19157              NaN         2.0          NaN             NaN   \n\n       training_hours  target  \n0                36.0     1.0  \n1                47.0     0.0  \n2                83.0     0.0  \n3                52.0     1.0  \n4                 8.0     0.0  \n...               ...     ...  \n19153            42.0     1.0  \n19154            52.0     1.0  \n19155            44.0     0.0  \n19156            97.0     0.0  \n19157           127.0     0.0  \n\n[19158 rows x 13 columns]",
      "text/html": "<div>\n<style scoped>\n    .dataframe tbody tr th:only-of-type {\n        vertical-align: middle;\n    }\n\n    .dataframe tbody tr th {\n        vertical-align: top;\n    }\n\n    .dataframe thead th {\n        text-align: right;\n    }\n</style>\n<table border=\"1\" class=\"dataframe\">\n  <thead>\n    <tr style=\"text-align: right;\">\n      <th></th>\n      <th>enrollee_id</th>\n      <th>city</th>\n      <th>city_development_index</th>\n      <th>gender</th>\n      <th>relevent_experience</th>\n      <th>enrolled_university</th>\n      <th>education_level</th>\n      <th>major_discipline</th>\n      <th>experience</th>\n      <th>company_size</th>\n      <th>company_type</th>\n      <th>training_hours</th>\n      <th>target</th>\n    </tr>\n  </thead>\n  <tbody>\n    <tr>\n      <th>0</th>\n      <td>8949</td>\n      <td>city_103</td>\n      <td>0.920</td>\n      <td>Male</td>\n      <td>Has relevent experience</td>\n      <td>no_enrollment</td>\n      <td>Graduate</td>\n      <td>STEM</td>\n      <td>20.0</td>\n      <td>NaN</td>\n      <td>NaN</td>\n      <td>36.0</td>\n      <td>1.0</td>\n    </tr>\n    <tr>\n      <th>1</th>\n      <td>29725</td>\n      <td>city_40</td>\n      <td>0.776</td>\n      <td>Male</td>\n      <td>No relevent experience</td>\n      <td>no_enrollment</td>\n      <td>Graduate</td>\n      <td>STEM</td>\n      <td>15.0</td>\n      <td>50-99</td>\n      <td>Pvt Ltd</td>\n      <td>47.0</td>\n      <td>0.0</td>\n    </tr>\n    <tr>\n      <th>2</th>\n      <td>11561</td>\n      <td>city_21</td>\n      <td>0.624</td>\n      <td>NaN</td>\n      <td>No relevent experience</td>\n      <td>Full time course</td>\n      <td>Graduate</td>\n      <td>STEM</td>\n      <td>5.0</td>\n      <td>NaN</td>\n      <td>NaN</td>\n      <td>83.0</td>\n      <td>0.0</td>\n    </tr>\n    <tr>\n      <th>3</th>\n      <td>33241</td>\n      <td>city_115</td>\n      <td>0.789</td>\n      <td>NaN</td>\n      <td>No relevent experience</td>\n      <td>NaN</td>\n      <td>Graduate</td>\n      <td>Business Degree</td>\n      <td>0.0</td>\n      <td>NaN</td>\n      <td>Pvt Ltd</td>\n      <td>52.0</td>\n      <td>1.0</td>\n    </tr>\n    <tr>\n      <th>4</th>\n      <td>666</td>\n      <td>city_162</td>\n      <td>0.767</td>\n      <td>Male</td>\n      <td>Has relevent experience</td>\n      <td>no_enrollment</td>\n      <td>Masters</td>\n      <td>STEM</td>\n      <td>20.0</td>\n      <td>50-99</td>\n      <td>Funded Startup</td>\n      <td>8.0</td>\n      <td>0.0</td>\n    </tr>\n    <tr>\n      <th>...</th>\n      <td>...</td>\n      <td>...</td>\n      <td>...</td>\n      <td>...</td>\n      <td>...</td>\n      <td>...</td>\n      <td>...</td>\n      <td>...</td>\n      <td>...</td>\n      <td>...</td>\n      <td>...</td>\n      <td>...</td>\n      <td>...</td>\n    </tr>\n    <tr>\n      <th>19153</th>\n      <td>7386</td>\n      <td>city_173</td>\n      <td>0.878</td>\n      <td>Male</td>\n      <td>No relevent experience</td>\n      <td>no_enrollment</td>\n      <td>Graduate</td>\n      <td>Humanities</td>\n      <td>14.0</td>\n      <td>NaN</td>\n      <td>NaN</td>\n      <td>42.0</td>\n      <td>1.0</td>\n    </tr>\n    <tr>\n      <th>19154</th>\n      <td>31398</td>\n      <td>city_103</td>\n      <td>0.920</td>\n      <td>Male</td>\n      <td>Has relevent experience</td>\n      <td>no_enrollment</td>\n      <td>Graduate</td>\n      <td>STEM</td>\n      <td>14.0</td>\n      <td>NaN</td>\n      <td>NaN</td>\n      <td>52.0</td>\n      <td>1.0</td>\n    </tr>\n    <tr>\n      <th>19155</th>\n      <td>24576</td>\n      <td>city_103</td>\n      <td>0.920</td>\n      <td>Male</td>\n      <td>Has relevent experience</td>\n      <td>no_enrollment</td>\n      <td>Graduate</td>\n      <td>STEM</td>\n      <td>20.0</td>\n      <td>50-99</td>\n      <td>Pvt Ltd</td>\n      <td>44.0</td>\n      <td>0.0</td>\n    </tr>\n    <tr>\n      <th>19156</th>\n      <td>5756</td>\n      <td>city_65</td>\n      <td>0.802</td>\n      <td>Male</td>\n      <td>Has relevent experience</td>\n      <td>no_enrollment</td>\n      <td>High School</td>\n      <td>NaN</td>\n      <td>0.0</td>\n      <td>500-999</td>\n      <td>Pvt Ltd</td>\n      <td>97.0</td>\n      <td>0.0</td>\n    </tr>\n    <tr>\n      <th>19157</th>\n      <td>23834</td>\n      <td>city_67</td>\n      <td>0.855</td>\n      <td>NaN</td>\n      <td>No relevent experience</td>\n      <td>no_enrollment</td>\n      <td>Primary School</td>\n      <td>NaN</td>\n      <td>2.0</td>\n      <td>NaN</td>\n      <td>NaN</td>\n      <td>127.0</td>\n      <td>0.0</td>\n    </tr>\n  </tbody>\n</table>\n<p>19158 rows × 13 columns</p>\n</div>"
     },
     "execution_count": 2,
     "metadata": {},
     "output_type": "execute_result"
    }
   ],
   "source": [
    "df=pd.read_csv('data_science_job.csv')\n",
    "df"
   ],
   "metadata": {
    "collapsed": false
   }
  },
  {
   "cell_type": "code",
   "execution_count": 3,
   "outputs": [
    {
     "data": {
      "text/plain": "enrollee_id                  0\ncity                         0\ncity_development_index     479\ngender                    4508\nrelevent_experience          0\nenrolled_university        386\neducation_level            460\nmajor_discipline          2813\nexperience                  65\ncompany_size              5938\ncompany_type              6140\ntraining_hours             766\ntarget                       0\ndtype: int64"
     },
     "execution_count": 3,
     "metadata": {},
     "output_type": "execute_result"
    }
   ],
   "source": [
    "df.isnull().sum()"
   ],
   "metadata": {
    "collapsed": false
   }
  },
  {
   "cell_type": "code",
   "execution_count": 4,
   "outputs": [
    {
     "data": {
      "text/plain": "enrollee_id                0.000000\ncity                       0.000000\ncity_development_index     2.500261\ngender                    23.530640\nrelevent_experience        0.000000\nenrolled_university        2.014824\neducation_level            2.401086\nmajor_discipline          14.683161\nexperience                 0.339284\ncompany_size              30.994885\ncompany_type              32.049274\ntraining_hours             3.998330\ntarget                     0.000000\ndtype: float64"
     },
     "execution_count": 4,
     "metadata": {},
     "output_type": "execute_result"
    }
   ],
   "source": [
    "df.isnull().mean()*100"
   ],
   "metadata": {
    "collapsed": false
   }
  },
  {
   "cell_type": "code",
   "execution_count": 5,
   "outputs": [
    {
     "data": {
      "text/plain": "['city_development_index',\n 'enrolled_university',\n 'education_level',\n 'experience',\n 'training_hours']"
     },
     "execution_count": 5,
     "metadata": {},
     "output_type": "execute_result"
    }
   ],
   "source": [
    "col=[var for var in df.columns if df[var].isnull().mean()<0.05 and df[var].isnull().mean()>0]\n",
    "col"
   ],
   "metadata": {
    "collapsed": false
   }
  },
  {
   "cell_type": "code",
   "execution_count": 6,
   "outputs": [],
   "source": [
    "df=pd.read_csv('data_science_job.csv',usecols=['city_development_index',\n",
    "                                               'experience',\n",
    "                                               'training_hours',\n",
    "                                               'target'])"
   ],
   "metadata": {
    "collapsed": false
   }
  },
  {
   "cell_type": "code",
   "execution_count": 7,
   "outputs": [
    {
     "data": {
      "text/plain": "       city_development_index  experience  training_hours  target\n0                       0.920        20.0            36.0     1.0\n1                       0.776        15.0            47.0     0.0\n2                       0.624         5.0            83.0     0.0\n3                       0.789         0.0            52.0     1.0\n4                       0.767        20.0             8.0     0.0\n...                       ...         ...             ...     ...\n19153                   0.878        14.0            42.0     1.0\n19154                   0.920        14.0            52.0     1.0\n19155                   0.920        20.0            44.0     0.0\n19156                   0.802         0.0            97.0     0.0\n19157                   0.855         2.0           127.0     0.0\n\n[19158 rows x 4 columns]",
      "text/html": "<div>\n<style scoped>\n    .dataframe tbody tr th:only-of-type {\n        vertical-align: middle;\n    }\n\n    .dataframe tbody tr th {\n        vertical-align: top;\n    }\n\n    .dataframe thead th {\n        text-align: right;\n    }\n</style>\n<table border=\"1\" class=\"dataframe\">\n  <thead>\n    <tr style=\"text-align: right;\">\n      <th></th>\n      <th>city_development_index</th>\n      <th>experience</th>\n      <th>training_hours</th>\n      <th>target</th>\n    </tr>\n  </thead>\n  <tbody>\n    <tr>\n      <th>0</th>\n      <td>0.920</td>\n      <td>20.0</td>\n      <td>36.0</td>\n      <td>1.0</td>\n    </tr>\n    <tr>\n      <th>1</th>\n      <td>0.776</td>\n      <td>15.0</td>\n      <td>47.0</td>\n      <td>0.0</td>\n    </tr>\n    <tr>\n      <th>2</th>\n      <td>0.624</td>\n      <td>5.0</td>\n      <td>83.0</td>\n      <td>0.0</td>\n    </tr>\n    <tr>\n      <th>3</th>\n      <td>0.789</td>\n      <td>0.0</td>\n      <td>52.0</td>\n      <td>1.0</td>\n    </tr>\n    <tr>\n      <th>4</th>\n      <td>0.767</td>\n      <td>20.0</td>\n      <td>8.0</td>\n      <td>0.0</td>\n    </tr>\n    <tr>\n      <th>...</th>\n      <td>...</td>\n      <td>...</td>\n      <td>...</td>\n      <td>...</td>\n    </tr>\n    <tr>\n      <th>19153</th>\n      <td>0.878</td>\n      <td>14.0</td>\n      <td>42.0</td>\n      <td>1.0</td>\n    </tr>\n    <tr>\n      <th>19154</th>\n      <td>0.920</td>\n      <td>14.0</td>\n      <td>52.0</td>\n      <td>1.0</td>\n    </tr>\n    <tr>\n      <th>19155</th>\n      <td>0.920</td>\n      <td>20.0</td>\n      <td>44.0</td>\n      <td>0.0</td>\n    </tr>\n    <tr>\n      <th>19156</th>\n      <td>0.802</td>\n      <td>0.0</td>\n      <td>97.0</td>\n      <td>0.0</td>\n    </tr>\n    <tr>\n      <th>19157</th>\n      <td>0.855</td>\n      <td>2.0</td>\n      <td>127.0</td>\n      <td>0.0</td>\n    </tr>\n  </tbody>\n</table>\n<p>19158 rows × 4 columns</p>\n</div>"
     },
     "execution_count": 7,
     "metadata": {},
     "output_type": "execute_result"
    }
   ],
   "source": [
    "df"
   ],
   "metadata": {
    "collapsed": false
   }
  },
  {
   "cell_type": "code",
   "execution_count": 8,
   "outputs": [
    {
     "data": {
      "text/plain": "       city_development_index  experience  training_hours\n7725                    0.920         4.0            56.0\n135                     0.920         NaN            70.0\n3620                    0.920         4.0            52.0\n5413                    0.910         8.0            86.0\n12672                   0.926        20.0            43.0\n...                       ...         ...             ...\n9225                    0.479        10.0            35.0\n13123                   0.624         6.0             NaN\n9845                    0.920         6.0            48.0\n10799                   0.624         2.0            75.0\n2732                    0.910        12.0             3.0\n\n[3831 rows x 3 columns]",
      "text/html": "<div>\n<style scoped>\n    .dataframe tbody tr th:only-of-type {\n        vertical-align: middle;\n    }\n\n    .dataframe tbody tr th {\n        vertical-align: top;\n    }\n\n    .dataframe thead th {\n        text-align: right;\n    }\n</style>\n<table border=\"1\" class=\"dataframe\">\n  <thead>\n    <tr style=\"text-align: right;\">\n      <th></th>\n      <th>city_development_index</th>\n      <th>experience</th>\n      <th>training_hours</th>\n    </tr>\n  </thead>\n  <tbody>\n    <tr>\n      <th>7725</th>\n      <td>0.920</td>\n      <td>4.0</td>\n      <td>56.0</td>\n    </tr>\n    <tr>\n      <th>135</th>\n      <td>0.920</td>\n      <td>NaN</td>\n      <td>70.0</td>\n    </tr>\n    <tr>\n      <th>3620</th>\n      <td>0.920</td>\n      <td>4.0</td>\n      <td>52.0</td>\n    </tr>\n    <tr>\n      <th>5413</th>\n      <td>0.910</td>\n      <td>8.0</td>\n      <td>86.0</td>\n    </tr>\n    <tr>\n      <th>12672</th>\n      <td>0.926</td>\n      <td>20.0</td>\n      <td>43.0</td>\n    </tr>\n    <tr>\n      <th>...</th>\n      <td>...</td>\n      <td>...</td>\n      <td>...</td>\n    </tr>\n    <tr>\n      <th>9225</th>\n      <td>0.479</td>\n      <td>10.0</td>\n      <td>35.0</td>\n    </tr>\n    <tr>\n      <th>13123</th>\n      <td>0.624</td>\n      <td>6.0</td>\n      <td>NaN</td>\n    </tr>\n    <tr>\n      <th>9845</th>\n      <td>0.920</td>\n      <td>6.0</td>\n      <td>48.0</td>\n    </tr>\n    <tr>\n      <th>10799</th>\n      <td>0.624</td>\n      <td>2.0</td>\n      <td>75.0</td>\n    </tr>\n    <tr>\n      <th>2732</th>\n      <td>0.910</td>\n      <td>12.0</td>\n      <td>3.0</td>\n    </tr>\n  </tbody>\n</table>\n<p>3831 rows × 3 columns</p>\n</div>"
     },
     "execution_count": 8,
     "metadata": {},
     "output_type": "execute_result"
    }
   ],
   "source": [
    "from sklearn.model_selection import train_test_split\n",
    "x_train,x_test,y_train,y_test=train_test_split(df.drop('target',axis=1),df['target'],train_size=0.2,random_state=0)\n",
    "x_train"
   ],
   "metadata": {
    "collapsed": false
   }
  },
  {
   "cell_type": "code",
   "execution_count": 9,
   "outputs": [
    {
     "data": {
      "text/plain": "7725     0.0\n135      0.0\n3620     0.0\n5413     0.0\n12672    0.0\n        ... \n9225     1.0\n13123    1.0\n9845     0.0\n10799    0.0\n2732     0.0\nName: target, Length: 3831, dtype: float64"
     },
     "execution_count": 9,
     "metadata": {},
     "output_type": "execute_result"
    }
   ],
   "source": [
    "y_train"
   ],
   "metadata": {
    "collapsed": false
   }
  },
  {
   "cell_type": "code",
   "execution_count": 10,
   "outputs": [
    {
     "data": {
      "text/plain": "city_development_index    2.819107\nexperience                0.443748\ntraining_hours            3.706604\ndtype: float64"
     },
     "execution_count": 10,
     "metadata": {},
     "output_type": "execute_result"
    }
   ],
   "source": [
    "(x_train.isnull().mean())*100"
   ],
   "metadata": {
    "collapsed": false
   }
  },
  {
   "cell_type": "code",
   "execution_count": 11,
   "outputs": [],
   "source": [
    "mean_cdi=x_train['city_development_index'].mean()\n",
    "median_cdi=x_train['city_development_index'].median()\n",
    "\n",
    "mean_th=x_train['training_hours'].mean()\n",
    "median_th=x_train['training_hours'].median()\n",
    "\n",
    "mean_ex=x_train['experience'].mean()\n",
    "median_ex=x_train['experience'].median()\n",
    "\n",
    "\n",
    "mean_cdi=x_test['city_development_index'].mean()\n",
    "median_cdi=x_test['city_development_index'].median()\n",
    "\n",
    "mean_th=x_test['training_hours'].mean()\n",
    "median_th=x_test['training_hours'].median()\n",
    "\n",
    "mean_ex=x_test['experience'].mean()\n",
    "median_ex=x_test['experience'].median()"
   ],
   "metadata": {
    "collapsed": false
   }
  },
  {
   "cell_type": "code",
   "execution_count": 12,
   "outputs": [],
   "source": [
    "x_train['mean_cdi']=x_train['city_development_index'].fillna(mean_cdi)\n",
    "x_train['median_cdi']=x_train['city_development_index'].fillna(median_cdi)\n",
    "\n",
    "x_train['mean_th']=x_train['training_hours'].fillna(mean_th)\n",
    "x_train['median_th']=x_train['training_hours'].fillna(median_th)\n",
    "\n",
    "x_train['mean_ex']=x_train['experience'].fillna(mean_ex)\n",
    "x_train['median_ex']=x_train['experience'].fillna(median_ex)\n",
    "\n",
    "x_test['mean_cdi']=x_test['city_development_index'].fillna(mean_cdi)\n",
    "x_test['median_cdi']=x_test['city_development_index'].fillna(median_cdi)\n",
    "\n",
    "x_test['mean_th']=x_test['training_hours'].fillna(mean_th)\n",
    "x_test['median_th']=x_test['training_hours'].fillna(median_th)\n",
    "\n",
    "x_test['mean_ex']=x_test['experience'].fillna(mean_ex)\n",
    "x_test['median_ex']=x_test['experience'].fillna(median_ex)\n"
   ],
   "metadata": {
    "collapsed": false
   }
  },
  {
   "cell_type": "code",
   "execution_count": 13,
   "outputs": [
    {
     "data": {
      "text/plain": "       city_development_index  experience  training_hours  mean_cdi  \\\n7725                    0.920         4.0            56.0     0.920   \n135                     0.920         NaN            70.0     0.920   \n3620                    0.920         4.0            52.0     0.920   \n5413                    0.910         8.0            86.0     0.910   \n12672                   0.926        20.0            43.0     0.926   \n\n       median_cdi  mean_th  median_th    mean_ex  median_ex  \n7725        0.920     56.0       56.0   4.000000        4.0  \n135         0.920     70.0       70.0   9.918647        9.0  \n3620        0.920     52.0       52.0   4.000000        4.0  \n5413        0.910     86.0       86.0   8.000000        8.0  \n12672       0.926     43.0       43.0  20.000000       20.0  ",
      "text/html": "<div>\n<style scoped>\n    .dataframe tbody tr th:only-of-type {\n        vertical-align: middle;\n    }\n\n    .dataframe tbody tr th {\n        vertical-align: top;\n    }\n\n    .dataframe thead th {\n        text-align: right;\n    }\n</style>\n<table border=\"1\" class=\"dataframe\">\n  <thead>\n    <tr style=\"text-align: right;\">\n      <th></th>\n      <th>city_development_index</th>\n      <th>experience</th>\n      <th>training_hours</th>\n      <th>mean_cdi</th>\n      <th>median_cdi</th>\n      <th>mean_th</th>\n      <th>median_th</th>\n      <th>mean_ex</th>\n      <th>median_ex</th>\n    </tr>\n  </thead>\n  <tbody>\n    <tr>\n      <th>7725</th>\n      <td>0.920</td>\n      <td>4.0</td>\n      <td>56.0</td>\n      <td>0.920</td>\n      <td>0.920</td>\n      <td>56.0</td>\n      <td>56.0</td>\n      <td>4.000000</td>\n      <td>4.0</td>\n    </tr>\n    <tr>\n      <th>135</th>\n      <td>0.920</td>\n      <td>NaN</td>\n      <td>70.0</td>\n      <td>0.920</td>\n      <td>0.920</td>\n      <td>70.0</td>\n      <td>70.0</td>\n      <td>9.918647</td>\n      <td>9.0</td>\n    </tr>\n    <tr>\n      <th>3620</th>\n      <td>0.920</td>\n      <td>4.0</td>\n      <td>52.0</td>\n      <td>0.920</td>\n      <td>0.920</td>\n      <td>52.0</td>\n      <td>52.0</td>\n      <td>4.000000</td>\n      <td>4.0</td>\n    </tr>\n    <tr>\n      <th>5413</th>\n      <td>0.910</td>\n      <td>8.0</td>\n      <td>86.0</td>\n      <td>0.910</td>\n      <td>0.910</td>\n      <td>86.0</td>\n      <td>86.0</td>\n      <td>8.000000</td>\n      <td>8.0</td>\n    </tr>\n    <tr>\n      <th>12672</th>\n      <td>0.926</td>\n      <td>20.0</td>\n      <td>43.0</td>\n      <td>0.926</td>\n      <td>0.926</td>\n      <td>43.0</td>\n      <td>43.0</td>\n      <td>20.000000</td>\n      <td>20.0</td>\n    </tr>\n  </tbody>\n</table>\n</div>"
     },
     "execution_count": 13,
     "metadata": {},
     "output_type": "execute_result"
    }
   ],
   "source": [
    "x_train.head()"
   ],
   "metadata": {
    "collapsed": false
   }
  },
  {
   "cell_type": "code",
   "execution_count": 14,
   "outputs": [
    {
     "data": {
      "text/plain": "city_development_index    2.819107\nexperience                0.443748\ntraining_hours            3.706604\nmean_cdi                  0.000000\nmedian_cdi                0.000000\nmean_th                   0.000000\nmedian_th                 0.000000\nmean_ex                   0.000000\nmedian_ex                 0.000000\ndtype: float64"
     },
     "execution_count": 14,
     "metadata": {},
     "output_type": "execute_result"
    }
   ],
   "source": [
    "(x_train.isnull().mean())*100"
   ],
   "metadata": {
    "collapsed": false
   }
  },
  {
   "cell_type": "code",
   "execution_count": 15,
   "outputs": [
    {
     "data": {
      "text/plain": "city_development_index    108\nexperience                 17\ntraining_hours            142\nmean_cdi                    0\nmedian_cdi                  0\nmean_th                     0\nmedian_th                   0\nmean_ex                     0\nmedian_ex                   0\ndtype: int64"
     },
     "execution_count": 15,
     "metadata": {},
     "output_type": "execute_result"
    }
   ],
   "source": [
    "x_train.isnull().sum()"
   ],
   "metadata": {
    "collapsed": false
   }
  },
  {
   "cell_type": "code",
   "execution_count": 16,
   "outputs": [
    {
     "name": "stdout",
     "output_type": "stream",
     "text": [
      "x_train : \n",
      "Original city_development_index Variance :  0.015490988573289828\n",
      "Mean city_development_index Variance :  0.015054338642238537\n",
      "Median city_development_index Variance :  0.015212671119689651\n",
      "Original experience Variance :  42.49423040240891\n",
      "Mean experience Variance :  42.30562347802776\n",
      "Median experience Variance :  42.30973431665434\n",
      "Original training_hours Variance :  3464.8123844177558\n",
      "Mean training_hours Variance :  3336.3787828656864\n",
      "Median training_hours Variance :  3347.2769162929962\n",
      "x_test : \n",
      "Original city_development_index Variance :  0.015141552744186694\n",
      "Mean city_development_index Variance :  0.014775017701246972\n",
      "Median city_development_index Variance :  0.014902800168215123\n",
      "Original experience Variance :  42.27699159639913\n",
      "Mean experience Variance :  42.144582905505644\n",
      "Median experience Variance :  42.147217701817475\n",
      "Original training_hours Variance :  3616.853752298061\n",
      "Mean training_hours Variance :  3469.5931010234885\n",
      "Median training_hours Variance :  3482.75838885938\n"
     ]
    }
   ],
   "source": [
    "print('x_train : ')\n",
    "print('Original city_development_index Variance : ',x_train['city_development_index'].var())\n",
    "print('Mean city_development_index Variance : ',x_train['mean_cdi'].var())\n",
    "print('Median city_development_index Variance : ',x_train['median_cdi'].var())\n",
    "\n",
    "print('Original experience Variance : ',x_train['experience'].var())\n",
    "print('Mean experience Variance : ',x_train['mean_ex'].var())\n",
    "print('Median experience Variance : ',x_train['median_ex'].var())\n",
    "\n",
    "print('Original training_hours Variance : ',x_train['training_hours'].var())\n",
    "print('Mean training_hours Variance : ',x_train['mean_th'].var())\n",
    "print('Median training_hours Variance : ',x_train['median_th'].var())\n",
    "# checking variance for x_test\n",
    "print('x_test : ')\n",
    "print('Original city_development_index Variance : ',x_test['city_development_index'].var())\n",
    "print('Mean city_development_index Variance : ',x_test['mean_cdi'].var())\n",
    "print('Median city_development_index Variance : ',x_test['median_cdi'].var())\n",
    "\n",
    "print('Original experience Variance : ',x_test['experience'].var())\n",
    "print('Mean experience Variance : ',x_test['mean_ex'].var())\n",
    "print('Median experience Variance : ',x_test['median_ex'].var())\n",
    "\n",
    "print('Original training_hours Variance : ',x_test['training_hours'].var())\n",
    "print('Mean training_hours Variance : ',x_test['mean_th'].var())\n",
    "print('Median training_hours Variance : ',x_test['median_th'].var())\n"
   ],
   "metadata": {
    "collapsed": false
   }
  },
  {
   "cell_type": "code",
   "execution_count": 17,
   "outputs": [],
   "source": [
    "import matplotlib.pyplot as plt"
   ],
   "metadata": {
    "collapsed": false
   }
  },
  {
   "cell_type": "code",
   "execution_count": 18,
   "outputs": [
    {
     "data": {
      "text/plain": "<AxesSubplot:ylabel='Density'>"
     },
     "execution_count": 18,
     "metadata": {},
     "output_type": "execute_result"
    },
    {
     "data": {
      "text/plain": "<Figure size 432x288 with 1 Axes>",
      "image/png": "[encoded data removed]"
     },
     "metadata": {
      "needs_background": "light"
     },
     "output_type": "display_data"
    }
   ],
   "source": [
    "fig=plt.figure()\n",
    "ax=fig.add_subplot(111)\n",
    "# original distribution of age\n",
    "x_train['city_development_index'].plot(kind='kde',ax=ax)\n",
    "\n",
    "#distribution of mean_age\n",
    "x_train['mean_cdi'].plot(kind='kde',ax=ax,color='red')\n",
    "\n",
    "#distribution of median_age\n",
    "x_train['median_cdi'].plot(kind='kde',ax=ax,color='green')"
   ],
   "metadata": {
    "collapsed": false
   }
  },
  {
   "cell_type": "code",
   "execution_count": 19,
   "outputs": [
    {
     "data": {
      "text/plain": "<AxesSubplot:ylabel='Density'>"
     },
     "execution_count": 19,
     "metadata": {},
     "output_type": "execute_result"
    },
    {
     "data": {
      "text/plain": "<Figure size 432x288 with 1 Axes>",
      "image/png": "[encoded data removed]"
     },
     "metadata": {
      "needs_background": "light"
     },
     "output_type": "display_data"
    }
   ],
   "source": [
    "fig=plt.figure()\n",
    "ax=fig.add_subplot(111)\n",
    "# original distribution of age\n",
    "x_train['experience'].plot(kind='kde',ax=ax)\n",
    "\n",
    "#distribution of mean_age\n",
    "x_train['mean_ex'].plot(kind='kde',ax=ax,color='red')\n",
    "\n",
    "#distribution of median_age\n",
    "x_train['median_ex'].plot(kind='kde',ax=ax,color='green')"
   ],
   "metadata": {
    "collapsed": false
   }
  },
  {
   "cell_type": "code",
   "execution_count": 20,
   "outputs": [
    {
     "data": {
      "text/plain": "<AxesSubplot:ylabel='Density'>"
     },
     "execution_count": 20,
     "metadata": {},
     "output_type": "execute_result"
    },
    {
     "data": {
      "text/plain": "<Figure size 432x288 with 1 Axes>",
      "image/png": "[encoded data removed]"
     },
     "metadata": {
      "needs_background": "light"
     },
     "output_type": "display_data"
    }
   ],
   "source": [
    "fig=plt.figure()\n",
    "ax=fig.add_subplot(111)\n",
    "# original distribution of age\n",
    "x_train['training_hours'].plot(kind='kde',ax=ax)\n",
    "\n",
    "#distribution of mean_age\n",
    "x_train['mean_th'].plot(kind='kde',ax=ax,color='red')\n",
    "\n",
    "#distribution of median_age\n",
    "x_train['median_th'].plot(kind='kde',ax=ax,color='green')"
   ],
   "metadata": {
    "collapsed": false
   }
  },
  {
   "cell_type": "code",
   "execution_count": 21,
   "outputs": [
    {
     "data": {
      "text/plain": "                        city_development_index  experience  training_hours  \\\ncity_development_index                0.015491    0.273751       -0.141583   \nexperience                            0.273751   42.494230        1.370739   \ntraining_hours                       -0.141583    1.370739     3464.812384   \nmean_cdi                              0.015491    0.266065       -0.137570   \nmedian_cdi                            0.015491    0.268336       -0.138343   \nmean_th                              -0.136943    1.302659     3464.812384   \nmedian_th                            -0.123059    1.654745     3464.812384   \nmean_ex                               0.272506   42.494230        1.362976   \nmedian_ex                             0.272793   42.494230        1.343144   \n\n                        mean_cdi  median_cdi      mean_th    median_th  \\\ncity_development_index  0.015491    0.015491    -0.136943    -0.123059   \nexperience              0.266065    0.268336     1.302659     1.654745   \ntraining_hours         -0.137570   -0.138343  3464.812384  3464.812384   \nmean_cdi                0.015054    0.015059    -0.133107    -0.119603   \nmedian_cdi              0.015059    0.015213    -0.133868    -0.120010   \nmean_th                -0.133107   -0.133868  3336.378783  3335.810824   \nmedian_th              -0.119603   -0.120010  3335.810824  3347.276916   \nmean_ex                 0.264898    0.267159     1.295906     1.646287   \nmedian_ex               0.265178    0.267447     1.276941     1.624547   \n\n                          mean_ex  median_ex  \ncity_development_index   0.272506   0.272793  \nexperience              42.494230  42.494230  \ntraining_hours           1.362976   1.343144  \nmean_cdi                 0.264898   0.265178  \nmedian_cdi               0.267159   0.267447  \nmean_th                  1.295906   1.276941  \nmedian_th                1.646287   1.624547  \nmean_ex                 42.305623  42.305814  \nmedian_ex               42.305814  42.309734  ",
      "text/html": "<div>\n<style scoped>\n    .dataframe tbody tr th:only-of-type {\n        vertical-align: middle;\n    }\n\n    .dataframe tbody tr th {\n        vertical-align: top;\n    }\n\n    .dataframe thead th {\n        text-align: right;\n    }\n</style>\n<table border=\"1\" class=\"dataframe\">\n  <thead>\n    <tr style=\"text-align: right;\">\n      <th></th>\n      <th>city_development_index</th>\n      <th>experience</th>\n      <th>training_hours</th>\n      <th>mean_cdi</th>\n      <th>median_cdi</th>\n      <th>mean_th</th>\n      <th>median_th</th>\n      <th>mean_ex</th>\n      <th>median_ex</th>\n    </tr>\n  </thead>\n  <tbody>\n    <tr>\n      <th>city_development_index</th>\n      <td>0.015491</td>\n      <td>0.273751</td>\n      <td>-0.141583</td>\n      <td>0.015491</td>\n      <td>0.015491</td>\n      <td>-0.136943</td>\n      <td>-0.123059</td>\n      <td>0.272506</td>\n      <td>0.272793</td>\n    </tr>\n    <tr>\n      <th>experience</th>\n      <td>0.273751</td>\n      <td>42.494230</td>\n      <td>1.370739</td>\n      <td>0.266065</td>\n      <td>0.268336</td>\n      <td>1.302659</td>\n      <td>1.654745</td>\n      <td>42.494230</td>\n      <td>42.494230</td>\n    </tr>\n    <tr>\n      <th>training_hours</th>\n      <td>-0.141583</td>\n      <td>1.370739</td>\n      <td>3464.812384</td>\n      <td>-0.137570</td>\n      <td>-0.138343</td>\n      <td>3464.812384</td>\n      <td>3464.812384</td>\n      <td>1.362976</td>\n      <td>1.343144</td>\n    </tr>\n    <tr>\n      <th>mean_cdi</th>\n      <td>0.015491</td>\n      <td>0.266065</td>\n      <td>-0.137570</td>\n      <td>0.015054</td>\n      <td>0.015059</td>\n      <td>-0.133107</td>\n      <td>-0.119603</td>\n      <td>0.264898</td>\n      <td>0.265178</td>\n    </tr>\n    <tr>\n      <th>median_cdi</th>\n      <td>0.015491</td>\n      <td>0.268336</td>\n      <td>-0.138343</td>\n      <td>0.015059</td>\n      <td>0.015213</td>\n      <td>-0.133868</td>\n      <td>-0.120010</td>\n      <td>0.267159</td>\n      <td>0.267447</td>\n    </tr>\n    <tr>\n      <th>mean_th</th>\n      <td>-0.136943</td>\n      <td>1.302659</td>\n      <td>3464.812384</td>\n      <td>-0.133107</td>\n      <td>-0.133868</td>\n      <td>3336.378783</td>\n      <td>3335.810824</td>\n      <td>1.295906</td>\n      <td>1.276941</td>\n    </tr>\n    <tr>\n      <th>median_th</th>\n      <td>-0.123059</td>\n      <td>1.654745</td>\n      <td>3464.812384</td>\n      <td>-0.119603</td>\n      <td>-0.120010</td>\n      <td>3335.810824</td>\n      <td>3347.276916</td>\n      <td>1.646287</td>\n      <td>1.624547</td>\n    </tr>\n    <tr>\n      <th>mean_ex</th>\n      <td>0.272506</td>\n      <td>42.494230</td>\n      <td>1.362976</td>\n      <td>0.264898</td>\n      <td>0.267159</td>\n      <td>1.295906</td>\n      <td>1.646287</td>\n      <td>42.305623</td>\n      <td>42.305814</td>\n    </tr>\n    <tr>\n      <th>median_ex</th>\n      <td>0.272793</td>\n      <td>42.494230</td>\n      <td>1.343144</td>\n      <td>0.265178</td>\n      <td>0.267447</td>\n      <td>1.276941</td>\n      <td>1.624547</td>\n      <td>42.305814</td>\n      <td>42.309734</td>\n    </tr>\n  </tbody>\n</table>\n</div>"
     },
     "execution_count": 21,
     "metadata": {},
     "output_type": "execute_result"
    }
   ],
   "source": [
    "x_train.cov()"
   ],
   "metadata": {
    "collapsed": false
   }
  },
  {
   "cell_type": "code",
   "execution_count": 22,
   "outputs": [
    {
     "data": {
      "text/plain": "                        city_development_index  experience  training_hours  \\\ncity_development_index                0.015142    0.265214        0.015866   \nexperience                            0.265214   42.276992       -0.730355   \ntraining_hours                        0.015866   -0.730355     3616.853752   \nmean_cdi                              0.015142    0.258810        0.015477   \nmedian_cdi                            0.015142    0.258478        0.014916   \nmean_th                               0.015215   -0.700829     3616.853752   \nmedian_th                             0.018889   -0.552443     3616.853752   \nmean_ex                               0.264399   42.276992       -0.728286   \nmedian_ex                             0.264562   42.276992       -0.746458   \n\n                        mean_cdi  median_cdi      mean_th    median_th  \\\ncity_development_index  0.015142    0.015142     0.015215     0.018889   \nexperience              0.258810    0.258478    -0.700829    -0.552443   \ntraining_hours          0.015477    0.014916  3616.853752  3616.853752   \nmean_cdi                0.014775    0.014775     0.014847     0.018432   \nmedian_cdi              0.014775    0.014903     0.014308     0.018431   \nmean_th                 0.014847    0.014308  3469.593101  3469.593101   \nmedian_th               0.018432    0.018431  3469.593101  3482.758389   \nmean_ex                 0.257999    0.257668    -0.698634    -0.550713   \nmedian_ex               0.258158    0.257823    -0.716066    -0.566994   \n\n                          mean_ex  median_ex  \ncity_development_index   0.264399   0.264562  \nexperience              42.276992  42.276992  \ntraining_hours          -0.728286  -0.746458  \nmean_cdi                 0.257999   0.258158  \nmedian_cdi               0.257668   0.257823  \nmean_th                 -0.698634  -0.716066  \nmedian_th               -0.550713  -0.566994  \nmean_ex                 42.144583  42.144583  \nmedian_ex               42.144583  42.147218  ",
      "text/html": "<div>\n<style scoped>\n    .dataframe tbody tr th:only-of-type {\n        vertical-align: middle;\n    }\n\n    .dataframe tbody tr th {\n        vertical-align: top;\n    }\n\n    .dataframe thead th {\n        text-align: right;\n    }\n</style>\n<table border=\"1\" class=\"dataframe\">\n  <thead>\n    <tr style=\"text-align: right;\">\n      <th></th>\n      <th>city_development_index</th>\n      <th>experience</th>\n      <th>training_hours</th>\n      <th>mean_cdi</th>\n      <th>median_cdi</th>\n      <th>mean_th</th>\n      <th>median_th</th>\n      <th>mean_ex</th>\n      <th>median_ex</th>\n    </tr>\n  </thead>\n  <tbody>\n    <tr>\n      <th>city_development_index</th>\n      <td>0.015142</td>\n      <td>0.265214</td>\n      <td>0.015866</td>\n      <td>0.015142</td>\n      <td>0.015142</td>\n      <td>0.015215</td>\n      <td>0.018889</td>\n      <td>0.264399</td>\n      <td>0.264562</td>\n    </tr>\n    <tr>\n      <th>experience</th>\n      <td>0.265214</td>\n      <td>42.276992</td>\n      <td>-0.730355</td>\n      <td>0.258810</td>\n      <td>0.258478</td>\n      <td>-0.700829</td>\n      <td>-0.552443</td>\n      <td>42.276992</td>\n      <td>42.276992</td>\n    </tr>\n    <tr>\n      <th>training_hours</th>\n      <td>0.015866</td>\n      <td>-0.730355</td>\n      <td>3616.853752</td>\n      <td>0.015477</td>\n      <td>0.014916</td>\n      <td>3616.853752</td>\n      <td>3616.853752</td>\n      <td>-0.728286</td>\n      <td>-0.746458</td>\n    </tr>\n    <tr>\n      <th>mean_cdi</th>\n      <td>0.015142</td>\n      <td>0.258810</td>\n      <td>0.015477</td>\n      <td>0.014775</td>\n      <td>0.014775</td>\n      <td>0.014847</td>\n      <td>0.018432</td>\n      <td>0.257999</td>\n      <td>0.258158</td>\n    </tr>\n    <tr>\n      <th>median_cdi</th>\n      <td>0.015142</td>\n      <td>0.258478</td>\n      <td>0.014916</td>\n      <td>0.014775</td>\n      <td>0.014903</td>\n      <td>0.014308</td>\n      <td>0.018431</td>\n      <td>0.257668</td>\n      <td>0.257823</td>\n    </tr>\n    <tr>\n      <th>mean_th</th>\n      <td>0.015215</td>\n      <td>-0.700829</td>\n      <td>3616.853752</td>\n      <td>0.014847</td>\n      <td>0.014308</td>\n      <td>3469.593101</td>\n      <td>3469.593101</td>\n      <td>-0.698634</td>\n      <td>-0.716066</td>\n    </tr>\n    <tr>\n      <th>median_th</th>\n      <td>0.018889</td>\n      <td>-0.552443</td>\n      <td>3616.853752</td>\n      <td>0.018432</td>\n      <td>0.018431</td>\n      <td>3469.593101</td>\n      <td>3482.758389</td>\n      <td>-0.550713</td>\n      <td>-0.566994</td>\n    </tr>\n    <tr>\n      <th>mean_ex</th>\n      <td>0.264399</td>\n      <td>42.276992</td>\n      <td>-0.728286</td>\n      <td>0.257999</td>\n      <td>0.257668</td>\n      <td>-0.698634</td>\n      <td>-0.550713</td>\n      <td>42.144583</td>\n      <td>42.144583</td>\n    </tr>\n    <tr>\n      <th>median_ex</th>\n      <td>0.264562</td>\n      <td>42.276992</td>\n      <td>-0.746458</td>\n      <td>0.258158</td>\n      <td>0.257823</td>\n      <td>-0.716066</td>\n      <td>-0.566994</td>\n      <td>42.144583</td>\n      <td>42.147218</td>\n    </tr>\n  </tbody>\n</table>\n</div>"
     },
     "execution_count": 22,
     "metadata": {},
     "output_type": "execute_result"
    }
   ],
   "source": [
    "x_test.cov()"
   ],
   "metadata": {
    "collapsed": false
   }
  },
  {
   "cell_type": "code",
   "execution_count": 23,
   "outputs": [
    {
     "data": {
      "text/plain": "                        city_development_index  experience  training_hours  \\\ncity_development_index                1.000000    0.337718       -0.019360   \nexperience                            0.337718    1.000000        0.003575   \ntraining_hours                       -0.019360    0.003575        1.000000   \nmean_cdi                              1.000000    0.332971       -0.019124   \nmedian_cdi                            1.000000    0.334064       -0.019131   \nmean_th                              -0.019012    0.003463        1.000000   \nmedian_th                            -0.017057    0.004392        1.000000   \nmean_ex                               0.336653    1.000000        0.003559   \nmedian_ex                             0.336991    1.000000        0.003508   \n\n                        mean_cdi  median_cdi   mean_th  median_th   mean_ex  \\\ncity_development_index  1.000000    1.000000 -0.019012  -0.017057  0.336653   \nexperience              0.332971    0.334064  0.003463   0.004392  1.000000   \ntraining_hours         -0.019124   -0.019131  1.000000   1.000000  0.003559   \nmean_cdi                1.000000    0.995116 -0.018782  -0.016849  0.331932   \nmedian_cdi              0.995116    1.000000 -0.018790  -0.016818  0.333019   \nmean_th                -0.018782   -0.018790  1.000000   0.998201  0.003449   \nmedian_th              -0.016849   -0.016818  0.998201   1.000000  0.004375   \nmean_ex                 0.331932    0.333019  0.003449   0.004375  1.000000   \nmedian_ex               0.332266    0.333361  0.003399   0.004317  0.999956   \n\n                        median_ex  \ncity_development_index   0.336991  \nexperience               1.000000  \ntraining_hours           0.003508  \nmean_cdi                 0.332266  \nmedian_cdi               0.333361  \nmean_th                  0.003399  \nmedian_th                0.004317  \nmean_ex                  0.999956  \nmedian_ex                1.000000  ",
      "text/html": "<div>\n<style scoped>\n    .dataframe tbody tr th:only-of-type {\n        vertical-align: middle;\n    }\n\n    .dataframe tbody tr th {\n        vertical-align: top;\n    }\n\n    .dataframe thead th {\n        text-align: right;\n    }\n</style>\n<table border=\"1\" class=\"dataframe\">\n  <thead>\n    <tr style=\"text-align: right;\">\n      <th></th>\n      <th>city_development_index</th>\n      <th>experience</th>\n      <th>training_hours</th>\n      <th>mean_cdi</th>\n      <th>median_cdi</th>\n      <th>mean_th</th>\n      <th>median_th</th>\n      <th>mean_ex</th>\n      <th>median_ex</th>\n    </tr>\n  </thead>\n  <tbody>\n    <tr>\n      <th>city_development_index</th>\n      <td>1.000000</td>\n      <td>0.337718</td>\n      <td>-0.019360</td>\n      <td>1.000000</td>\n      <td>1.000000</td>\n      <td>-0.019012</td>\n      <td>-0.017057</td>\n      <td>0.336653</td>\n      <td>0.336991</td>\n    </tr>\n    <tr>\n      <th>experience</th>\n      <td>0.337718</td>\n      <td>1.000000</td>\n      <td>0.003575</td>\n      <td>0.332971</td>\n      <td>0.334064</td>\n      <td>0.003463</td>\n      <td>0.004392</td>\n      <td>1.000000</td>\n      <td>1.000000</td>\n    </tr>\n    <tr>\n      <th>training_hours</th>\n      <td>-0.019360</td>\n      <td>0.003575</td>\n      <td>1.000000</td>\n      <td>-0.019124</td>\n      <td>-0.019131</td>\n      <td>1.000000</td>\n      <td>1.000000</td>\n      <td>0.003559</td>\n      <td>0.003508</td>\n    </tr>\n    <tr>\n      <th>mean_cdi</th>\n      <td>1.000000</td>\n      <td>0.332971</td>\n      <td>-0.019124</td>\n      <td>1.000000</td>\n      <td>0.995116</td>\n      <td>-0.018782</td>\n      <td>-0.016849</td>\n      <td>0.331932</td>\n      <td>0.332266</td>\n    </tr>\n    <tr>\n      <th>median_cdi</th>\n      <td>1.000000</td>\n      <td>0.334064</td>\n      <td>-0.019131</td>\n      <td>0.995116</td>\n      <td>1.000000</td>\n      <td>-0.018790</td>\n      <td>-0.016818</td>\n      <td>0.333019</td>\n      <td>0.333361</td>\n    </tr>\n    <tr>\n      <th>mean_th</th>\n      <td>-0.019012</td>\n      <td>0.003463</td>\n      <td>1.000000</td>\n      <td>-0.018782</td>\n      <td>-0.018790</td>\n      <td>1.000000</td>\n      <td>0.998201</td>\n      <td>0.003449</td>\n      <td>0.003399</td>\n    </tr>\n    <tr>\n      <th>median_th</th>\n      <td>-0.017057</td>\n      <td>0.004392</td>\n      <td>1.000000</td>\n      <td>-0.016849</td>\n      <td>-0.016818</td>\n      <td>0.998201</td>\n      <td>1.000000</td>\n      <td>0.004375</td>\n      <td>0.004317</td>\n    </tr>\n    <tr>\n      <th>mean_ex</th>\n      <td>0.336653</td>\n      <td>1.000000</td>\n      <td>0.003559</td>\n      <td>0.331932</td>\n      <td>0.333019</td>\n      <td>0.003449</td>\n      <td>0.004375</td>\n      <td>1.000000</td>\n      <td>0.999956</td>\n    </tr>\n    <tr>\n      <th>median_ex</th>\n      <td>0.336991</td>\n      <td>1.000000</td>\n      <td>0.003508</td>\n      <td>0.332266</td>\n      <td>0.333361</td>\n      <td>0.003399</td>\n      <td>0.004317</td>\n      <td>0.999956</td>\n      <td>1.000000</td>\n    </tr>\n  </tbody>\n</table>\n</div>"
     },
     "execution_count": 23,
     "metadata": {},
     "output_type": "execute_result"
    }
   ],
   "source": [
    "x_train.corr()"
   ],
   "metadata": {
    "collapsed": false
   }
  },
  {
   "cell_type": "code",
   "execution_count": 24,
   "outputs": [
    {
     "data": {
      "text/plain": "                        city_development_index  experience  training_hours  \\\ncity_development_index                1.000000    0.331895        0.002150   \nexperience                            0.331895    1.000000       -0.001866   \ntraining_hours                        0.002150   -0.001866        1.000000   \nmean_cdi                              1.000000    0.327744        0.002121   \nmedian_cdi                            1.000000    0.325924        0.002035   \nmean_th                               0.002102   -0.001829        1.000000   \nmedian_th                             0.002605   -0.001439        1.000000   \nmean_ex                               0.331093    1.000000       -0.001864   \nmedian_ex                             0.331287    1.000000       -0.001910   \n\n                        mean_cdi  median_cdi   mean_th  median_th   mean_ex  \\\ncity_development_index  1.000000    1.000000  0.002102   0.002605  0.331093   \nexperience              0.327744    0.325924 -0.001829  -0.001439  1.000000   \ntraining_hours          0.002121    0.002035  1.000000   1.000000 -0.001864   \nmean_cdi                1.000000    0.995704  0.002074   0.002569  0.326951   \nmedian_cdi              0.995704    1.000000  0.001990   0.002558  0.325129   \nmean_th                 0.002074    0.001990  1.000000   0.998108 -0.001827   \nmedian_th               0.002569    0.002558  0.998108   1.000000 -0.001437   \nmean_ex                 0.326951    0.325129 -0.001827  -0.001437  1.000000   \nmedian_ex               0.327143    0.325315 -0.001873  -0.001480  0.999969   \n\n                        median_ex  \ncity_development_index   0.331287  \nexperience               1.000000  \ntraining_hours          -0.001910  \nmean_cdi                 0.327143  \nmedian_cdi               0.325315  \nmean_th                 -0.001873  \nmedian_th               -0.001480  \nmean_ex                  0.999969  \nmedian_ex                1.000000  ",
      "text/html": "<div>\n<style scoped>\n    .dataframe tbody tr th:only-of-type {\n        vertical-align: middle;\n    }\n\n    .dataframe tbody tr th {\n        vertical-align: top;\n    }\n\n    .dataframe thead th {\n        text-align: right;\n    }\n</style>\n<table border=\"1\" class=\"dataframe\">\n  <thead>\n    <tr style=\"text-align: right;\">\n      <th></th>\n      <th>city_development_index</th>\n      <th>experience</th>\n      <th>training_hours</th>\n      <th>mean_cdi</th>\n      <th>median_cdi</th>\n      <th>mean_th</th>\n      <th>median_th</th>\n      <th>mean_ex</th>\n      <th>median_ex</th>\n    </tr>\n  </thead>\n  <tbody>\n    <tr>\n      <th>city_development_index</th>\n      <td>1.000000</td>\n      <td>0.331895</td>\n      <td>0.002150</td>\n      <td>1.000000</td>\n      <td>1.000000</td>\n      <td>0.002102</td>\n      <td>0.002605</td>\n      <td>0.331093</td>\n      <td>0.331287</td>\n    </tr>\n    <tr>\n      <th>experience</th>\n      <td>0.331895</td>\n      <td>1.000000</td>\n      <td>-0.001866</td>\n      <td>0.327744</td>\n      <td>0.325924</td>\n      <td>-0.001829</td>\n      <td>-0.001439</td>\n      <td>1.000000</td>\n      <td>1.000000</td>\n    </tr>\n    <tr>\n      <th>training_hours</th>\n      <td>0.002150</td>\n      <td>-0.001866</td>\n      <td>1.000000</td>\n      <td>0.002121</td>\n      <td>0.002035</td>\n      <td>1.000000</td>\n      <td>1.000000</td>\n      <td>-0.001864</td>\n      <td>-0.001910</td>\n    </tr>\n    <tr>\n      <th>mean_cdi</th>\n      <td>1.000000</td>\n      <td>0.327744</td>\n      <td>0.002121</td>\n      <td>1.000000</td>\n      <td>0.995704</td>\n      <td>0.002074</td>\n      <td>0.002569</td>\n      <td>0.326951</td>\n      <td>0.327143</td>\n    </tr>\n    <tr>\n      <th>median_cdi</th>\n      <td>1.000000</td>\n      <td>0.325924</td>\n      <td>0.002035</td>\n      <td>0.995704</td>\n      <td>1.000000</td>\n      <td>0.001990</td>\n      <td>0.002558</td>\n      <td>0.325129</td>\n      <td>0.325315</td>\n    </tr>\n    <tr>\n      <th>mean_th</th>\n      <td>0.002102</td>\n      <td>-0.001829</td>\n      <td>1.000000</td>\n      <td>0.002074</td>\n      <td>0.001990</td>\n      <td>1.000000</td>\n      <td>0.998108</td>\n      <td>-0.001827</td>\n      <td>-0.001873</td>\n    </tr>\n    <tr>\n      <th>median_th</th>\n      <td>0.002605</td>\n      <td>-0.001439</td>\n      <td>1.000000</td>\n      <td>0.002569</td>\n      <td>0.002558</td>\n      <td>0.998108</td>\n      <td>1.000000</td>\n      <td>-0.001437</td>\n      <td>-0.001480</td>\n    </tr>\n    <tr>\n      <th>mean_ex</th>\n      <td>0.331093</td>\n      <td>1.000000</td>\n      <td>-0.001864</td>\n      <td>0.326951</td>\n      <td>0.325129</td>\n      <td>-0.001827</td>\n      <td>-0.001437</td>\n      <td>1.000000</td>\n      <td>0.999969</td>\n    </tr>\n    <tr>\n      <th>median_ex</th>\n      <td>0.331287</td>\n      <td>1.000000</td>\n      <td>-0.001910</td>\n      <td>0.327143</td>\n      <td>0.325315</td>\n      <td>-0.001873</td>\n      <td>-0.001480</td>\n      <td>0.999969</td>\n      <td>1.000000</td>\n    </tr>\n  </tbody>\n</table>\n</div>"
     },
     "execution_count": 24,
     "metadata": {},
     "output_type": "execute_result"
    }
   ],
   "source": [
    "x_test.corr()"
   ],
   "metadata": {
    "collapsed": false
   }
  },
  {
   "cell_type": "code",
   "execution_count": 25,
   "outputs": [
    {
     "data": {
      "text/plain": "<AxesSubplot:>"
     },
     "execution_count": 25,
     "metadata": {},
     "output_type": "execute_result"
    },
    {
     "data": {
      "text/plain": "<Figure size 432x288 with 1 Axes>",
      "image/png": "[encoded data removed]"
     },
     "metadata": {
      "needs_background": "light"
     },
     "output_type": "display_data"
    }
   ],
   "source": [
    "x_train[['city_development_index','mean_cdi','median_cdi']].boxplot()"
   ],
   "metadata": {
    "collapsed": false
   }
  },
  {
   "cell_type": "code",
   "execution_count": 26,
   "outputs": [
    {
     "data": {
      "text/plain": "<AxesSubplot:>"
     },
     "execution_count": 26,
     "metadata": {},
     "output_type": "execute_result"
    },
    {
     "data": {
      "text/plain": "<Figure size 432x288 with 1 Axes>",
      "image/png": "[encoded data removed]"
     },
     "metadata": {
      "needs_background": "light"
     },
     "output_type": "display_data"
    }
   ],
   "source": [
    "x_train[['experience','mean_ex','median_ex']].boxplot()"
   ],
   "metadata": {
    "collapsed": false
   }
  },
  {
   "cell_type": "code",
   "execution_count": 27,
   "outputs": [
    {
     "data": {
      "text/plain": "<AxesSubplot:>"
     },
     "execution_count": 27,
     "metadata": {},
     "output_type": "execute_result"
    },
    {
     "data": {
      "text/plain": "<Figure size 432x288 with 1 Axes>",
      "image/png": "[encoded data removed]"
     },
     "metadata": {
      "needs_background": "light"
     },
     "output_type": "display_data"
    }
   ],
   "source": [
    "x_train[['training_hours','mean_th','median_th']].boxplot()"
   ],
   "metadata": {
    "collapsed": false
   }
  },
  {
   "cell_type": "markdown",
   "source": [
    "## By Sklearn"
   ],
   "metadata": {
    "collapsed": false
   }
  },
  {
   "cell_type": "code",
   "execution_count": 28,
   "outputs": [
    {
     "data": {
      "text/plain": "       city_development_index  experience  training_hours  target\n0                       0.920        20.0            36.0     1.0\n1                       0.776        15.0            47.0     0.0\n2                       0.624         5.0            83.0     0.0\n3                       0.789         0.0            52.0     1.0\n4                       0.767        20.0             8.0     0.0\n...                       ...         ...             ...     ...\n19153                   0.878        14.0            42.0     1.0\n19154                   0.920        14.0            52.0     1.0\n19155                   0.920        20.0            44.0     0.0\n19156                   0.802         0.0            97.0     0.0\n19157                   0.855         2.0           127.0     0.0\n\n[19158 rows x 4 columns]",
      "text/html": "<div>\n<style scoped>\n    .dataframe tbody tr th:only-of-type {\n        vertical-align: middle;\n    }\n\n    .dataframe tbody tr th {\n        vertical-align: top;\n    }\n\n    .dataframe thead th {\n        text-align: right;\n    }\n</style>\n<table border=\"1\" class=\"dataframe\">\n  <thead>\n    <tr style=\"text-align: right;\">\n      <th></th>\n      <th>city_development_index</th>\n      <th>experience</th>\n      <th>training_hours</th>\n      <th>target</th>\n    </tr>\n  </thead>\n  <tbody>\n    <tr>\n      <th>0</th>\n      <td>0.920</td>\n      <td>20.0</td>\n      <td>36.0</td>\n      <td>1.0</td>\n    </tr>\n    <tr>\n      <th>1</th>\n      <td>0.776</td>\n      <td>15.0</td>\n      <td>47.0</td>\n      <td>0.0</td>\n    </tr>\n    <tr>\n      <th>2</th>\n      <td>0.624</td>\n      <td>5.0</td>\n      <td>83.0</td>\n      <td>0.0</td>\n    </tr>\n    <tr>\n      <th>3</th>\n      <td>0.789</td>\n      <td>0.0</td>\n      <td>52.0</td>\n      <td>1.0</td>\n    </tr>\n    <tr>\n      <th>4</th>\n      <td>0.767</td>\n      <td>20.0</td>\n      <td>8.0</td>\n      <td>0.0</td>\n    </tr>\n    <tr>\n      <th>...</th>\n      <td>...</td>\n      <td>...</td>\n      <td>...</td>\n      <td>...</td>\n    </tr>\n    <tr>\n      <th>19153</th>\n      <td>0.878</td>\n      <td>14.0</td>\n      <td>42.0</td>\n      <td>1.0</td>\n    </tr>\n    <tr>\n      <th>19154</th>\n      <td>0.920</td>\n      <td>14.0</td>\n      <td>52.0</td>\n      <td>1.0</td>\n    </tr>\n    <tr>\n      <th>19155</th>\n      <td>0.920</td>\n      <td>20.0</td>\n      <td>44.0</td>\n      <td>0.0</td>\n    </tr>\n    <tr>\n      <th>19156</th>\n      <td>0.802</td>\n      <td>0.0</td>\n      <td>97.0</td>\n      <td>0.0</td>\n    </tr>\n    <tr>\n      <th>19157</th>\n      <td>0.855</td>\n      <td>2.0</td>\n      <td>127.0</td>\n      <td>0.0</td>\n    </tr>\n  </tbody>\n</table>\n<p>19158 rows × 4 columns</p>\n</div>"
     },
     "execution_count": 28,
     "metadata": {},
     "output_type": "execute_result"
    }
   ],
   "source": [
    "df"
   ],
   "metadata": {
    "collapsed": false
   }
  },
  {
   "cell_type": "code",
   "execution_count": 29,
   "outputs": [
    {
     "data": {
      "text/plain": "       city_development_index  experience  training_hours\n7725                    0.920         4.0            56.0\n135                     0.920         NaN            70.0\n3620                    0.920         4.0            52.0\n5413                    0.910         8.0            86.0\n12672                   0.926        20.0            43.0\n...                       ...         ...             ...\n9225                    0.479        10.0            35.0\n13123                   0.624         6.0             NaN\n9845                    0.920         6.0            48.0\n10799                   0.624         2.0            75.0\n2732                    0.910        12.0             3.0\n\n[3831 rows x 3 columns]",
      "text/html": "<div>\n<style scoped>\n    .dataframe tbody tr th:only-of-type {\n        vertical-align: middle;\n    }\n\n    .dataframe tbody tr th {\n        vertical-align: top;\n    }\n\n    .dataframe thead th {\n        text-align: right;\n    }\n</style>\n<table border=\"1\" class=\"dataframe\">\n  <thead>\n    <tr style=\"text-align: right;\">\n      <th></th>\n      <th>city_development_index</th>\n      <th>experience</th>\n      <th>training_hours</th>\n    </tr>\n  </thead>\n  <tbody>\n    <tr>\n      <th>7725</th>\n      <td>0.920</td>\n      <td>4.0</td>\n      <td>56.0</td>\n    </tr>\n    <tr>\n      <th>135</th>\n      <td>0.920</td>\n      <td>NaN</td>\n      <td>70.0</td>\n    </tr>\n    <tr>\n      <th>3620</th>\n      <td>0.920</td>\n      <td>4.0</td>\n      <td>52.0</td>\n    </tr>\n    <tr>\n      <th>5413</th>\n      <td>0.910</td>\n      <td>8.0</td>\n      <td>86.0</td>\n    </tr>\n    <tr>\n      <th>12672</th>\n      <td>0.926</td>\n      <td>20.0</td>\n      <td>43.0</td>\n    </tr>\n    <tr>\n      <th>...</th>\n      <td>...</td>\n      <td>...</td>\n      <td>...</td>\n    </tr>\n    <tr>\n      <th>9225</th>\n      <td>0.479</td>\n      <td>10.0</td>\n      <td>35.0</td>\n    </tr>\n    <tr>\n      <th>13123</th>\n      <td>0.624</td>\n      <td>6.0</td>\n      <td>NaN</td>\n    </tr>\n    <tr>\n      <th>9845</th>\n      <td>0.920</td>\n      <td>6.0</td>\n      <td>48.0</td>\n    </tr>\n    <tr>\n      <th>10799</th>\n      <td>0.624</td>\n      <td>2.0</td>\n      <td>75.0</td>\n    </tr>\n    <tr>\n      <th>2732</th>\n      <td>0.910</td>\n      <td>12.0</td>\n      <td>3.0</td>\n    </tr>\n  </tbody>\n</table>\n<p>3831 rows × 3 columns</p>\n</div>"
     },
     "execution_count": 29,
     "metadata": {},
     "output_type": "execute_result"
    }
   ],
   "source": [
    "X_train,X_test,Y_train,Y_test=train_test_split(df.drop('target',axis=1),df['target'],train_size=0.2,random_state=0)\n",
    "X_train"
   ],
   "metadata": {
    "collapsed": false
   }
  },
  {
   "cell_type": "code",
   "execution_count": 30,
   "outputs": [],
   "source": [
    "from sklearn.impute import SimpleImputer"
   ],
   "metadata": {
    "collapsed": false
   }
  },
  {
   "cell_type": "code",
   "execution_count": 31,
   "outputs": [],
   "source": [
    "impute1=SimpleImputer(strategy='mean')\n",
    "impute2=SimpleImputer(strategy='median')"
   ],
   "metadata": {
    "collapsed": false
   }
  },
  {
   "cell_type": "code",
   "execution_count": 32,
   "outputs": [],
   "source": [
    "from sklearn.compose import ColumnTransformer"
   ],
   "metadata": {
    "collapsed": false
   }
  },
  {
   "cell_type": "code",
   "execution_count": 33,
   "outputs": [],
   "source": [
    "trf=ColumnTransformer([\n",
    "    ('mean_cdi',impute1,['city_development_index']),\n",
    "    ('mean_ex',impute1,['experience']),\n",
    "    ('mean_th',impute1,['training_hours']),\n",
    "    ('median_cdi',impute2,['city_development_index']),\n",
    "    ('median_ex',impute2,['experience']),\n",
    "    ('median_th',impute2,['training_hours'])\n",
    "],remainder='passthrough')"
   ],
   "metadata": {
    "collapsed": false
   }
  },
  {
   "cell_type": "code",
   "execution_count": 34,
   "outputs": [
    {
     "data": {
      "text/plain": "ColumnTransformer(remainder='passthrough',\n                  transformers=[('mean_cdi', SimpleImputer(),\n                                 ['city_development_index']),\n                                ('mean_ex', SimpleImputer(), ['experience']),\n                                ('mean_th', SimpleImputer(),\n                                 ['training_hours']),\n                                ('median_cdi', SimpleImputer(strategy='median'),\n                                 ['city_development_index']),\n                                ('median_ex', SimpleImputer(strategy='median'),\n                                 ['experience']),\n                                ('median_th', SimpleImputer(strategy='median'),\n                                 ['training_hours'])])"
     },
     "execution_count": 34,
     "metadata": {},
     "output_type": "execute_result"
    }
   ],
   "source": [
    "trf.fit(X_train)"
   ],
   "metadata": {
    "collapsed": false
   }
  },
  {
   "cell_type": "code",
   "execution_count": 35,
   "outputs": [
    {
     "data": {
      "text/plain": "array([0.82694682])"
     },
     "execution_count": 35,
     "metadata": {},
     "output_type": "execute_result"
    }
   ],
   "source": [
    "trf.named_transformers_['mean_cdi'].statistics_"
   ],
   "metadata": {
    "collapsed": false
   }
  },
  {
   "cell_type": "code",
   "execution_count": 36,
   "outputs": [
    {
     "data": {
      "text/plain": "array([9.96565286])"
     },
     "execution_count": 36,
     "metadata": {},
     "output_type": "execute_result"
    }
   ],
   "source": [
    "trf.named_transformers_['mean_ex'].statistics_"
   ],
   "metadata": {
    "collapsed": false
   }
  },
  {
   "cell_type": "code",
   "execution_count": 37,
   "outputs": [
    {
     "data": {
      "text/plain": "array([64.49308756])"
     },
     "execution_count": 37,
     "metadata": {},
     "output_type": "execute_result"
    }
   ],
   "source": [
    "trf.named_transformers_['mean_th'].statistics_"
   ],
   "metadata": {
    "collapsed": false
   }
  },
  {
   "cell_type": "code",
   "execution_count": 38,
   "outputs": [
    {
     "data": {
      "text/plain": "array([0.903])"
     },
     "execution_count": 38,
     "metadata": {},
     "output_type": "execute_result"
    }
   ],
   "source": [
    "trf.named_transformers_['median_cdi'].statistics_"
   ],
   "metadata": {
    "collapsed": false
   }
  },
  {
   "cell_type": "code",
   "execution_count": 39,
   "outputs": [
    {
     "data": {
      "text/plain": "array([9.])"
     },
     "execution_count": 39,
     "metadata": {},
     "output_type": "execute_result"
    }
   ],
   "source": [
    "trf.named_transformers_['median_ex'].statistics_"
   ],
   "metadata": {
    "collapsed": false
   }
  },
  {
   "cell_type": "code",
   "execution_count": 40,
   "outputs": [
    {
     "data": {
      "text/plain": "array([47.])"
     },
     "execution_count": 40,
     "metadata": {},
     "output_type": "execute_result"
    }
   ],
   "source": [
    "trf.named_transformers_['median_th'].statistics_"
   ],
   "metadata": {
    "collapsed": false
   }
  },
  {
   "cell_type": "code",
   "execution_count": 41,
   "outputs": [],
   "source": [
    "X_train=trf.transform(X_train)\n",
    "X_test=trf.transform(X_test)"
   ],
   "metadata": {
    "collapsed": false
   }
  },
  {
   "cell_type": "code",
   "execution_count": 42,
   "outputs": [
    {
     "data": {
      "text/plain": "array([[ 0.92      ,  4.        , 56.        ,  0.92      ,  4.        ,\n        56.        ],\n       [ 0.92      ,  9.96565286, 70.        ,  0.92      ,  9.        ,\n        70.        ],\n       [ 0.92      ,  4.        , 52.        ,  0.92      ,  4.        ,\n        52.        ],\n       ...,\n       [ 0.92      ,  6.        , 48.        ,  0.92      ,  6.        ,\n        48.        ],\n       [ 0.624     ,  2.        , 75.        ,  0.624     ,  2.        ,\n        75.        ],\n       [ 0.91      , 12.        ,  3.        ,  0.91      , 12.        ,\n         3.        ]])"
     },
     "execution_count": 42,
     "metadata": {},
     "output_type": "execute_result"
    }
   ],
   "source": [
    "X_train"
   ],
   "metadata": {
    "collapsed": false
   }
  },
  {
   "cell_type": "code",
   "execution_count": 43,
   "outputs": [
    {
     "data": {
      "text/plain": "array([[  0.939,  17.   ,  57.   ,   0.939,  17.   ,  57.   ],\n       [  0.92 ,  10.   , 129.   ,   0.92 ,  10.   , 129.   ],\n       [  0.926,   2.   ,  48.   ,   0.926,   2.   ,  48.   ],\n       ...,\n       [  0.92 ,  12.   ,  72.   ,   0.92 ,  12.   ,  72.   ],\n       [  0.698,   7.   , 192.   ,   0.698,   7.   , 192.   ],\n       [  0.92 ,  20.   ,  69.   ,   0.92 ,  20.   ,  69.   ]])"
     },
     "execution_count": 43,
     "metadata": {},
     "output_type": "execute_result"
    }
   ],
   "source": [
    "X_test"
   ],
   "metadata": {
    "collapsed": false
   }
  },
  {
   "cell_type": "code",
   "execution_count": 100,
   "outputs": [
    {
     "ename": "AttributeError",
     "evalue": "'numpy.ndarray' object has no attribute 'isnull'",
     "output_type": "error",
     "traceback": [
      "\u001B[0;31m---------------------------------------------------------------------------\u001B[0m",
      "\u001B[0;31mAttributeError\u001B[0m                            Traceback (most recent call last)",
      "\u001B[0;32m/var/folders/s3/4kpzh0nx7x153pw1sgm5hmd00000gn/T/ipykernel_45220/1727954975.py\u001B[0m in \u001B[0;36m<module>\u001B[0;34m\u001B[0m\n\u001B[1;32m      1\u001B[0m \u001B[0;31m#X_train=pd.DataFrame(X_train).rename(columns={0:'city_development_index',1:'experience',2:'training_hours',3:})\u001B[0m\u001B[0;34m\u001B[0m\u001B[0;34m\u001B[0m\u001B[0m\n\u001B[0;32m----> 2\u001B[0;31m \u001B[0mX_train\u001B[0m\u001B[0;34m.\u001B[0m\u001B[0misnull\u001B[0m\u001B[0;34m(\u001B[0m\u001B[0;34m)\u001B[0m\u001B[0;34m.\u001B[0m\u001B[0msum\u001B[0m\u001B[0;34m(\u001B[0m\u001B[0;34m)\u001B[0m\u001B[0;34m\u001B[0m\u001B[0;34m\u001B[0m\u001B[0m\n\u001B[0m",
      "\u001B[0;31mAttributeError\u001B[0m: 'numpy.ndarray' object has no attribute 'isnull'"
     ]
    }
   ],
   "source": [
    "#X_train=pd.DataFrame(X_train).rename(columns={0:'city_development_index',1:'experience',2:'training_hours',3:})\n",
    "X_train.isnull().sum()"
   ],
   "metadata": {
    "collapsed": false
   }
  },
  {
   "cell_type": "code",
   "execution_count": null,
   "outputs": [],
   "source": [],
   "metadata": {
    "collapsed": false
   }
  }
 ],
 "metadata": {
  "kernelspec": {
   "display_name": "Python 3",
   "language": "python",
   "name": "python3"
  },
  "language_info": {
   "codemirror_mode": {
    "name": "ipython",
    "version": 2
   },
   "file_extension": ".py",
   "mimetype": "text/x-python",
   "name": "python",
   "nbconvert_exporter": "python",
   "pygments_lexer": "ipython2",
   "version": "2.7.6"
  }
 },
 "nbformat": 4,
 "nbformat_minor": 0
}
