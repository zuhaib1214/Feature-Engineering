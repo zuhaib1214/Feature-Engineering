{
 "cells": [
  {
   "cell_type": "code",
   "execution_count": 2,
   "metadata": {
    "collapsed": true
   },
   "outputs": [],
   "source": [
    "import pandas as pd\n",
    "import numpy as np\n",
    "import seaborn as sns\n",
    "import matplotlib.pyplot as plt\n"
   ]
  },
  {
   "cell_type": "code",
   "execution_count": 3,
   "outputs": [],
   "source": [
    "df=pd.read_csv('weight.csv')"
   ],
   "metadata": {
    "collapsed": false
   }
  },
  {
   "cell_type": "code",
   "execution_count": 4,
   "outputs": [
    {
     "data": {
      "text/plain": "  Gender     Height      Weight\n0   Male  73.847017  241.893563\n1   Male  68.781904  162.310473\n2   Male  74.110105  212.740856\n3   Male  71.730978  220.042470\n4   Male  69.881796  206.349801\n5   Male  67.253016  152.212156\n6   Male  68.785081  183.927889\n7   Male  68.348516  167.971110\n8   Male  67.018950  175.929440\n9   Male  63.456494  156.399676",
      "text/html": "<div>\n<style scoped>\n    .dataframe tbody tr th:only-of-type {\n        vertical-align: middle;\n    }\n\n    .dataframe tbody tr th {\n        vertical-align: top;\n    }\n\n    .dataframe thead th {\n        text-align: right;\n    }\n</style>\n<table border=\"1\" class=\"dataframe\">\n  <thead>\n    <tr style=\"text-align: right;\">\n      <th></th>\n      <th>Gender</th>\n      <th>Height</th>\n      <th>Weight</th>\n    </tr>\n  </thead>\n  <tbody>\n    <tr>\n      <th>0</th>\n      <td>Male</td>\n      <td>73.847017</td>\n      <td>241.893563</td>\n    </tr>\n    <tr>\n      <th>1</th>\n      <td>Male</td>\n      <td>68.781904</td>\n      <td>162.310473</td>\n    </tr>\n    <tr>\n      <th>2</th>\n      <td>Male</td>\n      <td>74.110105</td>\n      <td>212.740856</td>\n    </tr>\n    <tr>\n      <th>3</th>\n      <td>Male</td>\n      <td>71.730978</td>\n      <td>220.042470</td>\n    </tr>\n    <tr>\n      <th>4</th>\n      <td>Male</td>\n      <td>69.881796</td>\n      <td>206.349801</td>\n    </tr>\n    <tr>\n      <th>5</th>\n      <td>Male</td>\n      <td>67.253016</td>\n      <td>152.212156</td>\n    </tr>\n    <tr>\n      <th>6</th>\n      <td>Male</td>\n      <td>68.785081</td>\n      <td>183.927889</td>\n    </tr>\n    <tr>\n      <th>7</th>\n      <td>Male</td>\n      <td>68.348516</td>\n      <td>167.971110</td>\n    </tr>\n    <tr>\n      <th>8</th>\n      <td>Male</td>\n      <td>67.018950</td>\n      <td>175.929440</td>\n    </tr>\n    <tr>\n      <th>9</th>\n      <td>Male</td>\n      <td>63.456494</td>\n      <td>156.399676</td>\n    </tr>\n  </tbody>\n</table>\n</div>"
     },
     "execution_count": 4,
     "metadata": {},
     "output_type": "execute_result"
    }
   ],
   "source": [
    "df.head(10)"
   ],
   "metadata": {
    "collapsed": false
   }
  },
  {
   "cell_type": "code",
   "execution_count": 5,
   "outputs": [
    {
     "data": {
      "text/plain": "count    10000.000000\nmean        66.367560\nstd          3.847528\nmin         54.263133\n25%         63.505620\n50%         66.318070\n75%         69.174262\nmax         78.998742\nName: Height, dtype: float64"
     },
     "execution_count": 5,
     "metadata": {},
     "output_type": "execute_result"
    }
   ],
   "source": [
    "df['Height'].describe()"
   ],
   "metadata": {
    "collapsed": false
   }
  },
  {
   "cell_type": "code",
   "execution_count": 6,
   "outputs": [
    {
     "name": "stderr",
     "output_type": "stream",
     "text": [
      "C:\\Users\\zuhai\\anaconda3\\lib\\site-packages\\seaborn\\distributions.py:2619: FutureWarning: `distplot` is a deprecated function and will be removed in a future version. Please adapt your code to use either `displot` (a figure-level function with similar flexibility) or `histplot` (an axes-level function for histograms).\n",
      "  warnings.warn(msg, FutureWarning)\n"
     ]
    },
    {
     "data": {
      "text/plain": "<AxesSubplot:xlabel='Height', ylabel='Density'>"
     },
     "execution_count": 6,
     "metadata": {},
     "output_type": "execute_result"
    },
    {
     "data": {
      "text/plain": "<Figure size 432x288 with 1 Axes>",
      "image/png": "[encoded data removed]"
     },
     "metadata": {},
     "output_type": "display_data"
    }
   ],
   "source": [
    "sns.distplot(df['Height'])"
   ],
   "metadata": {
    "collapsed": false
   }
  },
  {
   "cell_type": "code",
   "execution_count": 7,
   "outputs": [
    {
     "name": "stderr",
     "output_type": "stream",
     "text": [
      "C:\\Users\\zuhai\\anaconda3\\lib\\site-packages\\seaborn\\_decorators.py:36: FutureWarning: Pass the following variable as a keyword arg: x. From version 0.12, the only valid positional argument will be `data`, and passing other arguments without an explicit keyword will result in an error or misinterpretation.\n",
      "  warnings.warn(\n"
     ]
    },
    {
     "data": {
      "text/plain": "<AxesSubplot:xlabel='Height'>"
     },
     "execution_count": 7,
     "metadata": {},
     "output_type": "execute_result"
    },
    {
     "data": {
      "text/plain": "<Figure size 432x288 with 1 Axes>",
      "image/png": "[encoded data removed]"
     },
     "metadata": {},
     "output_type": "display_data"
    }
   ],
   "source": [
    "sns.boxplot(df['Height'])"
   ],
   "metadata": {
    "collapsed": false
   }
  },
  {
   "cell_type": "markdown",
   "source": [
    "# defining threshold"
   ],
   "metadata": {
    "collapsed": false
   }
  },
  {
   "cell_type": "code",
   "execution_count": 8,
   "outputs": [],
   "source": [
    "upper_limit=df['Height'].quantile(0.99)"
   ],
   "metadata": {
    "collapsed": false
   }
  },
  {
   "cell_type": "code",
   "execution_count": 9,
   "outputs": [],
   "source": [
    "lower_limit=df['Height'].quantile(0.001)"
   ],
   "metadata": {
    "collapsed": false
   }
  },
  {
   "cell_type": "code",
   "execution_count": 10,
   "outputs": [
    {
     "data": {
      "text/plain": "74.7857900583366"
     },
     "execution_count": 10,
     "metadata": {},
     "output_type": "execute_result"
    }
   ],
   "source": [
    "upper_limit"
   ],
   "metadata": {
    "collapsed": false
   }
  },
  {
   "cell_type": "code",
   "execution_count": 11,
   "outputs": [
    {
     "data": {
      "text/plain": "56.06654891162125"
     },
     "execution_count": 11,
     "metadata": {},
     "output_type": "execute_result"
    }
   ],
   "source": [
    "lower_limit"
   ],
   "metadata": {
    "collapsed": false
   }
  },
  {
   "cell_type": "markdown",
   "source": [
    "### remember agr aap upr sa 1 percent chor rha ho upper limit sa 1 percent chor rha ho to nicha sa b 1 hi choro ga"
   ],
   "metadata": {
    "collapsed": false
   }
  },
  {
   "cell_type": "markdown",
   "source": [
    "# Trimming"
   ],
   "metadata": {
    "collapsed": false
   }
  },
  {
   "cell_type": "code",
   "execution_count": 17,
   "outputs": [],
   "source": [
    "new_df= df[(df['Height']<= upper_limit)&(df['Height']>=lower_limit)]"
   ],
   "metadata": {
    "collapsed": false
   }
  },
  {
   "cell_type": "code",
   "execution_count": 18,
   "outputs": [
    {
     "data": {
      "text/plain": "  Gender     Height      Weight\n0   Male  73.847017  241.893563\n1   Male  68.781904  162.310473\n2   Male  74.110105  212.740856\n3   Male  71.730978  220.042470\n4   Male  69.881796  206.349801\n5   Male  67.253016  152.212156\n6   Male  68.785081  183.927889\n7   Male  68.348516  167.971110\n8   Male  67.018950  175.929440\n9   Male  63.456494  156.399676",
      "text/html": "<div>\n<style scoped>\n    .dataframe tbody tr th:only-of-type {\n        vertical-align: middle;\n    }\n\n    .dataframe tbody tr th {\n        vertical-align: top;\n    }\n\n    .dataframe thead th {\n        text-align: right;\n    }\n</style>\n<table border=\"1\" class=\"dataframe\">\n  <thead>\n    <tr style=\"text-align: right;\">\n      <th></th>\n      <th>Gender</th>\n      <th>Height</th>\n      <th>Weight</th>\n    </tr>\n  </thead>\n  <tbody>\n    <tr>\n      <th>0</th>\n      <td>Male</td>\n      <td>73.847017</td>\n      <td>241.893563</td>\n    </tr>\n    <tr>\n      <th>1</th>\n      <td>Male</td>\n      <td>68.781904</td>\n      <td>162.310473</td>\n    </tr>\n    <tr>\n      <th>2</th>\n      <td>Male</td>\n      <td>74.110105</td>\n      <td>212.740856</td>\n    </tr>\n    <tr>\n      <th>3</th>\n      <td>Male</td>\n      <td>71.730978</td>\n      <td>220.042470</td>\n    </tr>\n    <tr>\n      <th>4</th>\n      <td>Male</td>\n      <td>69.881796</td>\n      <td>206.349801</td>\n    </tr>\n    <tr>\n      <th>5</th>\n      <td>Male</td>\n      <td>67.253016</td>\n      <td>152.212156</td>\n    </tr>\n    <tr>\n      <th>6</th>\n      <td>Male</td>\n      <td>68.785081</td>\n      <td>183.927889</td>\n    </tr>\n    <tr>\n      <th>7</th>\n      <td>Male</td>\n      <td>68.348516</td>\n      <td>167.971110</td>\n    </tr>\n    <tr>\n      <th>8</th>\n      <td>Male</td>\n      <td>67.018950</td>\n      <td>175.929440</td>\n    </tr>\n    <tr>\n      <th>9</th>\n      <td>Male</td>\n      <td>63.456494</td>\n      <td>156.399676</td>\n    </tr>\n  </tbody>\n</table>\n</div>"
     },
     "execution_count": 18,
     "metadata": {},
     "output_type": "execute_result"
    }
   ],
   "source": [
    "new_df.head(10)"
   ],
   "metadata": {
    "collapsed": false
   }
  },
  {
   "cell_type": "code",
   "execution_count": 19,
   "outputs": [
    {
     "data": {
      "text/plain": "count    9890.000000\nmean       66.282137\nstd         3.728946\nmin        56.066636\n25%        63.486920\n50%        66.269778\n75%        69.089440\nmax        74.785714\nName: Height, dtype: float64"
     },
     "execution_count": 19,
     "metadata": {},
     "output_type": "execute_result"
    }
   ],
   "source": [
    "new_df['Height'].describe()"
   ],
   "metadata": {
    "collapsed": false
   }
  },
  {
   "cell_type": "code",
   "execution_count": 20,
   "outputs": [
    {
     "name": "stderr",
     "output_type": "stream",
     "text": [
      "C:\\Users\\zuhai\\anaconda3\\lib\\site-packages\\seaborn\\distributions.py:2619: FutureWarning: `distplot` is a deprecated function and will be removed in a future version. Please adapt your code to use either `displot` (a figure-level function with similar flexibility) or `histplot` (an axes-level function for histograms).\n",
      "  warnings.warn(msg, FutureWarning)\n"
     ]
    },
    {
     "data": {
      "text/plain": "<AxesSubplot:xlabel='Height', ylabel='Density'>"
     },
     "execution_count": 20,
     "metadata": {},
     "output_type": "execute_result"
    },
    {
     "data": {
      "text/plain": "<Figure size 432x288 with 1 Axes>",
      "image/png": "[encoded data removed]"
     },
     "metadata": {},
     "output_type": "display_data"
    }
   ],
   "source": [
    "sns.distplot(new_df['Height'])"
   ],
   "metadata": {
    "collapsed": false
   }
  },
  {
   "cell_type": "code",
   "execution_count": 21,
   "outputs": [
    {
     "name": "stderr",
     "output_type": "stream",
     "text": [
      "C:\\Users\\zuhai\\anaconda3\\lib\\site-packages\\seaborn\\_decorators.py:36: FutureWarning: Pass the following variable as a keyword arg: x. From version 0.12, the only valid positional argument will be `data`, and passing other arguments without an explicit keyword will result in an error or misinterpretation.\n",
      "  warnings.warn(\n"
     ]
    },
    {
     "data": {
      "text/plain": "<AxesSubplot:xlabel='Height'>"
     },
     "execution_count": 21,
     "metadata": {},
     "output_type": "execute_result"
    },
    {
     "data": {
      "text/plain": "<Figure size 432x288 with 1 Axes>",
      "image/png": "[encoded data removed]"
     },
     "metadata": {},
     "output_type": "display_data"
    }
   ],
   "source": [
    "sns.boxplot(new_df['Height'])"
   ],
   "metadata": {
    "collapsed": false
   }
  },
  {
   "cell_type": "markdown",
   "source": [
    "# capping/ winsorization"
   ],
   "metadata": {
    "collapsed": false
   }
  },
  {
   "cell_type": "code",
   "execution_count": 22,
   "outputs": [],
   "source": [
    "df['Height']=np.where(df['Height']>=upper_limit,upper_limit,np.where(df['Height']<lower_limit,lower_limit,df['Height']))"
   ],
   "metadata": {
    "collapsed": false
   }
  },
  {
   "cell_type": "code",
   "execution_count": 23,
   "outputs": [
    {
     "data": {
      "text/plain": "count    10000.000000\nmean        66.356958\nstd          3.817595\nmin         56.066549\n25%         63.505620\n50%         66.318070\n75%         69.174262\nmax         74.785790\nName: Height, dtype: float64"
     },
     "execution_count": 23,
     "metadata": {},
     "output_type": "execute_result"
    }
   ],
   "source": [
    "df['Height'].describe()"
   ],
   "metadata": {
    "collapsed": false
   }
  },
  {
   "cell_type": "code",
   "execution_count": 24,
   "outputs": [
    {
     "name": "stderr",
     "output_type": "stream",
     "text": [
      "C:\\Users\\zuhai\\anaconda3\\lib\\site-packages\\seaborn\\_decorators.py:36: FutureWarning: Pass the following variable as a keyword arg: x. From version 0.12, the only valid positional argument will be `data`, and passing other arguments without an explicit keyword will result in an error or misinterpretation.\n",
      "  warnings.warn(\n"
     ]
    },
    {
     "data": {
      "text/plain": "<AxesSubplot:xlabel='Height'>"
     },
     "execution_count": 24,
     "metadata": {},
     "output_type": "execute_result"
    },
    {
     "data": {
      "text/plain": "<Figure size 432x288 with 1 Axes>",
      "image/png": "[encoded data removed]"
     },
     "metadata": {},
     "output_type": "display_data"
    }
   ],
   "source": [
    "sns.boxplot(df['Height'])"
   ],
   "metadata": {
    "collapsed": false
   }
  },
  {
   "cell_type": "code",
   "execution_count": null,
   "outputs": [],
   "source": [],
   "metadata": {
    "collapsed": false
   }
  }
 ],
 "metadata": {
  "kernelspec": {
   "display_name": "Python 3",
   "language": "python",
   "name": "python3"
  },
  "language_info": {
   "codemirror_mode": {
    "name": "ipython",
    "version": 2
   },
   "file_extension": ".py",
   "mimetype": "text/x-python",
   "name": "python",
   "nbconvert_exporter": "python",
   "pygments_lexer": "ipython2",
   "version": "2.7.6"
  }
 },
 "nbformat": 4,
 "nbformat_minor": 0
}
