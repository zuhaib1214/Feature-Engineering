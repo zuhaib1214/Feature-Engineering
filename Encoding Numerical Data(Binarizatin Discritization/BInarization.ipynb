{
 "cells": [
  {
   "cell_type": "code",
   "execution_count": 34,
   "id": "1d4d1857",
   "metadata": {},
   "outputs": [],
   "source": [
    "import numpy as np\n",
    "import pandas as pd"
   ]
  },
  {
   "cell_type": "code",
   "execution_count": 35,
   "id": "af3aa0c0",
   "metadata": {},
   "outputs": [],
   "source": [
    "from sklearn.model_selection import train_test_split,cross_val_score\n",
    "from sklearn.tree import DecisionTreeClassifier\n",
    "\n",
    "from sklearn.metrics import accuracy_score\n",
    "\n",
    "from sklearn.compose import ColumnTransformer"
   ]
  },
  {
   "cell_type": "code",
   "execution_count": 36,
   "id": "83ef9228",
   "metadata": {},
   "outputs": [],
   "source": [
    "df = pd.read_csv('titanic.csv')[['Age','Fare','SibSp','Parch','Survived']]"
   ]
  },
  {
   "cell_type": "code",
   "execution_count": 37,
   "id": "4d9cdf3a",
   "metadata": {},
   "outputs": [],
   "source": [
    "df.dropna(inplace=True)"
   ]
  },
  {
   "cell_type": "code",
   "execution_count": 38,
   "id": "56e28c1c",
   "metadata": {},
   "outputs": [
    {
     "data": {
      "text/plain": "    Age     Fare  SibSp  Parch  Survived\n0  22.0   7.2500      1      0         0\n1  38.0  71.2833      1      0         1\n2  26.0   7.9250      0      0         1\n3  35.0  53.1000      1      0         1\n4  35.0   8.0500      0      0         0",
      "text/html": "<div>\n<style scoped>\n    .dataframe tbody tr th:only-of-type {\n        vertical-align: middle;\n    }\n\n    .dataframe tbody tr th {\n        vertical-align: top;\n    }\n\n    .dataframe thead th {\n        text-align: right;\n    }\n</style>\n<table border=\"1\" class=\"dataframe\">\n  <thead>\n    <tr style=\"text-align: right;\">\n      <th></th>\n      <th>Age</th>\n      <th>Fare</th>\n      <th>SibSp</th>\n      <th>Parch</th>\n      <th>Survived</th>\n    </tr>\n  </thead>\n  <tbody>\n    <tr>\n      <th>0</th>\n      <td>22.0</td>\n      <td>7.2500</td>\n      <td>1</td>\n      <td>0</td>\n      <td>0</td>\n    </tr>\n    <tr>\n      <th>1</th>\n      <td>38.0</td>\n      <td>71.2833</td>\n      <td>1</td>\n      <td>0</td>\n      <td>1</td>\n    </tr>\n    <tr>\n      <th>2</th>\n      <td>26.0</td>\n      <td>7.9250</td>\n      <td>0</td>\n      <td>0</td>\n      <td>1</td>\n    </tr>\n    <tr>\n      <th>3</th>\n      <td>35.0</td>\n      <td>53.1000</td>\n      <td>1</td>\n      <td>0</td>\n      <td>1</td>\n    </tr>\n    <tr>\n      <th>4</th>\n      <td>35.0</td>\n      <td>8.0500</td>\n      <td>0</td>\n      <td>0</td>\n      <td>0</td>\n    </tr>\n  </tbody>\n</table>\n</div>"
     },
     "execution_count": 38,
     "metadata": {},
     "output_type": "execute_result"
    }
   ],
   "source": [
    "df.head()"
   ]
  },
  {
   "cell_type": "code",
   "execution_count": 39,
   "id": "555cd48c",
   "metadata": {},
   "outputs": [],
   "source": [
    "df['family'] = df['SibSp'] + df['Parch']"
   ]
  },
  {
   "cell_type": "code",
   "execution_count": 40,
   "id": "bd3f12f8",
   "metadata": {},
   "outputs": [
    {
     "data": {
      "text/plain": "    Age     Fare  SibSp  Parch  Survived  family\n0  22.0   7.2500      1      0         0       1\n1  38.0  71.2833      1      0         1       1\n2  26.0   7.9250      0      0         1       0\n3  35.0  53.1000      1      0         1       1\n4  35.0   8.0500      0      0         0       0",
      "text/html": "<div>\n<style scoped>\n    .dataframe tbody tr th:only-of-type {\n        vertical-align: middle;\n    }\n\n    .dataframe tbody tr th {\n        vertical-align: top;\n    }\n\n    .dataframe thead th {\n        text-align: right;\n    }\n</style>\n<table border=\"1\" class=\"dataframe\">\n  <thead>\n    <tr style=\"text-align: right;\">\n      <th></th>\n      <th>Age</th>\n      <th>Fare</th>\n      <th>SibSp</th>\n      <th>Parch</th>\n      <th>Survived</th>\n      <th>family</th>\n    </tr>\n  </thead>\n  <tbody>\n    <tr>\n      <th>0</th>\n      <td>22.0</td>\n      <td>7.2500</td>\n      <td>1</td>\n      <td>0</td>\n      <td>0</td>\n      <td>1</td>\n    </tr>\n    <tr>\n      <th>1</th>\n      <td>38.0</td>\n      <td>71.2833</td>\n      <td>1</td>\n      <td>0</td>\n      <td>1</td>\n      <td>1</td>\n    </tr>\n    <tr>\n      <th>2</th>\n      <td>26.0</td>\n      <td>7.9250</td>\n      <td>0</td>\n      <td>0</td>\n      <td>1</td>\n      <td>0</td>\n    </tr>\n    <tr>\n      <th>3</th>\n      <td>35.0</td>\n      <td>53.1000</td>\n      <td>1</td>\n      <td>0</td>\n      <td>1</td>\n      <td>1</td>\n    </tr>\n    <tr>\n      <th>4</th>\n      <td>35.0</td>\n      <td>8.0500</td>\n      <td>0</td>\n      <td>0</td>\n      <td>0</td>\n      <td>0</td>\n    </tr>\n  </tbody>\n</table>\n</div>"
     },
     "execution_count": 40,
     "metadata": {},
     "output_type": "execute_result"
    }
   ],
   "source": [
    "df.head()"
   ]
  },
  {
   "cell_type": "code",
   "execution_count": 41,
   "id": "03bc8805",
   "metadata": {},
   "outputs": [],
   "source": [
    "df.drop(columns=['SibSp','Parch'],inplace=True)"
   ]
  },
  {
   "cell_type": "code",
   "execution_count": 42,
   "id": "92214151",
   "metadata": {},
   "outputs": [
    {
     "data": {
      "text/plain": "    Age     Fare  Survived  family\n0  22.0   7.2500         0       1\n1  38.0  71.2833         1       1\n2  26.0   7.9250         1       0\n3  35.0  53.1000         1       1\n4  35.0   8.0500         0       0",
      "text/html": "<div>\n<style scoped>\n    .dataframe tbody tr th:only-of-type {\n        vertical-align: middle;\n    }\n\n    .dataframe tbody tr th {\n        vertical-align: top;\n    }\n\n    .dataframe thead th {\n        text-align: right;\n    }\n</style>\n<table border=\"1\" class=\"dataframe\">\n  <thead>\n    <tr style=\"text-align: right;\">\n      <th></th>\n      <th>Age</th>\n      <th>Fare</th>\n      <th>Survived</th>\n      <th>family</th>\n    </tr>\n  </thead>\n  <tbody>\n    <tr>\n      <th>0</th>\n      <td>22.0</td>\n      <td>7.2500</td>\n      <td>0</td>\n      <td>1</td>\n    </tr>\n    <tr>\n      <th>1</th>\n      <td>38.0</td>\n      <td>71.2833</td>\n      <td>1</td>\n      <td>1</td>\n    </tr>\n    <tr>\n      <th>2</th>\n      <td>26.0</td>\n      <td>7.9250</td>\n      <td>1</td>\n      <td>0</td>\n    </tr>\n    <tr>\n      <th>3</th>\n      <td>35.0</td>\n      <td>53.1000</td>\n      <td>1</td>\n      <td>1</td>\n    </tr>\n    <tr>\n      <th>4</th>\n      <td>35.0</td>\n      <td>8.0500</td>\n      <td>0</td>\n      <td>0</td>\n    </tr>\n  </tbody>\n</table>\n</div>"
     },
     "execution_count": 42,
     "metadata": {},
     "output_type": "execute_result"
    }
   ],
   "source": [
    "df.head()"
   ]
  },
  {
   "cell_type": "code",
   "execution_count": 43,
   "outputs": [
    {
     "data": {
      "text/plain": "      Age      Fare  Survived  family\n841  16.0   10.5000         0       0\n870  26.0    7.8958         0       0\n597  49.0    0.0000         0       0\n604  35.0   26.5500         1       0\n509  26.0   56.4958         1       0\n..    ...       ...       ...     ...\n50    7.0   39.6875         0       5\n118  24.0  247.5208         0       1\n599  49.0   56.9292         1       1\n216  27.0    7.9250         1       0\n164   1.0   39.6875         0       5\n\n[100 rows x 4 columns]",
      "text/html": "<div>\n<style scoped>\n    .dataframe tbody tr th:only-of-type {\n        vertical-align: middle;\n    }\n\n    .dataframe tbody tr th {\n        vertical-align: top;\n    }\n\n    .dataframe thead th {\n        text-align: right;\n    }\n</style>\n<table border=\"1\" class=\"dataframe\">\n  <thead>\n    <tr style=\"text-align: right;\">\n      <th></th>\n      <th>Age</th>\n      <th>Fare</th>\n      <th>Survived</th>\n      <th>family</th>\n    </tr>\n  </thead>\n  <tbody>\n    <tr>\n      <th>841</th>\n      <td>16.0</td>\n      <td>10.5000</td>\n      <td>0</td>\n      <td>0</td>\n    </tr>\n    <tr>\n      <th>870</th>\n      <td>26.0</td>\n      <td>7.8958</td>\n      <td>0</td>\n      <td>0</td>\n    </tr>\n    <tr>\n      <th>597</th>\n      <td>49.0</td>\n      <td>0.0000</td>\n      <td>0</td>\n      <td>0</td>\n    </tr>\n    <tr>\n      <th>604</th>\n      <td>35.0</td>\n      <td>26.5500</td>\n      <td>1</td>\n      <td>0</td>\n    </tr>\n    <tr>\n      <th>509</th>\n      <td>26.0</td>\n      <td>56.4958</td>\n      <td>1</td>\n      <td>0</td>\n    </tr>\n    <tr>\n      <th>...</th>\n      <td>...</td>\n      <td>...</td>\n      <td>...</td>\n      <td>...</td>\n    </tr>\n    <tr>\n      <th>50</th>\n      <td>7.0</td>\n      <td>39.6875</td>\n      <td>0</td>\n      <td>5</td>\n    </tr>\n    <tr>\n      <th>118</th>\n      <td>24.0</td>\n      <td>247.5208</td>\n      <td>0</td>\n      <td>1</td>\n    </tr>\n    <tr>\n      <th>599</th>\n      <td>49.0</td>\n      <td>56.9292</td>\n      <td>1</td>\n      <td>1</td>\n    </tr>\n    <tr>\n      <th>216</th>\n      <td>27.0</td>\n      <td>7.9250</td>\n      <td>1</td>\n      <td>0</td>\n    </tr>\n    <tr>\n      <th>164</th>\n      <td>1.0</td>\n      <td>39.6875</td>\n      <td>0</td>\n      <td>5</td>\n    </tr>\n  </tbody>\n</table>\n<p>100 rows × 4 columns</p>\n</div>"
     },
     "execution_count": 43,
     "metadata": {},
     "output_type": "execute_result"
    }
   ],
   "source": [
    "df.sample(100)"
   ],
   "metadata": {
    "collapsed": false
   }
  },
  {
   "cell_type": "markdown",
   "id": "b9bff692",
   "metadata": {},
   "source": [
    "\n",
    "# train test split"
   ]
  },
  {
   "cell_type": "code",
   "execution_count": 44,
   "id": "a8a6151e",
   "metadata": {},
   "outputs": [],
   "source": [
    "X = df.drop(columns=['Survived'])\n",
    "y = df['Survived']"
   ]
  },
  {
   "cell_type": "code",
   "execution_count": 45,
   "id": "64bd47bf",
   "metadata": {},
   "outputs": [],
   "source": [
    "X_train,X_test,y_train,y_test = train_test_split(X,y,test_size=0.2,random_state=42)"
   ]
  },
  {
   "cell_type": "code",
   "execution_count": 46,
   "id": "d2bd6120",
   "metadata": {},
   "outputs": [
    {
     "data": {
      "text/plain": "      Age     Fare  family\n328  31.0  20.5250       2\n73   26.0  14.4542       1\n253  30.0  16.1000       1\n719  33.0   7.7750       0\n666  25.0  13.0000       0",
      "text/html": "<div>\n<style scoped>\n    .dataframe tbody tr th:only-of-type {\n        vertical-align: middle;\n    }\n\n    .dataframe tbody tr th {\n        vertical-align: top;\n    }\n\n    .dataframe thead th {\n        text-align: right;\n    }\n</style>\n<table border=\"1\" class=\"dataframe\">\n  <thead>\n    <tr style=\"text-align: right;\">\n      <th></th>\n      <th>Age</th>\n      <th>Fare</th>\n      <th>family</th>\n    </tr>\n  </thead>\n  <tbody>\n    <tr>\n      <th>328</th>\n      <td>31.0</td>\n      <td>20.5250</td>\n      <td>2</td>\n    </tr>\n    <tr>\n      <th>73</th>\n      <td>26.0</td>\n      <td>14.4542</td>\n      <td>1</td>\n    </tr>\n    <tr>\n      <th>253</th>\n      <td>30.0</td>\n      <td>16.1000</td>\n      <td>1</td>\n    </tr>\n    <tr>\n      <th>719</th>\n      <td>33.0</td>\n      <td>7.7750</td>\n      <td>0</td>\n    </tr>\n    <tr>\n      <th>666</th>\n      <td>25.0</td>\n      <td>13.0000</td>\n      <td>0</td>\n    </tr>\n  </tbody>\n</table>\n</div>"
     },
     "execution_count": 46,
     "metadata": {},
     "output_type": "execute_result"
    }
   ],
   "source": [
    "X_train.head()"
   ]
  },
  {
   "cell_type": "code",
   "execution_count": 47,
   "id": "69c30a41",
   "metadata": {},
   "outputs": [
    {
     "data": {
      "text/plain": "62.23776223776224"
     },
     "execution_count": 47,
     "metadata": {},
     "output_type": "execute_result"
    }
   ],
   "source": [
    "# Without binarization\n",
    "\n",
    "clf = DecisionTreeClassifier()\n",
    "\n",
    "clf.fit(X_train,y_train)\n",
    "\n",
    "y_pred = clf.predict(X_test)\n",
    "\n",
    "accuracy_score(y_test,y_pred)*100"
   ]
  },
  {
   "cell_type": "code",
   "execution_count": 48,
   "id": "5ce4537f",
   "metadata": {},
   "outputs": [
    {
     "data": {
      "text/plain": "64.85328638497651"
     },
     "execution_count": 48,
     "metadata": {},
     "output_type": "execute_result"
    }
   ],
   "source": [
    "np.mean(cross_val_score(DecisionTreeClassifier(),X,y,cv=10,scoring='accuracy'))*100"
   ]
  },
  {
   "cell_type": "markdown",
   "id": "5bee651e",
   "metadata": {},
   "source": [
    "# Applying binarization"
   ]
  },
  {
   "cell_type": "code",
   "execution_count": 59,
   "id": "e72bce74",
   "metadata": {},
   "outputs": [],
   "source": [
    "# Applying Binarization\n",
    "\n",
    "from sklearn.preprocessing import Binarizer"
   ]
  },
  {
   "cell_type": "code",
   "execution_count": 60,
   "id": "3d790f44",
   "metadata": {},
   "outputs": [],
   "source": [
    "trf = ColumnTransformer([\n",
    "    ('bin',Binarizer(threshold=0,copy=False),['family'])\n",
    "],remainder='passthrough')"
   ]
  },
  {
   "cell_type": "code",
   "execution_count": 53,
   "id": "4d61a0bc",
   "metadata": {},
   "outputs": [],
   "source": [
    "X_train_trf = trf.fit_transform(X_train)\n",
    "X_test_trf = trf.transform(X_test)"
   ]
  },
  {
   "cell_type": "code",
   "execution_count": 54,
   "id": "b742dd80",
   "metadata": {},
   "outputs": [
    {
     "data": {
      "text/plain": "     family   Age      Fare\n0       1.0  31.0   20.5250\n1       1.0  26.0   14.4542\n2       1.0  30.0   16.1000\n3       0.0  33.0    7.7750\n4       0.0  25.0   13.0000\n..      ...   ...       ...\n566     1.0  46.0   61.1750\n567     0.0  25.0   13.0000\n568     0.0  41.0  134.5000\n569     1.0  33.0   20.5250\n570     0.0  33.0    7.8958\n\n[571 rows x 3 columns]",
      "text/html": "<div>\n<style scoped>\n    .dataframe tbody tr th:only-of-type {\n        vertical-align: middle;\n    }\n\n    .dataframe tbody tr th {\n        vertical-align: top;\n    }\n\n    .dataframe thead th {\n        text-align: right;\n    }\n</style>\n<table border=\"1\" class=\"dataframe\">\n  <thead>\n    <tr style=\"text-align: right;\">\n      <th></th>\n      <th>family</th>\n      <th>Age</th>\n      <th>Fare</th>\n    </tr>\n  </thead>\n  <tbody>\n    <tr>\n      <th>0</th>\n      <td>1.0</td>\n      <td>31.0</td>\n      <td>20.5250</td>\n    </tr>\n    <tr>\n      <th>1</th>\n      <td>1.0</td>\n      <td>26.0</td>\n      <td>14.4542</td>\n    </tr>\n    <tr>\n      <th>2</th>\n      <td>1.0</td>\n      <td>30.0</td>\n      <td>16.1000</td>\n    </tr>\n    <tr>\n      <th>3</th>\n      <td>0.0</td>\n      <td>33.0</td>\n      <td>7.7750</td>\n    </tr>\n    <tr>\n      <th>4</th>\n      <td>0.0</td>\n      <td>25.0</td>\n      <td>13.0000</td>\n    </tr>\n    <tr>\n      <th>...</th>\n      <td>...</td>\n      <td>...</td>\n      <td>...</td>\n    </tr>\n    <tr>\n      <th>566</th>\n      <td>1.0</td>\n      <td>46.0</td>\n      <td>61.1750</td>\n    </tr>\n    <tr>\n      <th>567</th>\n      <td>0.0</td>\n      <td>25.0</td>\n      <td>13.0000</td>\n    </tr>\n    <tr>\n      <th>568</th>\n      <td>0.0</td>\n      <td>41.0</td>\n      <td>134.5000</td>\n    </tr>\n    <tr>\n      <th>569</th>\n      <td>1.0</td>\n      <td>33.0</td>\n      <td>20.5250</td>\n    </tr>\n    <tr>\n      <th>570</th>\n      <td>0.0</td>\n      <td>33.0</td>\n      <td>7.8958</td>\n    </tr>\n  </tbody>\n</table>\n<p>571 rows × 3 columns</p>\n</div>"
     },
     "execution_count": 54,
     "metadata": {},
     "output_type": "execute_result"
    }
   ],
   "source": [
    "pd.DataFrame(X_train_trf,columns=['family','Age','Fare'])"
   ]
  },
  {
   "cell_type": "code",
   "execution_count": 55,
   "id": "f67a7409",
   "metadata": {},
   "outputs": [
    {
     "data": {
      "text/plain": "61.53846153846154"
     },
     "execution_count": 55,
     "metadata": {},
     "output_type": "execute_result"
    }
   ],
   "source": [
    "clf = DecisionTreeClassifier()\n",
    "clf.fit(X_train_trf,y_train)\n",
    "y_pred2 = clf.predict(X_test_trf)\n",
    "\n",
    "accuracy_score(y_test,y_pred2)*100"
   ]
  },
  {
   "cell_type": "code",
   "execution_count": 56,
   "id": "cf21eb5e",
   "metadata": {},
   "outputs": [
    {
     "data": {
      "text/plain": "63.32159624413146"
     },
     "execution_count": 56,
     "metadata": {},
     "output_type": "execute_result"
    }
   ],
   "source": [
    "X_trf = trf.fit_transform(X)\n",
    "np.mean(cross_val_score(DecisionTreeClassifier(),X_trf,y,cv=10,scoring='accuracy'))*100"
   ]
  },
  {
   "cell_type": "code",
   "execution_count": null,
   "id": "9f94fa60",
   "metadata": {},
   "outputs": [],
   "source": []
  }
 ],
 "metadata": {
  "kernelspec": {
   "display_name": "Python 3 (ipykernel)",
   "language": "python",
   "name": "python3"
  },
  "language_info": {
   "codemirror_mode": {
    "name": "ipython",
    "version": 3
   },
   "file_extension": ".py",
   "mimetype": "text/x-python",
   "name": "python",
   "nbconvert_exporter": "python",
   "pygments_lexer": "ipython3",
   "version": "3.10.4"
  }
 },
 "nbformat": 4,
 "nbformat_minor": 5
}
